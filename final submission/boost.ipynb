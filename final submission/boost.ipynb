{
 "cells": [
  {
   "cell_type": "code",
   "execution_count": 1,
   "metadata": {},
   "outputs": [
    {
     "name": "stderr",
     "output_type": "stream",
     "text": [
      "/Users/fanxu/anaconda2/envs/my-rdkit-env/lib/python2.7/site-packages/sklearn/cross_validation.py:41: DeprecationWarning: This module was deprecated in version 0.18 in favor of the model_selection module into which all the refactored classes and functions are moved. Also note that the interface of the new CV iterators are different from that of this module. This module will be removed in 0.20.\n",
      "  \"This module will be removed in 0.20.\", DeprecationWarning)\n"
     ]
    }
   ],
   "source": [
    "import os\n",
    "import csv \n",
    "import sys \n",
    "import numpy as np\n",
    "from scipy import sparse\n",
    "from collections import Counter\n",
    "import xgboost as xgb\n",
    "\n",
    "try:\n",
    "    import xml.etree.cElementTree as ET\n",
    "except ImportError:\n",
    "    import xml.etree.ElementTree as ET\n",
    "\n",
    "\n",
    "from sklearn.cross_validation import cross_val_score\n",
    "from sklearn.feature_extraction.text import TfidfVectorizer\n",
    "\n",
    "import util"
   ]
  },
  {
   "cell_type": "code",
   "execution_count": 2,
   "metadata": {},
   "outputs": [],
   "source": [
    "import csv \n",
    "import sys \n",
    "\n",
    "def reorder_submission(file_to_reorder, newfile_name = \"experiment_results.csv\"):\n",
    "    # READ IN KEYS IN CORRECT ORDER AS LIST\n",
    "    with open('keys.csv','r') as f:\n",
    "        keyreader = csv.reader(f)\n",
    "        keys = [key[0] for key in keyreader]\n",
    "\n",
    "    # READ IN ALL PREDICTIONS, REGARDLESS OF ORDER\n",
    "    with open(file_to_reorder) as f:\n",
    "        oldfile_reader = csv.reader(f)\n",
    "        D = {}\n",
    "        for i,row in enumerate(oldfile_reader):\n",
    "            if i == 0:\n",
    "                continue\n",
    "            _id, pred = row \n",
    "            D[_id] = pred\n",
    "\n",
    "    # WRITE PREDICTIONS IN NEW ORDER\n",
    "    with open(newfile_name,'wb') as f:\n",
    "        writer = csv.writer(f)\n",
    "        writer.writerow(('Id','Prediction'))\n",
    "        for key in keys:\n",
    "            writer.writerow((key,D[key]))\n",
    "\n",
    "    print(\"\".join([\"Reordered \", file_to_reorder,\" and wrote to \", newfile_name]))"
   ]
  },
  {
   "cell_type": "code",
   "execution_count": 3,
   "metadata": {},
   "outputs": [],
   "source": [
    "X_train = sparse.load_npz(\"X_train.npz\")\n",
    "t_train = np.load(\"t_train.npy\")\n",
    "train_ids = np.load(\"train_ids.npy\")"
   ]
  },
  {
   "cell_type": "code",
   "execution_count": 4,
   "metadata": {},
   "outputs": [
    {
     "name": "stdout",
     "output_type": "stream",
     "text": [
      "(3086, 29813)\n",
      "(3086,)\n"
     ]
    }
   ],
   "source": [
    "print X_train.shape\n",
    "print train_ids.shape"
   ]
  },
  {
   "cell_type": "code",
   "execution_count": 60,
   "metadata": {},
   "outputs": [],
   "source": [
    "X_test = sparse.load_npz(\"X_test.npz\")\n",
    "test_ids = np.load(\"test_ids.npy\")"
   ]
  },
  {
   "cell_type": "code",
   "execution_count": 6,
   "metadata": {},
   "outputs": [
    {
     "name": "stdout",
     "output_type": "stream",
     "text": [
      "(3724, 29813)\n",
      "(3724,)\n"
     ]
    }
   ],
   "source": [
    "print X_test.shape\n",
    "print test_ids.shape"
   ]
  },
  {
   "cell_type": "code",
   "execution_count": 7,
   "metadata": {},
   "outputs": [
    {
     "data": {
      "text/plain": [
       "(3086, 15)"
      ]
     },
     "execution_count": 7,
     "metadata": {},
     "output_type": "execute_result"
    }
   ],
   "source": [
    "y_train = np.zeros((len(t_train),len(util.malware_classes)))\n",
    "y_train[np.arange(len(t_train)), t_train] = 1\n",
    "y_train.shape"
   ]
  },
  {
   "cell_type": "code",
   "execution_count": 8,
   "metadata": {},
   "outputs": [],
   "source": [
    "# X_train_bkup = X_train"
   ]
  },
  {
   "cell_type": "code",
   "execution_count": 9,
   "metadata": {},
   "outputs": [],
   "source": [
    "# X_test_bkup = X_test"
   ]
  },
  {
   "cell_type": "code",
   "execution_count": 10,
   "metadata": {},
   "outputs": [],
   "source": [
    "X_train = X_train_bkup\n",
    "X_test = X_test_bkup"
   ]
  },
  {
   "cell_type": "code",
   "execution_count": 15,
   "metadata": {},
   "outputs": [
    {
     "name": "stdout",
     "output_type": "stream",
     "text": [
      "[ 8 12 10 ..., 13 10 10]\n"
     ]
    }
   ],
   "source": [
    "print t_train"
   ]
  },
  {
   "cell_type": "code",
   "execution_count": 33,
   "metadata": {},
   "outputs": [
    {
     "name": "stdout",
     "output_type": "stream",
     "text": [
      "[0]\ttrain-merror:0.116657+0.00914223\ttest-merror:0.129954+0.0238309\n",
      "[1]\ttrain-merror:0.125811+0.0201362\ttest-merror:0.15101+0.0241221\n",
      "[2]\ttrain-merror:0.0827126+0.0035979\ttest-merror:0.118284+0.0194618\n",
      "[3]\ttrain-merror:0.0753406+0.00615803\ttest-merror:0.113747+0.0157347\n",
      "[4]\ttrain-merror:0.067483+0.00854467\ttest-merror:0.112774+0.0149518\n",
      "[5]\ttrain-merror:0.0603542+0.00828676\ttest-merror:0.111155+0.0151997\n",
      "[6]\ttrain-merror:0.0531434+0.00680629\ttest-merror:0.108885+0.0160606\n",
      "[7]\ttrain-merror:0.0468246+0.00629489\ttest-merror:0.108562+0.0149649\n",
      "[8]\ttrain-merror:0.0435032+0.00553464\ttest-merror:0.105645+0.0126147\n",
      "[9]\ttrain-merror:0.0391282+0.0052149\ttest-merror:0.10856+0.0112754\n",
      "[10]\ttrain-merror:0.036941+0.00490272\ttest-merror:0.107264+0.010216\n",
      "[11]\ttrain-merror:0.0353208+0.00490988\ttest-merror:0.104023+0.0111452\n",
      "[12]\ttrain-merror:0.0326476+0.00392488\ttest-merror:0.105968+0.0113001\n",
      "[13]\ttrain-merror:0.0307844+0.00328253\ttest-merror:0.106615+0.0113321\n",
      "[14]\ttrain-merror:0.028597+0.00272009\ttest-merror:0.102726+0.0111982\n",
      "[15]\ttrain-merror:0.027139+0.0028321\ttest-merror:0.103699+0.0111727\n",
      "[16]\ttrain-merror:0.0254376+0.00317489\ttest-merror:0.104671+0.0111092\n",
      "[17]\ttrain-merror:0.0236552+0.00328777\ttest-merror:0.102079+0.0111248\n",
      "[18]\ttrain-merror:0.022602+0.00349831\ttest-merror:0.103375+0.0114263\n",
      "[19]\ttrain-merror:0.020901+0.00309218\ttest-merror:0.102727+0.0121036\n",
      "[20]\ttrain-merror:0.0192806+0.00256973\ttest-merror:0.103699+0.0129579\n",
      "[21]\ttrain-merror:0.0186324+0.00285191\ttest-merror:0.104347+0.0121044\n",
      "[22]\ttrain-merror:0.0175794+0.0023554\ttest-merror:0.104672+0.0127833\n",
      "[23]\ttrain-merror:0.0165262+0.00216398\ttest-merror:0.103699+0.0119455\n",
      "[24]\ttrain-merror:0.0159592+0.00202629\ttest-merror:0.104023+0.0128936\n",
      "[25]\ttrain-merror:0.0154732+0.00160744\ttest-merror:0.102727+0.0109167\n",
      "[26]\ttrain-merror:0.0149062+0.00152439\ttest-merror:0.103699+0.0116367\n"
     ]
    }
   ],
   "source": [
    "param = {'max_depth':2, 'eta':1, 'silent':1, 'objective':'multi:softprob', 'num_class':15 }\n",
    "dtrain = xgb.DMatrix(X_train, label = t_train)\n",
    "dtest = xgb.DMatrix(X_test)\n",
    "num_round = 2\n",
    "bst = xgb.train(param, dtrain, num_round)\n",
    "cv = xgb.cv(param, dtrain, 999, nfold=5, early_stopping_rounds=10, verbose_eval=1)\n",
    "# make prediction\n",
    "# preds = bst.predict(dtest)\n",
    "# print preds"
   ]
  },
  {
   "cell_type": "code",
   "execution_count": 19,
   "metadata": {},
   "outputs": [
    {
     "name": "stdout",
     "output_type": "stream",
     "text": [
      "making predictions...\n"
     ]
    }
   ],
   "source": [
    "print \"making predictions...\"\n",
    "results = np.argmax(preds, axis=1)"
   ]
  },
  {
   "cell_type": "code",
   "execution_count": 20,
   "metadata": {},
   "outputs": [
    {
     "data": {
      "image/png": "[encoded data removed]",
      "text/plain": [
       "<matplotlib.figure.Figure at 0x11691f050>"
      ]
     },
     "metadata": {},
     "output_type": "display_data"
    }
   ],
   "source": [
    "import matplotlib.pyplot as plt\n",
    "%matplotlib inline\n",
    "plt.hist(results, bins=15, normed = True)\n",
    "plt.show()"
   ]
  },
  {
   "cell_type": "code",
   "execution_count": 37,
   "metadata": {},
   "outputs": [
    {
     "name": "stdout",
     "output_type": "stream",
     "text": [
      "Test params: 2, 2, 0.05, 1, 0.5\n"
     ]
    },
    {
     "name": "stderr",
     "output_type": "stream",
     "text": [
      "/Users/fanxu/anaconda2/envs/my-rdkit-env/lib/python2.7/site-packages/ipykernel_launcher.py:18: FutureWarning: 'argmin' is deprecated. Use 'idxmin' instead. The behavior of 'argmin' will be corrected to return the positional minimum in the future. Use 'series.values.argmin' to get the position of the minimum now.\n"
     ]
    },
    {
     "name": "stdout",
     "output_type": "stream",
     "text": [
      "\ttest-merror 0.116666 for 29 rounds\n",
      "Test params: 2, 2, 0.05, 1, 1\n",
      "\ttest-merror 0.1085652 for 116 rounds\n",
      "Test params: 2, 2, 0.05, 2, 0.5\n",
      "\ttest-merror 0.1046756 for 132 rounds\n",
      "Test params: 2, 2, 0.05, 2, 1\n",
      "\ttest-merror 0.1182866 for 17 rounds\n",
      "Test params: 2, 2, 0.1, 1, 0.5\n",
      "\ttest-merror 0.1004634 for 87 rounds\n",
      "Test params: 2, 2, 0.1, 1, 1\n",
      "\ttest-merror 0.1030542 for 95 rounds\n",
      "Test params: 2, 2, 0.1, 2, 0.5\n",
      "\ttest-merror 0.1017588 for 100 rounds\n",
      "Test params: 2, 2, 0.1, 2, 1\n",
      "\ttest-merror 0.1150464 for 27 rounds\n",
      "Test params: 2, 2, 0.15, 1, 0.5\n",
      "\ttest-merror 0.1007872 for 66 rounds\n",
      "Test params: 2, 2, 0.15, 1, 1\n",
      "\ttest-merror 0.1011102 for 85 rounds\n",
      "Test params: 2, 2, 0.15, 2, 0.5\n",
      "\ttest-merror 0.1166668 for 11 rounds\n",
      "Test params: 2, 2, 0.15, 2, 1\n",
      "\ttest-merror 0.0998146 for 93 rounds\n",
      "Test params: 2, 2, 0.2, 1, 0.5\n",
      "\ttest-merror 0.1017596 for 38 rounds\n",
      "Test params: 2, 2, 0.2, 1, 1\n",
      "\ttest-merror 0.1001388 for 75 rounds\n",
      "Test params: 2, 2, 0.2, 2, 0.5\n",
      "\ttest-merror 0.0962486 for 74 rounds\n",
      "Test params: 2, 2, 0.2, 2, 1\n",
      "\ttest-merror 0.0972226 for 82 rounds\n",
      "Test params: 2, 4, 0.05, 1, 0.5\n",
      "\ttest-merror 0.1049984 for 31 rounds\n",
      "Test params: 2, 4, 0.05, 1, 1\n",
      "\ttest-merror 0.1066198 for 34 rounds\n",
      "Test params: 2, 4, 0.05, 2, 0.5\n",
      "\ttest-merror 0.0981958 for 108 rounds\n",
      "Test params: 2, 4, 0.05, 2, 1\n",
      "\ttest-merror 0.105648 for 64 rounds\n",
      "Test params: 2, 4, 0.1, 1, 0.5\n",
      "\ttest-merror 0.093983 for 68 rounds\n",
      "Test params: 2, 4, 0.1, 1, 1\n",
      "\ttest-merror 0.0975456 for 42 rounds\n",
      "Test params: 2, 4, 0.1, 2, 0.5\n",
      "\ttest-merror 0.100463 for 44 rounds\n",
      "Test params: 2, 4, 0.1, 2, 1\n",
      "\ttest-merror 0.0965744 for 65 rounds\n",
      "Test params: 2, 4, 0.15, 1, 0.5\n",
      "\ttest-merror 0.0933316 for 49 rounds\n",
      "Test params: 2, 4, 0.15, 1, 1\n",
      "\ttest-merror 0.0962502 for 40 rounds\n",
      "Test params: 2, 4, 0.15, 2, 0.5\n",
      "\ttest-merror 0.094306 for 54 rounds\n",
      "Test params: 2, 4, 0.15, 2, 1\n",
      "\ttest-merror 0.0949542 for 41 rounds\n",
      "Test params: 2, 4, 0.2, 1, 0.5\n",
      "\ttest-merror 0.0952776 for 24 rounds\n",
      "Test params: 2, 4, 0.2, 1, 1\n",
      "\ttest-merror 0.0956006 for 31 rounds\n",
      "Test params: 2, 4, 0.2, 2, 0.5\n",
      "\ttest-merror 0.0985182 for 34 rounds\n",
      "Test params: 2, 4, 0.2, 2, 1\n",
      "\ttest-merror 0.0981946 for 28 rounds\n",
      "Test params: 2, 6, 0.05, 1, 0.5\n",
      "\ttest-merror 0.1014342 for 30 rounds\n",
      "Test params: 2, 6, 0.05, 1, 1\n",
      "\ttest-merror 0.1040268 for 20 rounds\n",
      "Test params: 2, 6, 0.05, 2, 0.5\n",
      "\ttest-merror 0.1040276 for 39 rounds\n",
      "Test params: 2, 6, 0.05, 2, 1\n",
      "\ttest-merror 0.1014362 for 58 rounds\n",
      "Test params: 2, 6, 0.1, 1, 0.5\n",
      "\ttest-merror 0.0956018 for 59 rounds\n",
      "Test params: 2, 6, 0.1, 1, 1\n",
      "\ttest-merror 0.095602 for 40 rounds\n",
      "Test params: 2, 6, 0.1, 2, 0.5\n",
      "\ttest-merror 0.0985198 for 40 rounds\n",
      "Test params: 2, 6, 0.1, 2, 1\n",
      "\ttest-merror 0.103704 for 18 rounds\n",
      "Test params: 2, 6, 0.15, 1, 0.5\n",
      "\ttest-merror 0.0965732 for 30 rounds\n",
      "Test params: 2, 6, 0.15, 1, 1\n",
      "\ttest-merror 0.0949526 for 31 rounds\n",
      "Test params: 2, 6, 0.15, 2, 0.5\n",
      "\ttest-merror 0.0975456 for 33 rounds\n",
      "Test params: 2, 6, 0.15, 2, 1\n",
      "\ttest-merror 0.1017588 for 25 rounds\n",
      "Test params: 2, 6, 0.2, 1, 0.5\n",
      "\ttest-merror 0.0962482 for 21 rounds\n",
      "Test params: 2, 6, 0.2, 1, 1\n",
      "\ttest-merror 0.093334 for 25 rounds\n",
      "Test params: 2, 6, 0.2, 2, 0.5\n",
      "\ttest-merror 0.097548 for 36 rounds\n",
      "Test params: 2, 6, 0.2, 2, 1\n",
      "\ttest-merror 0.097222 for 39 rounds\n",
      "Test params: 6, 2, 0.05, 1, 0.5\n",
      "\ttest-merror 0.116666 for 29 rounds\n",
      "Test params: 2, 2, 0.05, 1, 1\n",
      "\ttest-merror 0.1085652 for 116 rounds\n",
      "Test params: 2, 2, 0.05, 2, 0.5\n"
     ]
    },
    {
     "ename": "KeyboardInterrupt",
     "evalue": "",
     "output_type": "error",
     "traceback": [
      "\u001b[0;31m---------------------------------------------------------------------------\u001b[0m",
      "\u001b[0;31mKeyboardInterrupt\u001b[0m                         Traceback (most recent call last)",
      "\u001b[0;32m<ipython-input-37-f47408f9405e>\u001b[0m in \u001b[0;36m<module>\u001b[0;34m()\u001b[0m\n\u001b[1;32m     14\u001b[0m                     \u001b[0mbst\u001b[0m \u001b[0;34m=\u001b[0m \u001b[0mxgb\u001b[0m\u001b[0;34m.\u001b[0m\u001b[0mtrain\u001b[0m\u001b[0;34m(\u001b[0m\u001b[0mparam\u001b[0m\u001b[0;34m,\u001b[0m \u001b[0mdtrain\u001b[0m\u001b[0;34m,\u001b[0m \u001b[0mnum_round\u001b[0m\u001b[0;34m)\u001b[0m\u001b[0;34m\u001b[0m\u001b[0m\n\u001b[1;32m     15\u001b[0m \u001b[0;34m\u001b[0m\u001b[0m\n\u001b[0;32m---> 16\u001b[0;31m                     \u001b[0mcv\u001b[0m \u001b[0;34m=\u001b[0m \u001b[0mxgb\u001b[0m\u001b[0;34m.\u001b[0m\u001b[0mcv\u001b[0m\u001b[0;34m(\u001b[0m\u001b[0mparam\u001b[0m\u001b[0;34m,\u001b[0m \u001b[0mdtrain\u001b[0m\u001b[0;34m,\u001b[0m \u001b[0;36m999\u001b[0m\u001b[0;34m,\u001b[0m \u001b[0mnfold\u001b[0m\u001b[0;34m=\u001b[0m\u001b[0;36m5\u001b[0m\u001b[0;34m,\u001b[0m \u001b[0mearly_stopping_rounds\u001b[0m\u001b[0;34m=\u001b[0m\u001b[0;36m10\u001b[0m\u001b[0;34m)\u001b[0m\u001b[0;34m\u001b[0m\u001b[0m\n\u001b[0m\u001b[1;32m     17\u001b[0m                     \u001b[0mmean\u001b[0m \u001b[0;34m=\u001b[0m \u001b[0mcv\u001b[0m\u001b[0;34m[\u001b[0m\u001b[0;34m'test-merror-mean'\u001b[0m\u001b[0;34m]\u001b[0m\u001b[0;34m.\u001b[0m\u001b[0mmin\u001b[0m\u001b[0;34m(\u001b[0m\u001b[0;34m)\u001b[0m\u001b[0;34m\u001b[0m\u001b[0m\n\u001b[1;32m     18\u001b[0m                     \u001b[0mboost_rounds\u001b[0m \u001b[0;34m=\u001b[0m \u001b[0mcv\u001b[0m\u001b[0;34m[\u001b[0m\u001b[0;34m'test-merror-mean'\u001b[0m\u001b[0;34m]\u001b[0m\u001b[0;34m.\u001b[0m\u001b[0margmin\u001b[0m\u001b[0;34m(\u001b[0m\u001b[0;34m)\u001b[0m\u001b[0;34m\u001b[0m\u001b[0m\n",
      "\u001b[0;32m/Users/fanxu/anaconda2/envs/my-rdkit-env/lib/python2.7/site-packages/xgboost/training.pyc\u001b[0m in \u001b[0;36mcv\u001b[0;34m(params, dtrain, num_boost_round, nfold, stratified, folds, metrics, obj, feval, maximize, early_stopping_rounds, fpreproc, as_pandas, verbose_eval, show_stdv, seed, callbacks, shuffle)\u001b[0m\n\u001b[1;32m    405\u001b[0m         \u001b[0;32mfor\u001b[0m \u001b[0mfold\u001b[0m \u001b[0;32min\u001b[0m \u001b[0mcvfolds\u001b[0m\u001b[0;34m:\u001b[0m\u001b[0;34m\u001b[0m\u001b[0m\n\u001b[1;32m    406\u001b[0m             \u001b[0mfold\u001b[0m\u001b[0;34m.\u001b[0m\u001b[0mupdate\u001b[0m\u001b[0;34m(\u001b[0m\u001b[0mi\u001b[0m\u001b[0;34m,\u001b[0m \u001b[0mobj\u001b[0m\u001b[0;34m)\u001b[0m\u001b[0;34m\u001b[0m\u001b[0m\n\u001b[0;32m--> 407\u001b[0;31m         \u001b[0mres\u001b[0m \u001b[0;34m=\u001b[0m \u001b[0maggcv\u001b[0m\u001b[0;34m(\u001b[0m\u001b[0;34m[\u001b[0m\u001b[0mf\u001b[0m\u001b[0;34m.\u001b[0m\u001b[0meval\u001b[0m\u001b[0;34m(\u001b[0m\u001b[0mi\u001b[0m\u001b[0;34m,\u001b[0m \u001b[0mfeval\u001b[0m\u001b[0;34m)\u001b[0m \u001b[0;32mfor\u001b[0m \u001b[0mf\u001b[0m \u001b[0;32min\u001b[0m \u001b[0mcvfolds\u001b[0m\u001b[0;34m]\u001b[0m\u001b[0;34m)\u001b[0m\u001b[0;34m\u001b[0m\u001b[0m\n\u001b[0m\u001b[1;32m    408\u001b[0m \u001b[0;34m\u001b[0m\u001b[0m\n\u001b[1;32m    409\u001b[0m         \u001b[0;32mfor\u001b[0m \u001b[0mkey\u001b[0m\u001b[0;34m,\u001b[0m \u001b[0mmean\u001b[0m\u001b[0;34m,\u001b[0m \u001b[0mstd\u001b[0m \u001b[0;32min\u001b[0m \u001b[0mres\u001b[0m\u001b[0;34m:\u001b[0m\u001b[0;34m\u001b[0m\u001b[0m\n",
      "\u001b[0;32m/Users/fanxu/anaconda2/envs/my-rdkit-env/lib/python2.7/site-packages/xgboost/training.pyc\u001b[0m in \u001b[0;36meval\u001b[0;34m(self, iteration, feval)\u001b[0m\n\u001b[1;32m    220\u001b[0m     \u001b[0;32mdef\u001b[0m \u001b[0meval\u001b[0m\u001b[0;34m(\u001b[0m\u001b[0mself\u001b[0m\u001b[0;34m,\u001b[0m \u001b[0miteration\u001b[0m\u001b[0;34m,\u001b[0m \u001b[0mfeval\u001b[0m\u001b[0;34m)\u001b[0m\u001b[0;34m:\u001b[0m\u001b[0;34m\u001b[0m\u001b[0m\n\u001b[1;32m    221\u001b[0m         \u001b[0;34m\"\"\"\"Evaluate the CVPack for one iteration.\"\"\"\u001b[0m\u001b[0;34m\u001b[0m\u001b[0m\n\u001b[0;32m--> 222\u001b[0;31m         \u001b[0;32mreturn\u001b[0m \u001b[0mself\u001b[0m\u001b[0;34m.\u001b[0m\u001b[0mbst\u001b[0m\u001b[0;34m.\u001b[0m\u001b[0meval_set\u001b[0m\u001b[0;34m(\u001b[0m\u001b[0mself\u001b[0m\u001b[0;34m.\u001b[0m\u001b[0mwatchlist\u001b[0m\u001b[0;34m,\u001b[0m \u001b[0miteration\u001b[0m\u001b[0;34m,\u001b[0m \u001b[0mfeval\u001b[0m\u001b[0;34m)\u001b[0m\u001b[0;34m\u001b[0m\u001b[0m\n\u001b[0m\u001b[1;32m    223\u001b[0m \u001b[0;34m\u001b[0m\u001b[0m\n\u001b[1;32m    224\u001b[0m \u001b[0;34m\u001b[0m\u001b[0m\n",
      "\u001b[0;32m/Users/fanxu/anaconda2/envs/my-rdkit-env/lib/python2.7/site-packages/xgboost/core.pyc\u001b[0m in \u001b[0;36meval_set\u001b[0;34m(self, evals, iteration, feval)\u001b[0m\n\u001b[1;32m    949\u001b[0m             \u001b[0;32mif\u001b[0m \u001b[0;32mnot\u001b[0m \u001b[0misinstance\u001b[0m\u001b[0;34m(\u001b[0m\u001b[0md\u001b[0m\u001b[0;34m[\u001b[0m\u001b[0;36m1\u001b[0m\u001b[0;34m]\u001b[0m\u001b[0;34m,\u001b[0m \u001b[0mSTRING_TYPES\u001b[0m\u001b[0;34m)\u001b[0m\u001b[0;34m:\u001b[0m\u001b[0;34m\u001b[0m\u001b[0m\n\u001b[1;32m    950\u001b[0m                 \u001b[0;32mraise\u001b[0m \u001b[0mTypeError\u001b[0m\u001b[0;34m(\u001b[0m\u001b[0;34m'expected string, got {}'\u001b[0m\u001b[0;34m.\u001b[0m\u001b[0mformat\u001b[0m\u001b[0;34m(\u001b[0m\u001b[0mtype\u001b[0m\u001b[0;34m(\u001b[0m\u001b[0md\u001b[0m\u001b[0;34m[\u001b[0m\u001b[0;36m1\u001b[0m\u001b[0;34m]\u001b[0m\u001b[0;34m)\u001b[0m\u001b[0;34m.\u001b[0m\u001b[0m__name__\u001b[0m\u001b[0;34m)\u001b[0m\u001b[0;34m)\u001b[0m\u001b[0;34m\u001b[0m\u001b[0m\n\u001b[0;32m--> 951\u001b[0;31m             \u001b[0mself\u001b[0m\u001b[0;34m.\u001b[0m\u001b[0m_validate_features\u001b[0m\u001b[0;34m(\u001b[0m\u001b[0md\u001b[0m\u001b[0;34m[\u001b[0m\u001b[0;36m0\u001b[0m\u001b[0;34m]\u001b[0m\u001b[0;34m)\u001b[0m\u001b[0;34m\u001b[0m\u001b[0m\n\u001b[0m\u001b[1;32m    952\u001b[0m \u001b[0;34m\u001b[0m\u001b[0m\n\u001b[1;32m    953\u001b[0m         \u001b[0mdmats\u001b[0m \u001b[0;34m=\u001b[0m \u001b[0mc_array\u001b[0m\u001b[0;34m(\u001b[0m\u001b[0mctypes\u001b[0m\u001b[0;34m.\u001b[0m\u001b[0mc_void_p\u001b[0m\u001b[0;34m,\u001b[0m \u001b[0;34m[\u001b[0m\u001b[0md\u001b[0m\u001b[0;34m[\u001b[0m\u001b[0;36m0\u001b[0m\u001b[0;34m]\u001b[0m\u001b[0;34m.\u001b[0m\u001b[0mhandle\u001b[0m \u001b[0;32mfor\u001b[0m \u001b[0md\u001b[0m \u001b[0;32min\u001b[0m \u001b[0mevals\u001b[0m\u001b[0;34m]\u001b[0m\u001b[0;34m)\u001b[0m\u001b[0;34m\u001b[0m\u001b[0m\n",
      "\u001b[0;32m/Users/fanxu/anaconda2/envs/my-rdkit-env/lib/python2.7/site-packages/xgboost/core.pyc\u001b[0m in \u001b[0;36m_validate_features\u001b[0;34m(self, data)\u001b[0m\n\u001b[1;32m   1271\u001b[0m         \u001b[0;32melse\u001b[0m\u001b[0;34m:\u001b[0m\u001b[0;34m\u001b[0m\u001b[0m\n\u001b[1;32m   1272\u001b[0m             \u001b[0;31m# Booster can't accept data with different feature names\u001b[0m\u001b[0;34m\u001b[0m\u001b[0;34m\u001b[0m\u001b[0m\n\u001b[0;32m-> 1273\u001b[0;31m             \u001b[0;32mif\u001b[0m \u001b[0mself\u001b[0m\u001b[0;34m.\u001b[0m\u001b[0mfeature_names\u001b[0m \u001b[0;34m!=\u001b[0m \u001b[0mdata\u001b[0m\u001b[0;34m.\u001b[0m\u001b[0mfeature_names\u001b[0m\u001b[0;34m:\u001b[0m\u001b[0;34m\u001b[0m\u001b[0m\n\u001b[0m\u001b[1;32m   1274\u001b[0m                 \u001b[0mdat_missing\u001b[0m \u001b[0;34m=\u001b[0m \u001b[0mset\u001b[0m\u001b[0;34m(\u001b[0m\u001b[0mself\u001b[0m\u001b[0;34m.\u001b[0m\u001b[0mfeature_names\u001b[0m\u001b[0;34m)\u001b[0m \u001b[0;34m-\u001b[0m \u001b[0mset\u001b[0m\u001b[0;34m(\u001b[0m\u001b[0mdata\u001b[0m\u001b[0;34m.\u001b[0m\u001b[0mfeature_names\u001b[0m\u001b[0;34m)\u001b[0m\u001b[0;34m\u001b[0m\u001b[0m\n\u001b[1;32m   1275\u001b[0m                 \u001b[0mmy_missing\u001b[0m \u001b[0;34m=\u001b[0m \u001b[0mset\u001b[0m\u001b[0;34m(\u001b[0m\u001b[0mdata\u001b[0m\u001b[0;34m.\u001b[0m\u001b[0mfeature_names\u001b[0m\u001b[0;34m)\u001b[0m \u001b[0;34m-\u001b[0m \u001b[0mset\u001b[0m\u001b[0;34m(\u001b[0m\u001b[0mself\u001b[0m\u001b[0;34m.\u001b[0m\u001b[0mfeature_names\u001b[0m\u001b[0;34m)\u001b[0m\u001b[0;34m\u001b[0m\u001b[0m\n",
      "\u001b[0;32m/Users/fanxu/anaconda2/envs/my-rdkit-env/lib/python2.7/site-packages/xgboost/core.pyc\u001b[0m in \u001b[0;36mfeature_names\u001b[0;34m(self)\u001b[0m\n\u001b[1;32m    629\u001b[0m         \"\"\"\n\u001b[1;32m    630\u001b[0m         \u001b[0;32mif\u001b[0m \u001b[0mself\u001b[0m\u001b[0;34m.\u001b[0m\u001b[0m_feature_names\u001b[0m \u001b[0;32mis\u001b[0m \u001b[0mNone\u001b[0m\u001b[0;34m:\u001b[0m\u001b[0;34m\u001b[0m\u001b[0m\n\u001b[0;32m--> 631\u001b[0;31m             \u001b[0;32mreturn\u001b[0m \u001b[0;34m[\u001b[0m\u001b[0;34m'f{0}'\u001b[0m\u001b[0;34m.\u001b[0m\u001b[0mformat\u001b[0m\u001b[0;34m(\u001b[0m\u001b[0mi\u001b[0m\u001b[0;34m)\u001b[0m \u001b[0;32mfor\u001b[0m \u001b[0mi\u001b[0m \u001b[0;32min\u001b[0m \u001b[0mrange\u001b[0m\u001b[0;34m(\u001b[0m\u001b[0mself\u001b[0m\u001b[0;34m.\u001b[0m\u001b[0mnum_col\u001b[0m\u001b[0;34m(\u001b[0m\u001b[0;34m)\u001b[0m\u001b[0;34m)\u001b[0m\u001b[0;34m]\u001b[0m\u001b[0;34m\u001b[0m\u001b[0m\n\u001b[0m\u001b[1;32m    632\u001b[0m         \u001b[0;32melse\u001b[0m\u001b[0;34m:\u001b[0m\u001b[0;34m\u001b[0m\u001b[0m\n\u001b[1;32m    633\u001b[0m             \u001b[0;32mreturn\u001b[0m \u001b[0mself\u001b[0m\u001b[0;34m.\u001b[0m\u001b[0m_feature_names\u001b[0m\u001b[0;34m\u001b[0m\u001b[0m\n",
      "\u001b[0;31mKeyboardInterrupt\u001b[0m: "
     ]
    }
   ],
   "source": [
    "mean = 1\n",
    "min_mean = 1\n",
    "\n",
    "for num_round in [2,6,10]:\n",
    "    for max_depth in [2, 4, 6]:\n",
    "        for eta in np.arange(0.05, 0.25, 0.05):\n",
    "            for min_child_weight in [1, 2]:\n",
    "                for col_sample in [0.5, 1]:\n",
    "                    print(\"Test params: {}, {}, {}, {}, {}\".format(num_round, max_depth, eta, min_child_weight, col_sample))\n",
    "                    param = {'max_depth':max_depth, 'eta':eta, 'min_child_weight':min_child_weight, 'colsample_bytree':col_sample, 'objective':'multi:softprob', 'num_class':15 }\n",
    "                    dtrain = xgb.DMatrix(X_train, label = t_train)\n",
    "                    dtest = xgb.DMatrix(X_test)\n",
    "                    # num_round = 2\n",
    "                    bst = xgb.train(param, dtrain, num_round)\n",
    "                    \n",
    "                    cv = xgb.cv(param, dtrain, 999, nfold=5, early_stopping_rounds=10)\n",
    "                    mean = cv['test-merror-mean'].min()\n",
    "                    boost_rounds = cv['test-merror-mean'].argmin()\n",
    "                    print(\"\\ttest-merror {} for {} rounds\".format(mean, boost_rounds))\n",
    "    \n",
    "                    if mean < min_mean:\n",
    "                        min_mean = mean\n",
    "                        best_params = (num_round,max_depth,eta,min_child_weight,col_sample)"
   ]
  },
  {
   "cell_type": "code",
   "execution_count": null,
   "metadata": {},
   "outputs": [],
   "source": [
    "print(\"Best params: {}, {}, {}, {}, {}, min_mean: {}\".format(best_params[0], best_params[1], best_params[2], best_params[3], best_params[4], min_mean))"
   ]
  },
  {
   "cell_type": "code",
   "execution_count": null,
   "metadata": {},
   "outputs": [],
   "source": []
  },
  {
   "cell_type": "code",
   "execution_count": null,
   "metadata": {},
   "outputs": [],
   "source": [
    "Test params: 2, 6, 0.2, 1, 1\n",
    "\ttest-merror 0.093334 for 25 rounds    >>>>> 0.811xx\n",
    "Test params: 2, 4, 0.15, 1, 0.5\n",
    "\ttest-merror 0.0933316 for 49 rounds   >>>>> 0.82158\n",
    "Test params: 2, 4, 0.1, 1, 0.5\n",
    "\ttest-merror 0.093983 for 68 rounds    >>>> 0.825xx"
   ]
  },
  {
   "cell_type": "code",
   "execution_count": null,
   "metadata": {},
   "outputs": [],
   "source": []
  },
  {
   "cell_type": "code",
   "execution_count": null,
   "metadata": {},
   "outputs": [],
   "source": []
  },
  {
   "cell_type": "code",
   "execution_count": 48,
   "metadata": {},
   "outputs": [],
   "source": [
    "param = {'max_depth':4, 'eta':0.1, 'min_child_weight':1, 'col_sample':0.5, 'objective':'multi:softprob', 'num_class':15 }\n",
    "dtrain = xgb.DMatrix(X_train, label = t_train)\n",
    "dtest = xgb.DMatrix(X_test)\n",
    "num_round = 200\n",
    "bst = xgb.train(param, dtrain, num_round)\n",
    "# cv = xgb.cv(param, dtrain, 999, nfold=5, early_stopping_rounds=10, verbose_eval=1)\n",
    "# make prediction\n",
    "preds = bst.predict(dtest)\n",
    "# print preds"
   ]
  },
  {
   "cell_type": "code",
   "execution_count": 49,
   "metadata": {},
   "outputs": [
    {
     "name": "stdout",
     "output_type": "stream",
     "text": [
      "making predictions...\n"
     ]
    }
   ],
   "source": [
    "print \"making predictions...\"\n",
    "results = np.argmax(preds, axis=1)"
   ]
  },
  {
   "cell_type": "code",
   "execution_count": 52,
   "metadata": {},
   "outputs": [
    {
     "name": "stdout",
     "output_type": "stream",
     "text": [
      "[ 8 12 10 ..., 13 10 10]\n"
     ]
    }
   ],
   "source": [
    "print t_train"
   ]
  },
  {
   "cell_type": "code",
   "execution_count": 50,
   "metadata": {},
   "outputs": [
    {
     "name": "stdout",
     "output_type": "stream",
     "text": [
      "Reordered boost.csv and wrote to boost_200_4_01_1_05.csv\n"
     ]
    }
   ],
   "source": [
    "util.write_predictions(results, test_ids, \"boost.csv\")\n",
    "reorder_submission(\"boost.csv\", \"boost_200_4_01_1_05.csv\")"
   ]
  },
  {
   "cell_type": "code",
   "execution_count": null,
   "metadata": {},
   "outputs": [],
   "source": []
  },
  {
   "cell_type": "code",
   "execution_count": 145,
   "metadata": {},
   "outputs": [],
   "source": [
    "X_train1 = sparse.load_npz(\"X_train.npz\")\n",
    "t_train = np.load(\"t_train.npy\")\n",
    "train_ids = np.load(\"train_ids.npy\")"
   ]
  },
  {
   "cell_type": "code",
   "execution_count": 146,
   "metadata": {},
   "outputs": [
    {
     "name": "stdout",
     "output_type": "stream",
     "text": [
      "(3724, 29813)\n"
     ]
    }
   ],
   "source": [
    "X_test = sparse.load_npz(\"X_test.npz\")\n",
    "test_ids = np.load(\"test_ids.npy\")\n",
    "print X_test.shape"
   ]
  },
  {
   "cell_type": "code",
   "execution_count": 147,
   "metadata": {},
   "outputs": [
    {
     "name": "stdout",
     "output_type": "stream",
     "text": [
      "(3724, 29813)\n"
     ]
    }
   ],
   "source": [
    "dtrain = xgb.DMatrix(X_train1, label = t_train)\n",
    "dtest = xgb.DMatrix(X_test)\n",
    "print X_test.shape"
   ]
  },
  {
   "cell_type": "code",
   "execution_count": 138,
   "metadata": {},
   "outputs": [],
   "source": [
    "#X_train = X_train.todense()\n",
    "#X_test = X_test.todense()"
   ]
  },
  {
   "cell_type": "code",
   "execution_count": null,
   "metadata": {},
   "outputs": [],
   "source": []
  },
  {
   "cell_type": "code",
   "execution_count": 148,
   "metadata": {},
   "outputs": [
    {
     "name": "stdout",
     "output_type": "stream",
     "text": [
      "{'num_class': 15, 'min_child_weight': 1, 'eta': 0.15, 'objective': 'multi:softprob', 'colsample_bytree': 0.5, 'max_depth': 4}\n",
      "0\n",
      "(3724, 29813)\n",
      "(2308, 29813)\n",
      "(778, 29813)\n",
      "(3086,)\n",
      "(2308,)\n",
      "1\n",
      "(3724, 29813)\n",
      "(2314, 29813)\n",
      "(772, 29813)\n",
      "(3086,)\n",
      "(2314,)\n",
      "2\n",
      "(3724, 29813)\n",
      "(2317, 29813)\n",
      "(769, 29813)\n",
      "(3086,)\n",
      "(2317,)\n",
      "3\n",
      "(3724, 29813)\n",
      "(2319, 29813)\n",
      "(767, 29813)\n",
      "(3086,)\n",
      "(2319,)\n",
      "[10  8  8 ...,  0  0  0]\n",
      "Reordered boost.csv and wrote to semi_boost_70_4_015_1_05.csv\n"
     ]
    }
   ],
   "source": [
    "from sklearn.cross_validation import StratifiedKFold as KFold\n",
    "import pandas as pd\n",
    "params = [{'max_depth':4, 'eta': 0.15, 'min_child_weight':1, 'colsample_bytree':0.5, 'objective':'multi:softprob', 'num_class':15 }]\n",
    "\n",
    "for param in params:\n",
    "    print param\n",
    "    labels = t_train\n",
    "    bst = xgb.train(param, dtrain, 70)\n",
    "    preds = bst.predict(dtest)\n",
    "    labels_test = np.argmax(preds, axis=1)\n",
    "    \n",
    "    \n",
    "    kf = KFold(t_train, n_folds=4)\n",
    "    \n",
    "    X = X_train1\n",
    "    stack_train = np.zeros((test_ids.shape[0],15)) # 15 classes.\n",
    "    for i, (train_fold, validate) in enumerate(kf):\n",
    "        print i\n",
    "        print X_test.shape\n",
    "        X_train_ = X_test[train_fold,:]   \n",
    "        X_validate_ = X_test[validate,:]\n",
    "        labels_train_ = labels_test[train_fold]\n",
    "        labels_validate_ = labels_test[validate]\n",
    "        \n",
    "        print X_train_.shape\n",
    "        print X_validate_.shape\n",
    "        X_train_ = sparse.vstack((X, X_train_))\n",
    "        print labels.shape\n",
    "        print labels_train_.shape\n",
    "        labels_train_ = np.concatenate((labels, labels_train_))\n",
    "        # clf.fit(X_train,labels_train)\n",
    "        \n",
    "        dtrain_ = xgb.DMatrix(X_train_, label = labels_train_)\n",
    "        bst = xgb.train(param, dtrain_, 70)\n",
    "        dtest_ = xgb.DMatrix(X_validate_)\n",
    "        stack_train[validate] = bst.predict(dtest_)\n",
    "\n",
    "    results = np.argmax(stack_train, axis=1)\n",
    "    print results\n",
    "    util.write_predictions(results, test_ids, \"boost.csv\")\n",
    "    reorder_submission(\"boost.csv\", \"semi_boost_70_4_015_1_05.csv\")"
   ]
  },
  {
   "cell_type": "code",
   "execution_count": 149,
   "metadata": {},
   "outputs": [
    {
     "data": {
      "image/png": "[encoded data removed]",
      "text/plain": [
       "<matplotlib.figure.Figure at 0x1a2f468710>"
      ]
     },
     "metadata": {},
     "output_type": "display_data"
    }
   ],
   "source": [
    "import matplotlib.pyplot as plt\n",
    "%matplotlib inline\n",
    "plt.hist(results,bins=15, normed = True)\n",
    "plt.show()"
   ]
  },
  {
   "cell_type": "code",
   "execution_count": null,
   "metadata": {},
   "outputs": [],
   "source": []
  },
  {
   "cell_type": "code",
   "execution_count": 92,
   "metadata": {},
   "outputs": [
    {
     "name": "stdout",
     "output_type": "stream",
     "text": [
      "0\n"
     ]
    },
    {
     "name": "stderr",
     "output_type": "stream",
     "text": [
      "Exception AttributeError: \"'Booster' object has no attribute 'handle'\" in <bound method Booster.__del__ of <xgboost.core.Booster object at 0x1a257a9410>> ignored\n"
     ]
    },
    {
     "ename": "ValueError",
     "evalue": "all the input array dimensions except for the concatenation axis must match exactly",
     "output_type": "error",
     "traceback": [
      "\u001b[0;31m---------------------------------------------------------------------------\u001b[0m",
      "\u001b[0;31mValueError\u001b[0m                                Traceback (most recent call last)",
      "\u001b[0;32m<ipython-input-92-764a1c34c92d>\u001b[0m in \u001b[0;36m<module>\u001b[0;34m()\u001b[0m\n\u001b[1;32m     29\u001b[0m         \u001b[0mlabels_validate_\u001b[0m \u001b[0;34m=\u001b[0m \u001b[0mlabels_test\u001b[0m\u001b[0;34m[\u001b[0m\u001b[0mvalidate\u001b[0m\u001b[0;34m]\u001b[0m\u001b[0;34m\u001b[0m\u001b[0m\n\u001b[1;32m     30\u001b[0m \u001b[0;34m\u001b[0m\u001b[0m\n\u001b[0;32m---> 31\u001b[0;31m         \u001b[0mX_train\u001b[0m \u001b[0;34m=\u001b[0m \u001b[0mnp\u001b[0m\u001b[0;34m.\u001b[0m\u001b[0mconcatenate\u001b[0m\u001b[0;34m(\u001b[0m\u001b[0;34m(\u001b[0m\u001b[0mX\u001b[0m\u001b[0;34m,\u001b[0m \u001b[0mX_train\u001b[0m\u001b[0;34m)\u001b[0m\u001b[0;34m)\u001b[0m\u001b[0;34m\u001b[0m\u001b[0m\n\u001b[0m\u001b[1;32m     32\u001b[0m         \u001b[0mlabels_train\u001b[0m \u001b[0;34m=\u001b[0m \u001b[0mnp\u001b[0m\u001b[0;34m.\u001b[0m\u001b[0mconcatenate\u001b[0m\u001b[0;34m(\u001b[0m\u001b[0;34m(\u001b[0m\u001b[0mlabels\u001b[0m\u001b[0;34m,\u001b[0m \u001b[0mlabels_train\u001b[0m\u001b[0;34m)\u001b[0m\u001b[0;34m)\u001b[0m\u001b[0;34m\u001b[0m\u001b[0m\n\u001b[1;32m     33\u001b[0m         \u001b[0mclf\u001b[0m\u001b[0;34m.\u001b[0m\u001b[0mfit\u001b[0m\u001b[0;34m(\u001b[0m\u001b[0mX_train\u001b[0m\u001b[0;34m,\u001b[0m\u001b[0mlabels_train\u001b[0m\u001b[0;34m)\u001b[0m\u001b[0;34m\u001b[0m\u001b[0m\n",
      "\u001b[0;31mValueError\u001b[0m: all the input array dimensions except for the concatenation axis must match exactly"
     ]
    }
   ],
   "source": [
    "from sklearn.cross_validation import StratifiedKFold as KFold\n",
    "import pandas as pd\n",
    "params = [{'max_depth':4, 'eta': 0.15, 'min_child_weight':1, 'colsample_bytree':0.5, 'objective':'multi:softprob', 'num_class':15 }]\n",
    "\n",
    "for param in params:\n",
    "    X = pd.DataFrame(X_train)\n",
    "    X['label'] = t_train.tolist()\n",
    "    # X = pd.merge(X, pd.t_train)\n",
    "    X_test = pd.DataFrame(X_test)\n",
    "\n",
    "    labels = t_train\n",
    "    bst = xgb.train(param, dtrain, 70)\n",
    "    preds = bst.predict(dtest)\n",
    "    labels_test = np.argmax(preds, axis=1)\n",
    "    \n",
    "    X_test['label'] = labels_test.tolist()\n",
    "    # X_test = pd.merge(X_test, labels_test)\n",
    "    \n",
    "    kf = KFold(t_train, n_folds=10)\n",
    "    X = X.as_matrix()\n",
    "    X_test = X_test.as_matrix()\n",
    "    \n",
    "    stack_train = np.zeros((test_ids.shape[0],15)) # 15 classes.\n",
    "    for i, (train_fold, validate) in enumerate(kf):\n",
    "        print i\n",
    "        X_train_ = X_test[train_fold,:]   \n",
    "        X_validate_ = X_test[validate,:]\n",
    "        labels_train_ = labels_test[train_fold]\n",
    "        labels_validate_ = labels_test[validate]\n",
    "        \n",
    "        X_train = np.concatenate((X, X_train))\n",
    "        labels_train = np.concatenate((labels, labels_train))\n",
    "        clf.fit(X_train,labels_train)\n",
    "        stack_train[validate] = clf.predict_proba(X_validate)\n",
    "\n",
    "    results = np.argmax(stack_train, axis=1)\n",
    "    print results\n",
    "    util.write_predictions(results, test_ids, \"boost.csv\")\n",
    "    reorder_submission(\"boost.csv\", \"semi_boost_70_4_015_1_05.csv\")"
   ]
  },
  {
   "cell_type": "code",
   "execution_count": null,
   "metadata": {},
   "outputs": [],
   "source": []
  },
  {
   "cell_type": "code",
   "execution_count": null,
   "metadata": {},
   "outputs": [],
   "source": []
  },
  {
   "cell_type": "code",
   "execution_count": null,
   "metadata": {},
   "outputs": [],
   "source": []
  },
  {
   "cell_type": "code",
   "execution_count": null,
   "metadata": {},
   "outputs": [],
   "source": []
  },
  {
   "cell_type": "code",
   "execution_count": null,
   "metadata": {},
   "outputs": [],
   "source": []
  },
  {
   "cell_type": "code",
   "execution_count": null,
   "metadata": {},
   "outputs": [],
   "source": []
  },
  {
   "cell_type": "code",
   "execution_count": null,
   "metadata": {},
   "outputs": [],
   "source": []
  },
  {
   "cell_type": "code",
   "execution_count": null,
   "metadata": {},
   "outputs": [],
   "source": []
  },
  {
   "cell_type": "code",
   "execution_count": null,
   "metadata": {},
   "outputs": [],
   "source": []
  },
  {
   "cell_type": "code",
   "execution_count": null,
   "metadata": {},
   "outputs": [],
   "source": []
  },
  {
   "cell_type": "code",
   "execution_count": null,
   "metadata": {},
   "outputs": [],
   "source": []
  },
  {
   "cell_type": "code",
   "execution_count": null,
   "metadata": {},
   "outputs": [],
   "source": []
  },
  {
   "cell_type": "code",
   "execution_count": null,
   "metadata": {},
   "outputs": [],
   "source": []
  },
  {
   "cell_type": "code",
   "execution_count": 21,
   "metadata": {},
   "outputs": [
    {
     "name": "stdout",
     "output_type": "stream",
     "text": [
      "Features: 29813\tAccuracy: 0.85839 (+/- 0.02575)\n"
     ]
    }
   ],
   "source": [
    "from sklearn.ensemble import RandomForestClassifier\n",
    "RF = RandomForestClassifier(n_estimators = 1000, n_jobs = -1, class_weight = \"balanced\")\n",
    "RF.fit(X_train, y_train)\n",
    "scores = cross_val_score(RF, X_train, y_train, cv=5)\n",
    "print \"Features: \" + str(RF.n_features_) + (\"\\tAccuracy: %0.5f (+/- %0.5f)\" % (scores.mean(), scores.std() * 2))\n",
    "RF_best = RF\n",
    "score_best = scores.mean()\n",
    "X_train_best = X_train\n",
    "X_test_best = X_test"
   ]
  },
  {
   "cell_type": "code",
   "execution_count": null,
   "metadata": {},
   "outputs": [],
   "source": []
  },
  {
   "cell_type": "code",
   "execution_count": null,
   "metadata": {},
   "outputs": [],
   "source": []
  },
  {
   "cell_type": "code",
   "execution_count": 22,
   "metadata": {},
   "outputs": [
    {
     "name": "stdout",
     "output_type": "stream",
     "text": [
      "Features: 5222\tAccuracy: 0.86260 (+/- 0.02325)\n",
      "Features: 1779\tAccuracy: 0.86131 (+/- 0.02374)\n",
      "Features: 951\tAccuracy: 0.86163 (+/- 0.02617)\n"
     ]
    }
   ],
   "source": [
    "from sklearn.feature_selection import SelectFromModel\n",
    "while X_train.shape[1] > 1000:\n",
    "    model = SelectFromModel(RF, prefit=True, threshold = \"0.5*mean\")\n",
    "    X_train = model.transform(X_train)\n",
    "    ## trick: break if we didn't remove any feature\n",
    "    if X_train.shape[1] == X_test.shape[1]:\n",
    "        break\n",
    "    X_test = model.transform(X_test)\n",
    "    \n",
    "    RF = RandomForestClassifier(n_estimators = 1000, n_jobs = -1, class_weight = \"balanced\")\n",
    "    RF.fit(X_train, y_train)\n",
    "    scores = cross_val_score(RF, X_train, y_train, cv=5)\n",
    "    mean_score = scores.mean()\n",
    "    print \"Features: \" + str(RF.n_features_) + (\"\\tAccuracy: %0.5f (+/- %0.5f)\" % (mean_score, scores.std() * 2))\n",
    "    \n",
    "    if score_best <= mean_score:\n",
    "        del X_train_best\n",
    "        del X_test_best\n",
    "        RF_best = RF\n",
    "        score_best = mean_score\n",
    "        X_train_best = X_train\n",
    "        X_test_best = X_test"
   ]
  },
  {
   "cell_type": "code",
   "execution_count": null,
   "metadata": {},
   "outputs": [
    {
     "name": "stdout",
     "output_type": "stream",
     "text": [
      "200\n",
      "sqrt\n",
      "None\n",
      "\tAccuracy: 0.87719 (+/- 0.02433)\n",
      "200\n",
      "sqrt\n",
      "balanced\n",
      "\tAccuracy: 0.86423 (+/- 0.02333)\n",
      "200\n",
      "log2\n",
      "None\n",
      "\tAccuracy: 0.87330 (+/- 0.02515)\n",
      "200\n",
      "log2\n",
      "balanced\n",
      "\tAccuracy: 0.86293 (+/- 0.02551)\n",
      "200\n",
      "None\n",
      "None\n",
      "\tAccuracy: 0.88172 (+/- 0.01893)\n",
      "200\n",
      "None\n",
      "balanced\n",
      "\tAccuracy: 0.86131 (+/- 0.03184)\n",
      "600\n",
      "sqrt\n",
      "None\n",
      "\tAccuracy: 0.87686 (+/- 0.02268)\n",
      "600\n",
      "sqrt\n",
      "balanced\n",
      "\tAccuracy: 0.86196 (+/- 0.02475)\n",
      "600\n",
      "log2\n",
      "None\n",
      "\tAccuracy: 0.87394 (+/- 0.02433)\n",
      "600\n",
      "log2\n",
      "balanced\n",
      "\tAccuracy: 0.86066 (+/- 0.02461)\n",
      "600\n",
      "None\n",
      "None\n",
      "\tAccuracy: 0.88172 (+/- 0.01752)\n",
      "600\n",
      "None\n",
      "balanced\n",
      "\tAccuracy: 0.86163 (+/- 0.03144)\n",
      "1000\n",
      "sqrt\n",
      "None\n",
      "\tAccuracy: 0.87654 (+/- 0.02416)\n",
      "1000\n",
      "sqrt\n",
      "balanced\n",
      "\tAccuracy: 0.86293 (+/- 0.02449)\n"
     ]
    }
   ],
   "source": [
    "for n in [200, 600, 1000, 1400]:\n",
    "    for f in ['sqrt', 'log2', None]:\n",
    "        for c in [None, \"balanced\"]:\n",
    "            RF = RandomForestClassifier(n_estimators = n, n_jobs = -1, max_features = f, class_weight = c)\n",
    "            RF.fit(X_train_best, y_train)\n",
    "            scores = cross_val_score(RF, X_train_best, y_train, cv=5)\n",
    "            mean_score = scores.mean()\n",
    "            print str(n)\n",
    "            print f\n",
    "            print c\n",
    "            print (\"\\tAccuracy: %0.5f (+/- %0.5f)\" % (mean_score, scores.std() * 2))"
   ]
  },
  {
   "cell_type": "code",
   "execution_count": null,
   "metadata": {},
   "outputs": [],
   "source": []
  },
  {
   "cell_type": "code",
   "execution_count": null,
   "metadata": {},
   "outputs": [],
   "source": []
  },
  {
   "cell_type": "code",
   "execution_count": null,
   "metadata": {},
   "outputs": [],
   "source": []
  },
  {
   "cell_type": "code",
   "execution_count": 24,
   "metadata": {},
   "outputs": [],
   "source": [
    "preds = RF.predict(X_test)"
   ]
  },
  {
   "cell_type": "code",
   "execution_count": 25,
   "metadata": {},
   "outputs": [
    {
     "name": "stdout",
     "output_type": "stream",
     "text": [
      "making predictions...\n",
      "writing predictions...\n",
      "Reordered test.csv and wrote to experiment_rf_results.csv\n"
     ]
    }
   ],
   "source": [
    "# TODO make predictions on text data and write them out\n",
    "print \"making predictions...\"\n",
    "results = np.argmax(preds, axis=1)\n",
    "\n",
    "print \"writing predictions...\"\n",
    "util.write_predictions(results, test_ids, \"test.csv\")\n",
    "\n",
    "reorder_submission(\"test.csv\", \"experiment_rf_results.csv\")"
   ]
  },
  {
   "cell_type": "code",
   "execution_count": null,
   "metadata": {},
   "outputs": [],
   "source": []
  },
  {
   "cell_type": "code",
   "execution_count": null,
   "metadata": {},
   "outputs": [],
   "source": []
  },
  {
   "cell_type": "code",
   "execution_count": null,
   "metadata": {},
   "outputs": [],
   "source": []
  },
  {
   "cell_type": "code",
   "execution_count": null,
   "metadata": {},
   "outputs": [],
   "source": []
  },
  {
   "cell_type": "code",
   "execution_count": null,
   "metadata": {},
   "outputs": [],
   "source": [
    "X_train = X_train_bkup\n",
    "X_test = X_test_bkup"
   ]
  },
  {
   "cell_type": "code",
   "execution_count": null,
   "metadata": {},
   "outputs": [],
   "source": [
    "from sklearn.ensemble import RandomForestClassifier\n",
    "RF = RandomForestClassifier(n_estimators = 1000, n_jobs = -1)\n",
    "RF.fit(X_train, y_train)\n",
    "scores = cross_val_score(RF, X_train, y_train, cv=5)\n",
    "print \"Features: \" + str(RF.n_features_) + (\"\\tAccuracy: %0.5f (+/- %0.5f)\" % (scores.mean(), scores.std() * 2))\n",
    "RF_best2 = RF\n",
    "score_best2 = scores.mean()\n",
    "X_train_best2 = X_train\n",
    "X_test_best2 = X_test"
   ]
  },
  {
   "cell_type": "code",
   "execution_count": null,
   "metadata": {},
   "outputs": [],
   "source": [
    "from sklearn.feature_selection import SelectFromModel\n",
    "while X_train.shape[1] > 1000:\n",
    "    model = SelectFromModel(RF, prefit=True, threshold = \"0.5*mean\")\n",
    "    X_train = model.transform(X_train)\n",
    "    ## trick: break if we didn't remove any feature\n",
    "    if X_train.shape[1] == X_test.shape[1]:\n",
    "        break\n",
    "    X_test = model.transform(X_test)\n",
    "    \n",
    "    RF = RandomForestClassifier(n_estimators = 1000, n_jobs = -1)\n",
    "    RF.fit(X_train, y_train)\n",
    "    scores = cross_val_score(RF, X_train, y_train, cv=5)\n",
    "    mean_score = scores.mean()\n",
    "    print \"Features: \" + str(RF.n_features_) + (\"\\tAccuracy: %0.5f (+/- %0.5f)\" % (mean_score, scores.std() * 2))\n",
    "    \n",
    "    if score_best2 <= mean_score:\n",
    "        del X_train_best2\n",
    "        del X_test_best2\n",
    "        RF_best2 = RF\n",
    "        score_best2 = mean_score\n",
    "        X_train_best2 = X_train\n",
    "        X_test_best2 = X_test"
   ]
  },
  {
   "cell_type": "code",
   "execution_count": null,
   "metadata": {},
   "outputs": [],
   "source": []
  },
  {
   "cell_type": "code",
   "execution_count": null,
   "metadata": {},
   "outputs": [],
   "source": [
    "import xgboost as xgb"
   ]
  },
  {
   "cell_type": "code",
   "execution_count": null,
   "metadata": {},
   "outputs": [],
   "source": []
  },
  {
   "cell_type": "code",
   "execution_count": null,
   "metadata": {},
   "outputs": [],
   "source": []
  },
  {
   "cell_type": "code",
   "execution_count": null,
   "metadata": {},
   "outputs": [],
   "source": []
  }
 ],
 "metadata": {
  "kernelspec": {
   "display_name": "Python 2",
   "language": "python",
   "name": "python2"
  },
  "language_info": {
   "codemirror_mode": {
    "name": "ipython",
    "version": 2
   },
   "file_extension": ".py",
   "mimetype": "text/x-python",
   "name": "python",
   "nbconvert_exporter": "python",
   "pygments_lexer": "ipython2",
   "version": "2.7.14"
  }
 },
 "nbformat": 4,
 "nbformat_minor": 2
}
