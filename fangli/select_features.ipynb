{
 "cells": [
  {
   "cell_type": "code",
   "execution_count": 1,
   "metadata": {},
   "outputs": [
    {
     "name": "stderr",
     "output_type": "stream",
     "text": [
      "/Users/fanxu/anaconda2/envs/my-rdkit-env/lib/python2.7/site-packages/sklearn/cross_validation.py:41: DeprecationWarning: This module was deprecated in version 0.18 in favor of the model_selection module into which all the refactored classes and functions are moved. Also note that the interface of the new CV iterators are different from that of this module. This module will be removed in 0.20.\n",
      "  \"This module will be removed in 0.20.\", DeprecationWarning)\n"
     ]
    }
   ],
   "source": [
    "import os\n",
    "import csv \n",
    "import sys \n",
    "import numpy as np\n",
    "from scipy import sparse\n",
    "from collections import Counter\n",
    "\n",
    "try:\n",
    "    import xml.etree.cElementTree as ET\n",
    "except ImportError:\n",
    "    import xml.etree.ElementTree as ET\n",
    "\n",
    "\n",
    "from sklearn.cross_validation import cross_val_score\n",
    "from sklearn.feature_extraction.text import TfidfVectorizer\n",
    "\n",
    "import util"
   ]
  },
  {
   "cell_type": "code",
   "execution_count": 23,
   "metadata": {},
   "outputs": [],
   "source": [
    "import csv \n",
    "import sys \n",
    "\n",
    "def reorder_submission(file_to_reorder, newfile_name = \"experiment_results.csv\"):\n",
    "    # READ IN KEYS IN CORRECT ORDER AS LIST\n",
    "    with open('keys.csv','r') as f:\n",
    "        keyreader = csv.reader(f)\n",
    "        keys = [key[0] for key in keyreader]\n",
    "\n",
    "    # READ IN ALL PREDICTIONS, REGARDLESS OF ORDER\n",
    "    with open(file_to_reorder) as f:\n",
    "        oldfile_reader = csv.reader(f)\n",
    "        D = {}\n",
    "        for i,row in enumerate(oldfile_reader):\n",
    "            if i == 0:\n",
    "                continue\n",
    "            _id, pred = row \n",
    "            D[_id] = pred\n",
    "\n",
    "    # WRITE PREDICTIONS IN NEW ORDER\n",
    "    with open(newfile_name,'wb') as f:\n",
    "        writer = csv.writer(f)\n",
    "        writer.writerow(('Id','Prediction'))\n",
    "        for key in keys:\n",
    "            writer.writerow((key,D[key]))\n",
    "\n",
    "    print(\"\".join([\"Reordered \", file_to_reorder,\" and wrote to \", newfile_name]))"
   ]
  },
  {
   "cell_type": "code",
   "execution_count": 3,
   "metadata": {},
   "outputs": [],
   "source": [
    "X_train = sparse.load_npz(\"X_train.npz\")\n",
    "t_train = np.load(\"t_train.npy\")\n",
    "train_ids = np.load(\"train_ids.npy\")"
   ]
  },
  {
   "cell_type": "code",
   "execution_count": 4,
   "metadata": {},
   "outputs": [
    {
     "name": "stdout",
     "output_type": "stream",
     "text": [
      "(3086, 29813)\n",
      "(3086,)\n"
     ]
    }
   ],
   "source": [
    "print X_train.shape\n",
    "print train_ids.shape"
   ]
  },
  {
   "cell_type": "code",
   "execution_count": 7,
   "metadata": {},
   "outputs": [],
   "source": [
    "X_test = sparse.load_npz(\"X_test.npz\")\n",
    "test_ids = np.load(\"test_ids.npy\")"
   ]
  },
  {
   "cell_type": "code",
   "execution_count": 8,
   "metadata": {},
   "outputs": [
    {
     "name": "stdout",
     "output_type": "stream",
     "text": [
      "(3724, 29813)\n",
      "(3724,)\n"
     ]
    }
   ],
   "source": [
    "print X_test.shape\n",
    "print test_ids.shape"
   ]
  },
  {
   "cell_type": "code",
   "execution_count": 10,
   "metadata": {},
   "outputs": [
    {
     "data": {
      "text/plain": [
       "(3086, 15)"
      ]
     },
     "execution_count": 10,
     "metadata": {},
     "output_type": "execute_result"
    }
   ],
   "source": [
    "y_train = np.zeros((len(t_train),len(util.malware_classes)))\n",
    "y_train[np.arange(len(t_train)), t_train] = 1\n",
    "y_train.shape"
   ]
  },
  {
   "cell_type": "code",
   "execution_count": 12,
   "metadata": {},
   "outputs": [],
   "source": [
    "# X_train_bkup = X_train"
   ]
  },
  {
   "cell_type": "code",
   "execution_count": 13,
   "metadata": {},
   "outputs": [],
   "source": [
    "# X_test_bkup = X_test"
   ]
  },
  {
   "cell_type": "code",
   "execution_count": null,
   "metadata": {},
   "outputs": [],
   "source": []
  },
  {
   "cell_type": "code",
   "execution_count": 20,
   "metadata": {},
   "outputs": [],
   "source": [
    "X_train = X_train_bkup\n",
    "X_test = X_test_bkup"
   ]
  },
  {
   "cell_type": "code",
   "execution_count": 21,
   "metadata": {},
   "outputs": [
    {
     "name": "stdout",
     "output_type": "stream",
     "text": [
      "Features: 29813\tAccuracy: 0.85839 (+/- 0.02575)\n"
     ]
    }
   ],
   "source": [
    "from sklearn.ensemble import RandomForestClassifier\n",
    "RF = RandomForestClassifier(n_estimators = 1000, n_jobs = -1, class_weight = \"balanced\")\n",
    "RF.fit(X_train, y_train)\n",
    "scores = cross_val_score(RF, X_train, y_train, cv=5)\n",
    "print \"Features: \" + str(RF.n_features_) + (\"\\tAccuracy: %0.5f (+/- %0.5f)\" % (scores.mean(), scores.std() * 2))\n",
    "RF_best = RF\n",
    "score_best = scores.mean()\n",
    "X_train_best = X_train\n",
    "X_test_best = X_test"
   ]
  },
  {
   "cell_type": "code",
   "execution_count": 22,
   "metadata": {},
   "outputs": [
    {
     "name": "stdout",
     "output_type": "stream",
     "text": [
      "Features: 5222\tAccuracy: 0.86260 (+/- 0.02325)\n",
      "Features: 1779\tAccuracy: 0.86131 (+/- 0.02374)\n",
      "Features: 951\tAccuracy: 0.86163 (+/- 0.02617)\n"
     ]
    }
   ],
   "source": [
    "from sklearn.feature_selection import SelectFromModel\n",
    "while X_train.shape[1] > 1000:\n",
    "    model = SelectFromModel(RF, prefit=True, threshold = \"0.5*mean\")\n",
    "    X_train = model.transform(X_train)\n",
    "    ## trick: break if we didn't remove any feature\n",
    "    if X_train.shape[1] == X_test.shape[1]:\n",
    "        break\n",
    "    X_test = model.transform(X_test)\n",
    "    \n",
    "    RF = RandomForestClassifier(n_estimators = 1000, n_jobs = -1, class_weight = \"balanced\")\n",
    "    RF.fit(X_train, y_train)\n",
    "    scores = cross_val_score(RF, X_train, y_train, cv=5)\n",
    "    mean_score = scores.mean()\n",
    "    print \"Features: \" + str(RF.n_features_) + (\"\\tAccuracy: %0.5f (+/- %0.5f)\" % (mean_score, scores.std() * 2))\n",
    "    \n",
    "    if score_best <= mean_score:\n",
    "        del X_train_best\n",
    "        del X_test_best\n",
    "        RF_best = RF\n",
    "        score_best = mean_score\n",
    "        X_train_best = X_train\n",
    "        X_test_best = X_test"
   ]
  },
  {
   "cell_type": "code",
   "execution_count": 27,
   "metadata": {},
   "outputs": [
    {
     "name": "stdout",
     "output_type": "stream",
     "text": [
      "200\n",
      "sqrt\n",
      "None\n",
      "\tAccuracy: 0.87719 (+/- 0.02433)\n",
      "200\n",
      "sqrt\n",
      "balanced\n",
      "\tAccuracy: 0.86423 (+/- 0.02333)\n",
      "200\n",
      "log2\n",
      "None\n",
      "\tAccuracy: 0.87330 (+/- 0.02515)\n",
      "200\n",
      "log2\n",
      "balanced\n",
      "\tAccuracy: 0.86293 (+/- 0.02551)\n",
      "200\n",
      "None\n",
      "None\n",
      "\tAccuracy: 0.88172 (+/- 0.01893)\n",
      "200\n",
      "None\n",
      "balanced\n",
      "\tAccuracy: 0.86131 (+/- 0.03184)\n",
      "600\n",
      "sqrt\n",
      "None\n",
      "\tAccuracy: 0.87686 (+/- 0.02268)\n",
      "600\n",
      "sqrt\n",
      "balanced\n",
      "\tAccuracy: 0.86196 (+/- 0.02475)\n",
      "600\n",
      "log2\n",
      "None\n",
      "\tAccuracy: 0.87394 (+/- 0.02433)\n",
      "600\n",
      "log2\n",
      "balanced\n",
      "\tAccuracy: 0.86066 (+/- 0.02461)\n",
      "600\n",
      "None\n",
      "None\n",
      "\tAccuracy: 0.88172 (+/- 0.01752)\n",
      "600\n",
      "None\n",
      "balanced\n",
      "\tAccuracy: 0.86163 (+/- 0.03144)\n",
      "1000\n",
      "sqrt\n",
      "None\n",
      "\tAccuracy: 0.87654 (+/- 0.02416)\n",
      "1000\n",
      "sqrt\n",
      "balanced\n",
      "\tAccuracy: 0.86293 (+/- 0.02449)\n",
      "1000\n",
      "log2\n",
      "None\n",
      "\tAccuracy: 0.87232 (+/- 0.02657)\n",
      "1000\n",
      "log2\n",
      "balanced\n",
      "\tAccuracy: 0.86098 (+/- 0.02500)\n",
      "1000\n",
      "None\n",
      "None\n",
      "\tAccuracy: 0.88108 (+/- 0.01648)\n",
      "1000\n",
      "None\n",
      "balanced\n",
      "\tAccuracy: 0.86098 (+/- 0.02928)\n",
      "1400\n",
      "sqrt\n",
      "None\n",
      "\tAccuracy: 0.87719 (+/- 0.02309)\n",
      "1400\n",
      "sqrt\n",
      "balanced\n",
      "\tAccuracy: 0.86325 (+/- 0.02749)\n",
      "1400\n",
      "log2\n",
      "None\n",
      "\tAccuracy: 0.87394 (+/- 0.02593)\n",
      "1400\n",
      "log2\n",
      "balanced\n",
      "\tAccuracy: 0.86098 (+/- 0.02474)\n",
      "1400\n",
      "None\n",
      "None\n",
      "\tAccuracy: 0.88237 (+/- 0.01760)\n",
      "1400\n",
      "None\n",
      "balanced\n",
      "\tAccuracy: 0.86195 (+/- 0.03242)\n"
     ]
    }
   ],
   "source": [
    "for n in [200, 600, 1000, 1400]:\n",
    "    for f in ['sqrt', 'log2', None]:\n",
    "        for c in [None, \"balanced\"]:\n",
    "            RF = RandomForestClassifier(n_estimators = n, n_jobs = -1, max_features = f, class_weight = c)\n",
    "            RF.fit(X_train_best, y_train)\n",
    "            scores = cross_val_score(RF, X_train_best, y_train, cv=5)\n",
    "            mean_score = scores.mean()\n",
    "            print str(n)\n",
    "            print f\n",
    "            print c\n",
    "            print (\"\\tAccuracy: %0.5f (+/- %0.5f)\" % (mean_score, scores.std() * 2))"
   ]
  },
  {
   "cell_type": "code",
   "execution_count": 31,
   "metadata": {},
   "outputs": [
    {
     "data": {
      "text/plain": [
       "(3086, 5222)"
      ]
     },
     "execution_count": 31,
     "metadata": {},
     "output_type": "execute_result"
    }
   ],
   "source": [
    "X_train_best.shape"
   ]
  },
  {
   "cell_type": "code",
   "execution_count": 32,
   "metadata": {},
   "outputs": [
    {
     "data": {
      "text/plain": [
       "RandomForestClassifier(bootstrap=True, class_weight=None, criterion='gini',\n",
       "            max_depth=None, max_features=None, max_leaf_nodes=None,\n",
       "            min_impurity_decrease=0.0, min_impurity_split=None,\n",
       "            min_samples_leaf=1, min_samples_split=2,\n",
       "            min_weight_fraction_leaf=0.0, n_estimators=1400, n_jobs=-1,\n",
       "            oob_score=False, random_state=None, verbose=0,\n",
       "            warm_start=False)"
      ]
     },
     "execution_count": 32,
     "metadata": {},
     "output_type": "execute_result"
    }
   ],
   "source": [
    "RF = RandomForestClassifier(n_estimators = 1400, n_jobs = -1, max_features = None, class_weight = None)\n",
    "RF.fit(X_train_best, y_train)"
   ]
  },
  {
   "cell_type": "code",
   "execution_count": 33,
   "metadata": {},
   "outputs": [
    {
     "data": {
      "image/png": "[encoded data removed]",
      "text/plain": [
       "<matplotlib.figure.Figure at 0x1a1b0eff10>"
      ]
     },
     "metadata": {},
     "output_type": "display_data"
    }
   ],
   "source": [
    "preds = RF.predict(X_test_best)\n",
    "results = np.argmax(preds, axis=1)\n",
    "import matplotlib.pyplot as plt\n",
    "%matplotlib inline\n",
    "plt.hist(results, bins=15, normed = True)\n",
    "plt.show()"
   ]
  },
  {
   "cell_type": "code",
   "execution_count": 34,
   "metadata": {},
   "outputs": [
    {
     "name": "stdout",
     "output_type": "stream",
     "text": [
      "writing predictions...\n",
      "Reordered test.csv and wrote to experiment_rf_1400_bNone_results.csv\n"
     ]
    }
   ],
   "source": [
    "print \"writing predictions...\"\n",
    "util.write_predictions(results, test_ids, \"test.csv\")\n",
    "\n",
    "reorder_submission(\"test.csv\", \"experiment_rf_1400_bNone_results.csv\")"
   ]
  },
  {
   "cell_type": "code",
   "execution_count": null,
   "metadata": {},
   "outputs": [],
   "source": []
  },
  {
   "cell_type": "code",
   "execution_count": null,
   "metadata": {},
   "outputs": [],
   "source": []
  },
  {
   "cell_type": "code",
   "execution_count": 24,
   "metadata": {},
   "outputs": [],
   "source": [
    "preds = RF.predict(X_test)"
   ]
  },
  {
   "cell_type": "code",
   "execution_count": 25,
   "metadata": {},
   "outputs": [
    {
     "name": "stdout",
     "output_type": "stream",
     "text": [
      "making predictions...\n",
      "writing predictions...\n",
      "Reordered test.csv and wrote to experiment_rf_results.csv\n"
     ]
    }
   ],
   "source": [
    "# TODO make predictions on text data and write them out\n",
    "print \"making predictions...\"\n",
    "results = np.argmax(preds, axis=1)\n",
    "\n",
    "print \"writing predictions...\"\n",
    "util.write_predictions(results, test_ids, \"test.csv\")\n",
    "\n",
    "reorder_submission(\"test.csv\", \"experiment_rf_results.csv\")"
   ]
  },
  {
   "cell_type": "code",
   "execution_count": null,
   "metadata": {},
   "outputs": [],
   "source": []
  },
  {
   "cell_type": "code",
   "execution_count": null,
   "metadata": {},
   "outputs": [],
   "source": []
  },
  {
   "cell_type": "code",
   "execution_count": null,
   "metadata": {},
   "outputs": [],
   "source": []
  },
  {
   "cell_type": "code",
   "execution_count": null,
   "metadata": {},
   "outputs": [],
   "source": []
  },
  {
   "cell_type": "code",
   "execution_count": null,
   "metadata": {},
   "outputs": [],
   "source": [
    "X_train = X_train_bkup\n",
    "X_test = X_test_bkup"
   ]
  },
  {
   "cell_type": "code",
   "execution_count": null,
   "metadata": {},
   "outputs": [],
   "source": [
    "from sklearn.ensemble import RandomForestClassifier\n",
    "RF = RandomForestClassifier(n_estimators = 1000, n_jobs = -1)\n",
    "RF.fit(X_train, y_train)\n",
    "scores = cross_val_score(RF, X_train, y_train, cv=5)\n",
    "print \"Features: \" + str(RF.n_features_) + (\"\\tAccuracy: %0.5f (+/- %0.5f)\" % (scores.mean(), scores.std() * 2))\n",
    "RF_best2 = RF\n",
    "score_best2 = scores.mean()\n",
    "X_train_best2 = X_train\n",
    "X_test_best2 = X_test"
   ]
  },
  {
   "cell_type": "code",
   "execution_count": null,
   "metadata": {},
   "outputs": [],
   "source": [
    "from sklearn.feature_selection import SelectFromModel\n",
    "while X_train.shape[1] > 1000:\n",
    "    model = SelectFromModel(RF, prefit=True, threshold = \"0.5*mean\")\n",
    "    X_train = model.transform(X_train)\n",
    "    ## trick: break if we didn't remove any feature\n",
    "    if X_train.shape[1] == X_test.shape[1]:\n",
    "        break\n",
    "    X_test = model.transform(X_test)\n",
    "    \n",
    "    RF = RandomForestClassifier(n_estimators = 1000, n_jobs = -1)\n",
    "    RF.fit(X_train, y_train)\n",
    "    scores = cross_val_score(RF, X_train, y_train, cv=5)\n",
    "    mean_score = scores.mean()\n",
    "    print \"Features: \" + str(RF.n_features_) + (\"\\tAccuracy: %0.5f (+/- %0.5f)\" % (mean_score, scores.std() * 2))\n",
    "    \n",
    "    if score_best2 <= mean_score:\n",
    "        del X_train_best2\n",
    "        del X_test_best2\n",
    "        RF_best2 = RF\n",
    "        score_best2 = mean_score\n",
    "        X_train_best2 = X_train\n",
    "        X_test_best2 = X_test"
   ]
  },
  {
   "cell_type": "code",
   "execution_count": null,
   "metadata": {},
   "outputs": [],
   "source": []
  },
  {
   "cell_type": "code",
   "execution_count": null,
   "metadata": {},
   "outputs": [],
   "source": [
    "import xgboost as xgb"
   ]
  },
  {
   "cell_type": "code",
   "execution_count": null,
   "metadata": {},
   "outputs": [],
   "source": []
  },
  {
   "cell_type": "code",
   "execution_count": null,
   "metadata": {},
   "outputs": [],
   "source": []
  },
  {
   "cell_type": "code",
   "execution_count": null,
   "metadata": {},
   "outputs": [],
   "source": []
  }
 ],
 "metadata": {
  "kernelspec": {
   "display_name": "Python 2",
   "language": "python",
   "name": "python2"
  },
  "language_info": {
   "codemirror_mode": {
    "name": "ipython",
    "version": 2
   },
   "file_extension": ".py",
   "mimetype": "text/x-python",
   "name": "python",
   "nbconvert_exporter": "python",
   "pygments_lexer": "ipython2",
   "version": "2.7.14"
  }
 },
 "nbformat": 4,
 "nbformat_minor": 2
}
