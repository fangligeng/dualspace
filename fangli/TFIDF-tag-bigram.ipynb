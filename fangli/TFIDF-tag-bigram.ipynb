{
 "cells": [
  {
   "cell_type": "code",
   "execution_count": 1,
   "metadata": {},
   "outputs": [
    {
     "name": "stderr",
     "output_type": "stream",
     "text": [
      "/Users/fanxu/anaconda2/envs/my-rdkit-env/lib/python2.7/site-packages/sklearn/cross_validation.py:41: DeprecationWarning: This module was deprecated in version 0.18 in favor of the model_selection module into which all the refactored classes and functions are moved. Also note that the interface of the new CV iterators are different from that of this module. This module will be removed in 0.20.\n",
      "  \"This module will be removed in 0.20.\", DeprecationWarning)\n"
     ]
    }
   ],
   "source": [
    "import os\n",
    "import numpy as np\n",
    "from scipy import sparse\n",
    "from collections import Counter\n",
    "\n",
    "try:\n",
    "    import xml.etree.cElementTree as ET\n",
    "except ImportError:\n",
    "    import xml.etree.ElementTree as ET\n",
    "\n",
    "from sklearn.cross_validation import cross_val_score\n",
    "from sklearn.feature_extraction.text import TfidfVectorizer\n",
    "\n",
    "import util"
   ]
  },
  {
   "cell_type": "code",
   "execution_count": 2,
   "metadata": {},
   "outputs": [
    {
     "name": "stderr",
     "output_type": "stream",
     "text": [
      "Using TensorFlow backend.\n"
     ]
    }
   ],
   "source": [
    "from keras.layers import Dense # For dense layers\n",
    "from keras.models import Sequential # For sequential layering\n",
    "from keras.callbacks import EarlyStopping # For stopping execution\n",
    "from sklearn.metrics import mean_squared_error\n",
    "\n",
    "def train_model_DL(X_train,Y_train,n_nodes):\n",
    "    \"\"\" n_nodes is 1-D numpy array with number of nodes on each layer\n",
    "        e.g. [10,20,30] is a model with 3 (hidden) layers,\n",
    "        with 10/20/30 nodes on the first/second/third layers\n",
    "        Returns trained DL model \"\"\"\n",
    "    input_shape = (X_train.shape[1],) # Shape of input data\n",
    "    # Initialize model\n",
    "    model_DL = Sequential()\n",
    "    for i in range(len(n_nodes)):\n",
    "        if i == 0:\n",
    "            # First layer\n",
    "            model_DL.add(Dense(n_nodes[i],activation='relu',input_shape=input_shape))\n",
    "        else:\n",
    "            # Subsequent layers\n",
    "            model_DL.add(Dense(n_nodes[i],activation='relu'))\n",
    "    # Output layer\n",
    "    model_DL.add(Dense(15, activation='softmax'))\n",
    "    # Compile model\n",
    "    model_DL.compile(optimizer='adam',loss='mean_squared_error')\n",
    "    # Print model summary\n",
    "    model_DL.summary()\n",
    "    # Early stopping monitor w/ patience=3 (stop after 3 runs without improvements)\n",
    "    early_stopping_monitor = EarlyStopping(patience=30)\n",
    "    # Fit model using 20% of data for validation\n",
    "    model_DL.fit(X_train, Y_train, validation_split=0.2, epochs=200, callbacks=[early_stopping_monitor])\n",
    "    Y_train_DLpred = model_DL.predict(X_train)\n",
    "    mse_DL = mean_squared_error(Y_train, Y_train_DLpred)\n",
    "    print('DONE. Mean Squared Error: ', mse_DL)\n",
    "    return model_DL"
   ]
  },
  {
   "cell_type": "code",
   "execution_count": 3,
   "metadata": {},
   "outputs": [],
   "source": [
    "def get_tags(direc, useFirstThreadOnly = False):\n",
    "    tags_set = [] # list of feature dicts\n",
    "    classes = []\n",
    "    ids = [] \n",
    "    for datafile in os.listdir(direc):\n",
    "        # extract id and true class (if available) from filename\n",
    "        id_str,clazz = datafile.split('.')[:2]\n",
    "        ids.append(id_str)\n",
    "        # add target class if this is training data\n",
    "        try:\n",
    "            classes.append(util.malware_classes.index(clazz))\n",
    "        except ValueError:\n",
    "            # we should only fail to find the label in our list of malware classes\n",
    "            # if this is test data, which always has an \"X\" label\n",
    "            assert clazz == \"X\"\n",
    "            classes.append(-1)\n",
    "\n",
    "        in_all_section = False\n",
    "        # parse file as an xml document\n",
    "        tree = ET.parse(os.path.join(direc,datafile))\n",
    "        # accumulate features\n",
    "        tags = \"\"\n",
    "        preTag = \"\"\n",
    "        for el in tree.iter():\n",
    "            # ignore everything outside the \"all_section\" element\n",
    "            if el.tag == \"all_section\" and not in_all_section:\n",
    "                in_all_section = True\n",
    "            elif el.tag == \"all_section\" and in_all_section:\n",
    "                in_all_section = False\n",
    "                if useFirstThreadOnly is True:\n",
    "                    break\n",
    "            elif in_all_section:\n",
    "                if preTag is not \"\":\n",
    "                    tags += \" \"\n",
    "                    tags += preTag+el.tag\n",
    "                preTag = el.tag\n",
    "                \n",
    "        tags_set.append(tags.replace('_', ''))\n",
    "    \n",
    "    return tags_set, np.array(classes), ids"
   ]
  },
  {
   "cell_type": "code",
   "execution_count": 4,
   "metadata": {},
   "outputs": [],
   "source": [
    "train_tags, train_classes, _ = get_tags('../train_origin')"
   ]
  },
  {
   "cell_type": "code",
   "execution_count": 5,
   "metadata": {},
   "outputs": [],
   "source": [
    "test_tags, _, ids = get_tags('../test_origin')"
   ]
  },
  {
   "cell_type": "code",
   "execution_count": 6,
   "metadata": {},
   "outputs": [
    {
     "data": {
      "text/plain": [
       "(3086, 15)"
      ]
     },
     "execution_count": 6,
     "metadata": {},
     "output_type": "execute_result"
    }
   ],
   "source": [
    "y_train = np.zeros((len(train_classes),len(util.malware_classes)))\n",
    "y_train[np.arange(len(train_classes)), train_classes] = 1\n",
    "y_train.shape"
   ]
  },
  {
   "cell_type": "code",
   "execution_count": 7,
   "metadata": {},
   "outputs": [],
   "source": [
    "TF = TfidfVectorizer(analyzer = 'word', max_df = 0.9)"
   ]
  },
  {
   "cell_type": "code",
   "execution_count": 8,
   "metadata": {},
   "outputs": [],
   "source": [
    "X_train = TF.fit_transform(train_tags)"
   ]
  },
  {
   "cell_type": "code",
   "execution_count": 9,
   "metadata": {},
   "outputs": [
    {
     "data": {
      "text/plain": [
       "(3086, 2171)"
      ]
     },
     "execution_count": 9,
     "metadata": {},
     "output_type": "execute_result"
    }
   ],
   "source": [
    "X_train.shape"
   ]
  },
  {
   "cell_type": "code",
   "execution_count": 10,
   "metadata": {},
   "outputs": [
    {
     "name": "stdout",
     "output_type": "stream",
     "text": [
      "12\n"
     ]
    },
    {
     "data": {
      "text/plain": [
       "{u'checkfordebuggerloaddll',\n",
       " u'createmutexcreatemutex',\n",
       " u'createmutexopenkey',\n",
       " u'loaddllgetsystemdirectory',\n",
       " u'loaddllloaddll',\n",
       " u'loadimageloaddll',\n",
       " u'openkeyopenkey',\n",
       " u'openkeyqueryvalue',\n",
       " u'queryvaluecreatemutex',\n",
       " u'queryvaluegetsystemdirectory',\n",
       " u'queryvalueopenkey',\n",
       " u'queryvaluequeryvalue'}"
      ]
     },
     "execution_count": 10,
     "metadata": {},
     "output_type": "execute_result"
    }
   ],
   "source": [
    "print len(TF.stop_words_)\n",
    "TF.stop_words_"
   ]
  },
  {
   "cell_type": "code",
   "execution_count": 11,
   "metadata": {},
   "outputs": [
    {
     "data": {
      "text/plain": [
       "(3724, 2171)"
      ]
     },
     "execution_count": 11,
     "metadata": {},
     "output_type": "execute_result"
    }
   ],
   "source": [
    "X_test = TF.transform(test_tags)\n",
    "X_test.shape"
   ]
  },
  {
   "cell_type": "code",
   "execution_count": 12,
   "metadata": {},
   "outputs": [
    {
     "name": "stdout",
     "output_type": "stream",
     "text": [
      "2171\n",
      "Accuracy: 0.84964 (+/- 0.02292)\n"
     ]
    }
   ],
   "source": [
    "from sklearn.ensemble import RandomForestClassifier\n",
    "RF = RandomForestClassifier(n_estimators = 100, n_jobs = -1)\n",
    "RF.fit(X_train, y_train)\n",
    "print RF.n_features_\n",
    "scores = cross_val_score(RF, X_train, y_train, cv=5)\n",
    "print(\"Accuracy: %0.5f (+/- %0.5f)\" % (scores.mean(), scores.std() * 2))"
   ]
  },
  {
   "cell_type": "code",
   "execution_count": 13,
   "metadata": {},
   "outputs": [
    {
     "data": {
      "text/plain": [
       "(3086, 363)"
      ]
     },
     "execution_count": 13,
     "metadata": {},
     "output_type": "execute_result"
    }
   ],
   "source": [
    "from sklearn.feature_selection import SelectFromModel\n",
    "model = SelectFromModel(RF, prefit=True)\n",
    "X_train_new = model.transform(X_train)\n",
    "X_test_new = model.transform(X_train)\n",
    "X_train_new.shape"
   ]
  },
  {
   "cell_type": "code",
   "execution_count": 14,
   "metadata": {},
   "outputs": [
    {
     "name": "stdout",
     "output_type": "stream",
     "text": [
      "Accuracy: 0.85613 (+/- 0.02504)\n"
     ]
    }
   ],
   "source": [
    "RF = RandomForestClassifier(n_estimators = 100, n_jobs = -1)\n",
    "RF.fit(X_train_new, y_train)\n",
    "scores = cross_val_score(RF, X_train_new, y_train, cv=5)\n",
    "print(\"Accuracy: %0.5f (+/- %0.5f)\" % (scores.mean(), scores.std() * 2))"
   ]
  },
  {
   "cell_type": "code",
   "execution_count": 15,
   "metadata": {},
   "outputs": [
    {
     "name": "stdout",
     "output_type": "stream",
     "text": [
      "n_features: 92\tAccuracy: 0.84640 (+/- 0.02420)\n",
      "n_features: 25\tAccuracy: 0.84478 (+/- 0.03832)\n",
      "n_features: 14\tAccuracy: 0.82015 (+/- 0.04977)\n",
      "n_features: 5\tAccuracy: 0.77738 (+/- 0.03376)\n",
      "n_features: 3\tAccuracy: 0.69151 (+/- 0.04030)\n",
      "n_features: 2\tAccuracy: 0.57939 (+/- 0.05197)\n",
      "n_features: 1\tAccuracy: 0.49222 (+/- 0.04618)\n"
     ]
    }
   ],
   "source": [
    "while X_train_new.shape[1] > 1:\n",
    "    model = SelectFromModel(RF, prefit=True)\n",
    "    X_train_new = model.transform(X_train_new)\n",
    "    X_test_new = model.transform(X_test_new)\n",
    "    \n",
    "    RF = RandomForestClassifier(n_estimators = 100, n_jobs = -1, oob_score=True)\n",
    "    RF.fit(X_train_new, y_train)\n",
    "    scores = cross_val_score(RF, X_train_new, y_train, cv=5)\n",
    "    print \"n_features: \" + str(X_train_new.shape[1]) + (\"\\tAccuracy: %0.5f (+/- %0.5f)\" % (scores.mean(), scores.std() * 2))"
   ]
  },
  {
   "cell_type": "code",
   "execution_count": null,
   "metadata": {},
   "outputs": [],
   "source": []
  },
  {
   "cell_type": "code",
   "execution_count": null,
   "metadata": {},
   "outputs": [],
   "source": []
  },
  {
   "cell_type": "code",
   "execution_count": 15,
   "metadata": {},
   "outputs": [
    {
     "name": "stderr",
     "output_type": "stream",
     "text": [
      "/Users/fanxu/anaconda2/envs/my-rdkit-env/lib/python2.7/site-packages/sklearn/linear_model/stochastic_gradient.py:128: FutureWarning: max_iter and tol parameters have been added in <class 'sklearn.linear_model.stochastic_gradient.SGDClassifier'> in 0.19. If both are left unset, they default to max_iter=5 and tol=None. If tol is not None, max_iter defaults to max_iter=1000. From 0.21, default max_iter will be 1000, and default tol will be 1e-3.\n",
      "  \"and default tol will be 1e-3.\" % type(self), FutureWarning)\n"
     ]
    },
    {
     "name": "stdout",
     "output_type": "stream",
     "text": [
      "0.861309138043\n"
     ]
    }
   ],
   "source": [
    "from sklearn.linear_model import SGDClassifier\n",
    "SGD = SGDClassifier(n_jobs = -1)\n",
    "SGD.fit(X_train, train_classes)\n",
    "print SGD.score(X_train, train_classes)"
   ]
  },
  {
   "cell_type": "code",
   "execution_count": 16,
   "metadata": {},
   "outputs": [
    {
     "name": "stdout",
     "output_type": "stream",
     "text": [
      "_________________________________________________________________\n",
      "Layer (type)                 Output Shape              Param #   \n",
      "=================================================================\n",
      "dense_1 (Dense)              (None, 200)               17800     \n",
      "_________________________________________________________________\n",
      "dense_2 (Dense)              (None, 200)               40200     \n",
      "_________________________________________________________________\n",
      "dense_3 (Dense)              (None, 15)                3015      \n",
      "=================================================================\n",
      "Total params: 61,015\n",
      "Trainable params: 61,015\n",
      "Non-trainable params: 0\n",
      "_________________________________________________________________\n",
      "Train on 2468 samples, validate on 618 samples\n",
      "Epoch 1/200\n",
      "2468/2468 [==============================] - 0s 154us/step - loss: 0.0335 - val_loss: 0.0190\n",
      "Epoch 2/200\n",
      "2468/2468 [==============================] - 0s 101us/step - loss: 0.0190 - val_loss: 0.0172\n",
      "Epoch 3/200\n",
      "2468/2468 [==============================] - 0s 101us/step - loss: 0.0168 - val_loss: 0.0157\n",
      "Epoch 4/200\n",
      "2468/2468 [==============================] - 0s 103us/step - loss: 0.0157 - val_loss: 0.0150\n",
      "Epoch 5/200\n",
      "2468/2468 [==============================] - 0s 104us/step - loss: 0.0148 - val_loss: 0.0145\n",
      "Epoch 6/200\n",
      "2468/2468 [==============================] - 0s 102us/step - loss: 0.0142 - val_loss: 0.0135\n",
      "Epoch 7/200\n",
      "2468/2468 [==============================] - 0s 102us/step - loss: 0.0134 - val_loss: 0.0134\n",
      "Epoch 8/200\n",
      "2468/2468 [==============================] - 0s 104us/step - loss: 0.0127 - val_loss: 0.0129\n",
      "Epoch 9/200\n",
      "2468/2468 [==============================] - 0s 101us/step - loss: 0.0122 - val_loss: 0.0127\n",
      "Epoch 10/200\n",
      "2468/2468 [==============================] - 0s 103us/step - loss: 0.0118 - val_loss: 0.0128\n",
      "Epoch 11/200\n",
      "2468/2468 [==============================] - 0s 102us/step - loss: 0.0112 - val_loss: 0.0122\n",
      "Epoch 12/200\n",
      "2468/2468 [==============================] - 0s 101us/step - loss: 0.0110 - val_loss: 0.0116\n",
      "Epoch 13/200\n",
      "2468/2468 [==============================] - 0s 102us/step - loss: 0.0108 - val_loss: 0.0119\n",
      "Epoch 14/200\n",
      "2468/2468 [==============================] - 0s 103us/step - loss: 0.0102 - val_loss: 0.0115\n",
      "Epoch 15/200\n",
      "2468/2468 [==============================] - 0s 106us/step - loss: 0.0099 - val_loss: 0.0115\n",
      "Epoch 16/200\n",
      "2468/2468 [==============================] - 0s 106us/step - loss: 0.0096 - val_loss: 0.0113\n",
      "Epoch 17/200\n",
      "2468/2468 [==============================] - 0s 103us/step - loss: 0.0094 - val_loss: 0.0110\n",
      "Epoch 18/200\n",
      "2468/2468 [==============================] - 0s 103us/step - loss: 0.0091 - val_loss: 0.0113\n",
      "Epoch 19/200\n",
      "2468/2468 [==============================] - 0s 103us/step - loss: 0.0091 - val_loss: 0.0113\n",
      "Epoch 20/200\n",
      "2468/2468 [==============================] - 0s 104us/step - loss: 0.0090 - val_loss: 0.0110\n",
      "Epoch 21/200\n",
      "2468/2468 [==============================] - 0s 104us/step - loss: 0.0085 - val_loss: 0.0121\n",
      "Epoch 22/200\n",
      "2468/2468 [==============================] - 0s 103us/step - loss: 0.0085 - val_loss: 0.0112\n",
      "Epoch 23/200\n",
      "2468/2468 [==============================] - 0s 104us/step - loss: 0.0082 - val_loss: 0.0107\n",
      "Epoch 24/200\n",
      "2468/2468 [==============================] - 0s 106us/step - loss: 0.0082 - val_loss: 0.0113\n",
      "Epoch 25/200\n",
      "2468/2468 [==============================] - 0s 106us/step - loss: 0.0083 - val_loss: 0.0110\n",
      "Epoch 26/200\n",
      "2468/2468 [==============================] - 0s 104us/step - loss: 0.0083 - val_loss: 0.0111\n",
      "Epoch 27/200\n",
      "2468/2468 [==============================] - 0s 106us/step - loss: 0.0078 - val_loss: 0.0105\n",
      "Epoch 28/200\n",
      "2468/2468 [==============================] - 0s 103us/step - loss: 0.0077 - val_loss: 0.0105\n",
      "Epoch 29/200\n",
      "2468/2468 [==============================] - 0s 102us/step - loss: 0.0078 - val_loss: 0.0108\n",
      "Epoch 30/200\n",
      "2468/2468 [==============================] - 0s 102us/step - loss: 0.0075 - val_loss: 0.0111\n",
      "Epoch 31/200\n",
      "2468/2468 [==============================] - 0s 103us/step - loss: 0.0076 - val_loss: 0.0109\n",
      "Epoch 32/200\n",
      "2468/2468 [==============================] - 0s 102us/step - loss: 0.0073 - val_loss: 0.0107\n",
      "Epoch 33/200\n",
      "2468/2468 [==============================] - 0s 103us/step - loss: 0.0072 - val_loss: 0.0109\n",
      "Epoch 34/200\n",
      "2468/2468 [==============================] - 0s 102us/step - loss: 0.0072 - val_loss: 0.0112\n",
      "Epoch 35/200\n",
      "2468/2468 [==============================] - 0s 103us/step - loss: 0.0072 - val_loss: 0.0104\n",
      "Epoch 36/200\n",
      "2468/2468 [==============================] - 0s 106us/step - loss: 0.0071 - val_loss: 0.0108\n",
      "Epoch 37/200\n",
      "2468/2468 [==============================] - 0s 102us/step - loss: 0.0069 - val_loss: 0.0110\n",
      "Epoch 38/200\n",
      "2468/2468 [==============================] - 0s 104us/step - loss: 0.0074 - val_loss: 0.0106\n",
      "Epoch 39/200\n",
      "2468/2468 [==============================] - 0s 105us/step - loss: 0.0068 - val_loss: 0.0105\n",
      "Epoch 40/200\n",
      "2468/2468 [==============================] - 0s 107us/step - loss: 0.0071 - val_loss: 0.0107\n",
      "Epoch 41/200\n",
      "2468/2468 [==============================] - 0s 109us/step - loss: 0.0070 - val_loss: 0.0109\n",
      "Epoch 42/200\n",
      "2468/2468 [==============================] - 0s 107us/step - loss: 0.0069 - val_loss: 0.0106\n",
      "Epoch 43/200\n",
      "2468/2468 [==============================] - 0s 103us/step - loss: 0.0068 - val_loss: 0.0111\n",
      "Epoch 44/200\n",
      "2468/2468 [==============================] - 0s 102us/step - loss: 0.0067 - val_loss: 0.0112\n",
      "Epoch 45/200\n",
      "2468/2468 [==============================] - 0s 103us/step - loss: 0.0066 - val_loss: 0.0105\n",
      "Epoch 46/200\n",
      "2468/2468 [==============================] - 0s 104us/step - loss: 0.0066 - val_loss: 0.0109\n",
      "Epoch 47/200\n",
      "2468/2468 [==============================] - 0s 101us/step - loss: 0.0065 - val_loss: 0.0106\n",
      "Epoch 48/200\n",
      "2468/2468 [==============================] - 0s 102us/step - loss: 0.0064 - val_loss: 0.0108\n",
      "Epoch 49/200\n",
      "2468/2468 [==============================] - 0s 106us/step - loss: 0.0065 - val_loss: 0.0107\n",
      "Epoch 50/200\n",
      "2468/2468 [==============================] - 0s 104us/step - loss: 0.0064 - val_loss: 0.0109\n",
      "Epoch 51/200\n",
      "2468/2468 [==============================] - 0s 102us/step - loss: 0.0063 - val_loss: 0.0112\n",
      "Epoch 52/200\n",
      "2468/2468 [==============================] - 0s 104us/step - loss: 0.0063 - val_loss: 0.0114\n",
      "Epoch 53/200\n",
      "2468/2468 [==============================] - 0s 105us/step - loss: 0.0067 - val_loss: 0.0106\n",
      "Epoch 54/200\n",
      "2468/2468 [==============================] - 0s 105us/step - loss: 0.0065 - val_loss: 0.0111\n",
      "Epoch 55/200\n",
      "2468/2468 [==============================] - 0s 111us/step - loss: 0.0063 - val_loss: 0.0118\n",
      "Epoch 56/200\n",
      "2468/2468 [==============================] - 0s 102us/step - loss: 0.0063 - val_loss: 0.0108\n",
      "Epoch 57/200\n",
      "2468/2468 [==============================] - 0s 104us/step - loss: 0.0062 - val_loss: 0.0110\n",
      "Epoch 58/200\n",
      "2468/2468 [==============================] - 0s 103us/step - loss: 0.0061 - val_loss: 0.0109\n",
      "Epoch 59/200\n",
      "2468/2468 [==============================] - 0s 102us/step - loss: 0.0064 - val_loss: 0.0111\n",
      "Epoch 60/200\n",
      "2468/2468 [==============================] - 0s 101us/step - loss: 0.0063 - val_loss: 0.0113\n",
      "Epoch 61/200\n",
      "2468/2468 [==============================] - 0s 102us/step - loss: 0.0060 - val_loss: 0.0110\n",
      "Epoch 62/200\n",
      "2468/2468 [==============================] - 0s 100us/step - loss: 0.0060 - val_loss: 0.0110\n",
      "Epoch 63/200\n",
      "2468/2468 [==============================] - 0s 101us/step - loss: 0.0066 - val_loss: 0.0110\n",
      "Epoch 64/200\n",
      "2468/2468 [==============================] - 0s 100us/step - loss: 0.0061 - val_loss: 0.0110\n",
      "Epoch 65/200\n",
      "2468/2468 [==============================] - 0s 102us/step - loss: 0.0060 - val_loss: 0.0108\n",
      "('DONE. Mean Squared Error: ', 0.0065547371272636793)\n"
     ]
    }
   ],
   "source": [
    "model_DL = train_model_DL(X_train,y_train,[200, 200])"
   ]
  },
  {
   "cell_type": "code",
   "execution_count": null,
   "metadata": {
    "collapsed": true
   },
   "outputs": [],
   "source": []
  },
  {
   "cell_type": "code",
   "execution_count": 34,
   "metadata": {},
   "outputs": [
    {
     "name": "stdout",
     "output_type": "stream",
     "text": [
      "making predictions...\n"
     ]
    }
   ],
   "source": [
    "print \"making predictions...\"\n",
    "preds1 = RF.predict(X_test)\n",
    "results1 = np.argmax(preds1, axis=1)\n",
    "\n",
    "results2 = SGD.predict(X_test)\n",
    "\n",
    "preds3 = model_DL.predict(X_test)\n",
    "results3 = np.argmax(preds3, axis=1)"
   ]
  },
  {
   "cell_type": "code",
   "execution_count": 35,
   "metadata": {},
   "outputs": [
    {
     "name": "stdout",
     "output_type": "stream",
     "text": [
      "writing predictions...\n"
     ]
    }
   ],
   "source": [
    "print \"writing predictions...\"\n",
    "outputfile1 = \"tfidf_tags_predictions1.csv\"\n",
    "outputfile2 = \"tfidf_tags_predictions2.csv\"\n",
    "outputfile3 = \"tfidf_tags_predictions3.csv\"\n",
    "util.write_predictions(results1, ids, outputfile1)\n",
    "util.write_predictions(results2, ids, outputfile2)\n",
    "util.write_predictions(results3, ids, outputfile3)"
   ]
  },
  {
   "cell_type": "code",
   "execution_count": 36,
   "metadata": {},
   "outputs": [],
   "source": [
    "import csv \n",
    "import sys \n",
    "\n",
    "def reorder_submission(file_to_reorder, newfile_name = \"experiment_results.csv\"):\n",
    "    # READ IN KEYS IN CORRECT ORDER AS LIST\n",
    "    with open('keys.csv','r') as f:\n",
    "        keyreader = csv.reader(f)\n",
    "        keys = [key[0] for key in keyreader]\n",
    "\n",
    "    # READ IN ALL PREDICTIONS, REGARDLESS OF ORDER\n",
    "    with open(file_to_reorder) as f:\n",
    "        oldfile_reader = csv.reader(f)\n",
    "        D = {}\n",
    "        for i,row in enumerate(oldfile_reader):\n",
    "            if i == 0:\n",
    "                continue\n",
    "            _id, pred = row \n",
    "            D[_id] = pred\n",
    "\n",
    "    # WRITE PREDICTIONS IN NEW ORDER\n",
    "    with open(newfile_name,'w') as f:\n",
    "        writer = csv.writer(f)\n",
    "        writer.writerow(('Id','Prediction'))\n",
    "        for key in keys:\n",
    "            writer.writerow((key,D[key]))\n",
    "\n",
    "    print(\"\".join([\"Reordered \", file_to_reorder,\" and wrote to \", newfile_name]))"
   ]
  },
  {
   "cell_type": "code",
   "execution_count": 37,
   "metadata": {},
   "outputs": [
    {
     "name": "stdout",
     "output_type": "stream",
     "text": [
      "Reordered tfidf_tags_predictions1.csv and wrote to tfidf_tags_rf_results.csv\n",
      "Reordered tfidf_tags_predictions2.csv and wrote to tfidf_tags_sgd_results.csv\n",
      "Reordered tfidf_tags_predictions3.csv and wrote to tfidf_tags_nn_results.csv\n"
     ]
    }
   ],
   "source": [
    "reorder_submission(outputfile1, \"tfidf_tags_rf_results.csv\")\n",
    "reorder_submission(outputfile2, \"tfidf_tags_sgd_results.csv\")\n",
    "reorder_submission(outputfile3, \"tfidf_tags_nn_results.csv\")"
   ]
  },
  {
   "cell_type": "code",
   "execution_count": null,
   "metadata": {
    "collapsed": true
   },
   "outputs": [],
   "source": []
  },
  {
   "cell_type": "code",
   "execution_count": 11,
   "metadata": {},
   "outputs": [],
   "source": [
    "sparse.save_npz(\"tfidf_train_tag.npz\", X_train)"
   ]
  },
  {
   "cell_type": "code",
   "execution_count": 12,
   "metadata": {},
   "outputs": [],
   "source": [
    "# X = sparse.load_npz(\"tfidf_train.npz\")\n",
    "# X.shape"
   ]
  }
 ],
 "metadata": {
  "kernelspec": {
   "display_name": "Python 2",
   "language": "python",
   "name": "python2"
  },
  "language_info": {
   "codemirror_mode": {
    "name": "ipython",
    "version": 2
   },
   "file_extension": ".py",
   "mimetype": "text/x-python",
   "name": "python",
   "nbconvert_exporter": "python",
   "pygments_lexer": "ipython2",
   "version": "2.7.14"
  }
 },
 "nbformat": 4,
 "nbformat_minor": 2
}
