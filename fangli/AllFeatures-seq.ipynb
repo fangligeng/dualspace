{
 "cells": [
  {
   "cell_type": "code",
   "execution_count": 10,
   "metadata": {},
   "outputs": [],
   "source": [
    "import os\n",
    "import csv \n",
    "import sys \n",
    "import numpy as np\n",
    "from scipy import sparse\n",
    "from collections import Counter\n",
    "\n",
    "try:\n",
    "    import xml.etree.cElementTree as ET\n",
    "except ImportError:\n",
    "    import xml.etree.ElementTree as ET\n",
    "\n",
    "\n",
    "from sklearn.cross_validation import cross_val_score\n",
    "from sklearn.feature_extraction.text import TfidfVectorizer\n",
    "\n",
    "import util"
   ]
  },
  {
   "cell_type": "code",
   "execution_count": 2,
   "metadata": {},
   "outputs": [],
   "source": [
    "def write_to_file(rows, outfile):\n",
    "    \"\"\"\n",
    "    assumes len(predictions) == len(ids), and that predictions[i] is the\n",
    "    index of the predicted class with the malware_classes list above for \n",
    "    the executable corresponding to ids[i].\n",
    "    outfile will be overwritten\n",
    "    \"\"\"\n",
    "    with open(outfile,\"w+\") as f:\n",
    "        for r in rows:\n",
    "            f.write(\"%s\\n\" % (r))"
   ]
  },
  {
   "cell_type": "code",
   "execution_count": 3,
   "metadata": {},
   "outputs": [],
   "source": [
    "def reorder_submission(file_to_reorder, newfile_name = \"experiment_results.csv\"):\n",
    "    # READ IN KEYS IN CORRECT ORDER AS LIST\n",
    "    with open('keys.csv','r') as f:\n",
    "        keyreader = csv.reader(f)\n",
    "        keys = [key[0] for key in keyreader]\n",
    "\n",
    "    # READ IN ALL PREDICTIONS, REGARDLESS OF ORDER\n",
    "    with open(file_to_reorder) as f:\n",
    "        oldfile_reader = csv.reader(f)\n",
    "        D = {}\n",
    "        for i,row in enumerate(oldfile_reader):\n",
    "            if i == 0:\n",
    "                continue\n",
    "            _id, pred = row \n",
    "            D[_id] = pred\n",
    "\n",
    "    # WRITE PREDICTIONS IN NEW ORDER\n",
    "    with open(newfile_name,'w') as f:\n",
    "        writer = csv.writer(f)\n",
    "        writer.writerow(('Id','Prediction'))\n",
    "        for key in keys:\n",
    "            writer.writerow((key,D[key]))\n",
    "\n",
    "    print(\"\".join([\"Reordered \", file_to_reorder,\" and wrote to \", newfile_name]))"
   ]
  },
  {
   "cell_type": "code",
   "execution_count": 4,
   "metadata": {},
   "outputs": [
    {
     "name": "stderr",
     "output_type": "stream",
     "text": [
      "Using TensorFlow backend.\n"
     ]
    }
   ],
   "source": [
    "from keras.layers import Dense # For dense layers\n",
    "from keras.models import Sequential # For sequential layering\n",
    "from keras.callbacks import EarlyStopping # For stopping execution\n",
    "from sklearn.metrics import accuracy_score\n",
    "\n",
    "def train_model_DL(X_train, Y_train, n_nodes, n_output = 1, hid_activation = 'sigmoid', out_activation = 'softmax', optimizer = 'adam', loss = 'categorical_crossentropy'):\n",
    "    \"\"\" n_nodes is 1-D numpy array with number of nodes on each layer\n",
    "        e.g. [10,20,30] is a model with 3 (hidden) layers,\n",
    "        with 10/20/30 nodes on the first/second/third layers\n",
    "        Returns trained DL model \"\"\"\n",
    "    input_shape = (X_train.shape[1],) # Shape of input data\n",
    "    # Initialize model\n",
    "    model_DL = Sequential()\n",
    "    for i in range(len(n_nodes)):\n",
    "        if i == 0:\n",
    "            # First layer\n",
    "            model_DL.add(Dense(n_nodes[i], activation = hid_activation, input_shape = input_shape))\n",
    "        else:\n",
    "            # Subsequent layers\n",
    "            model_DL.add(Dense(n_nodes[i],activation = hid_activation))\n",
    "    # Output layer\n",
    "    model_DL.add(Dense(n_output, activation = out_activation))\n",
    "    # Compile model\n",
    "    model_DL.compile(optimizer = optimizer,loss = loss, metrics=['accuracy'])\n",
    "    # Print model summary\n",
    "    model_DL.summary()\n",
    "    # Early stopping monitor w/ patience=3 (stop after 3 runs without improvements)\n",
    "    early_stopping_monitor = EarlyStopping(patience=10)\n",
    "    # Fit model using 20% of data for validation\n",
    "    model_DL.fit(X_train, Y_train, validation_split=0.2, epochs=200, callbacks=[early_stopping_monitor])\n",
    "    return model_DL"
   ]
  },
  {
   "cell_type": "code",
   "execution_count": 5,
   "metadata": {},
   "outputs": [],
   "source": [
    "def get_classes_ids(direc):\n",
    "    classes = []\n",
    "    ids = [] \n",
    "    for datafile in os.listdir(direc):\n",
    "        # extract id and true class (if available) from filename\n",
    "        id_str,clazz = datafile.split('.')[:2]\n",
    "        ids.append(id_str)\n",
    "        # add target class if this is training data\n",
    "        try:\n",
    "            classes.append(util.origin_malware_classes.index(clazz))\n",
    "        except ValueError:\n",
    "            # we should only fail to find the label in our list of malware classes\n",
    "            # if this is test data, which always has an \"X\" label\n",
    "            assert clazz == \"X\"\n",
    "            classes.append(-1)\n",
    "    return np.array(classes), ids"
   ]
  },
  {
   "cell_type": "code",
   "execution_count": 6,
   "metadata": {},
   "outputs": [],
   "source": [
    "def get_file_feature(direc):\n",
    "    filesizes = []\n",
    "    process_size = []\n",
    "    thread_size = []\n",
    "    for datafile in os.listdir(direc):\n",
    "        filesizes = np.append(filesizes, os.path.getsize(os.path.join(direc,datafile))/1000)\n",
    "        tree = ET.parse(os.path.join(direc,datafile))\n",
    "        n_process = 0\n",
    "        n_thread = 0\n",
    "        for el in tree.iter():\n",
    "            if el.tag == \"process\":\n",
    "                n_process += 1\n",
    "            elif el.tag == \"thread\":\n",
    "                n_thread += 1\n",
    "        process_size.append(n_process)\n",
    "        thread_size.append(n_thread)\n",
    "        \n",
    "    filesizes = np.array(filesizes)\n",
    "    filesizes = np.true_divide(filesizes, np.std(filesizes))\n",
    "    process_size = np.array(process_size)\n",
    "    process_size = np.true_divide(process_size, np.std(process_size))\n",
    "    thread_size = np.array(thread_size)\n",
    "    thread_size = np.true_divide(thread_size, np.std(thread_size))\n",
    "\n",
    "    return np.asmatrix(np.array((filesizes, process_size, thread_size))).T"
   ]
  },
  {
   "cell_type": "code",
   "execution_count": 7,
   "metadata": {},
   "outputs": [],
   "source": [
    "#############################\n",
    "#\n",
    "#  Below is main function\n",
    "#\n",
    "#############################"
   ]
  },
  {
   "cell_type": "code",
   "execution_count": 8,
   "metadata": {},
   "outputs": [],
   "source": [
    "train_dir = \"../train_origin\"\n",
    "test_dir = \"../test_origin\""
   ]
  },
  {
   "cell_type": "code",
   "execution_count": 11,
   "metadata": {},
   "outputs": [],
   "source": [
    "train_classes, _ = get_classes_ids(train_dir)"
   ]
  },
  {
   "cell_type": "code",
   "execution_count": 12,
   "metadata": {},
   "outputs": [],
   "source": [
    "_, ids = get_classes_ids(test_dir)"
   ]
  },
  {
   "cell_type": "code",
   "execution_count": 26,
   "metadata": {},
   "outputs": [
    {
     "data": {
      "text/plain": [
       "(3086, 15)"
      ]
     },
     "execution_count": 26,
     "metadata": {},
     "output_type": "execute_result"
    }
   ],
   "source": [
    "y_train = np.zeros((len(train_classes),len(util.malware_classes)))\n",
    "y_train[np.arange(len(train_classes)), train_classes] = 1\n",
    "y_train.shape"
   ]
  },
  {
   "cell_type": "code",
   "execution_count": 27,
   "metadata": {},
   "outputs": [],
   "source": [
    "X_train = sparse.load_npz(\"tfidf_train_tokens.npz\")\n",
    "X_test = sparse.load_npz(\"tfidf_test_tokens.npz\")"
   ]
  },
  {
   "cell_type": "code",
   "execution_count": 28,
   "metadata": {},
   "outputs": [
    {
     "name": "stdout",
     "output_type": "stream",
     "text": [
      "(3086, 3)\n",
      "(3724, 3)\n"
     ]
    }
   ],
   "source": [
    "train_features = get_file_feature(train_dir)\n",
    "test_features = get_file_feature(test_dir)\n",
    "print train_features.shape\n",
    "print test_features.shape"
   ]
  },
  {
   "cell_type": "code",
   "execution_count": 29,
   "metadata": {},
   "outputs": [],
   "source": [
    "X_train = sparse.hstack([X_train, train_features])\n",
    "X_test = sparse.hstack([X_test, test_features])"
   ]
  },
  {
   "cell_type": "code",
   "execution_count": 30,
   "metadata": {},
   "outputs": [
    {
     "name": "stdout",
     "output_type": "stream",
     "text": [
      "(3086, 159892)\n",
      "(3724, 159892)\n"
     ]
    }
   ],
   "source": [
    "print X_train.shape\n",
    "print X_test.shape"
   ]
  },
  {
   "cell_type": "code",
   "execution_count": 31,
   "metadata": {},
   "outputs": [],
   "source": [
    "########################\n",
    "#\n",
    "# Finish collecting data\n",
    "#\n",
    "########################"
   ]
  },
  {
   "cell_type": "code",
   "execution_count": 71,
   "metadata": {},
   "outputs": [],
   "source": [
    "X_train = X_train_bkup\n",
    "X_test = X_test_bkup"
   ]
  },
  {
   "cell_type": "code",
   "execution_count": 72,
   "metadata": {},
   "outputs": [
    {
     "name": "stdout",
     "output_type": "stream",
     "text": [
      "Features: 159892\tAccuracy: 0.85710 (+/- 0.02777)\n"
     ]
    }
   ],
   "source": [
    "from sklearn.ensemble import RandomForestClassifier\n",
    "RF = RandomForestClassifier(n_estimators = 1000, n_jobs = -1, class_weight=\"balanced\")\n",
    "RF.fit(X_train, y_train)\n",
    "scores = cross_val_score(RF, X_train, y_train, cv=5)\n",
    "print \"Features: \" + str(RF.n_features_) + (\"\\tAccuracy: %0.5f (+/- %0.5f)\" % (scores.mean(), scores.std() * 2))\n",
    "RF_best = RF\n",
    "score_best = scores.mean()\n",
    "X_train_best = X_train\n",
    "X_test_best = X_test"
   ]
  },
  {
   "cell_type": "code",
   "execution_count": 73,
   "metadata": {},
   "outputs": [],
   "source": [
    "#X_train_bkup = X_train\n",
    "#X_test_bkup = X_test"
   ]
  },
  {
   "cell_type": "code",
   "execution_count": 74,
   "metadata": {},
   "outputs": [
    {
     "name": "stdout",
     "output_type": "stream",
     "text": [
      "Features: 23672\tAccuracy: 0.86228 (+/- 0.02817)\n"
     ]
    }
   ],
   "source": [
    "from sklearn.feature_selection import SelectFromModel\n",
    "while X_train.shape[1] > 100000:\n",
    "    model = SelectFromModel(RF, prefit=True, threshold = \"0.2*mean\")\n",
    "    X_train = model.transform(X_train)\n",
    "    ## trick: break if we didn't remove any feature\n",
    "    if X_train.shape[1] == X_test.shape[1]:\n",
    "        break\n",
    "    X_test = model.transform(X_test)\n",
    "    \n",
    "    RF = RandomForestClassifier(n_estimators = 100, n_jobs = -1)\n",
    "    RF.fit(X_train, y_train)\n",
    "    scores = cross_val_score(RF, X_train, y_train, cv=5)\n",
    "    mean_score = scores.mean()\n",
    "    print \"Features: \" + str(RF.n_features_) + (\"\\tAccuracy: %0.5f (+/- %0.5f)\" % (mean_score, scores.std() * 2))\n",
    "    \n",
    "    if score_best <= mean_score:\n",
    "        del X_train_best\n",
    "        del X_test_best\n",
    "        RF_best = RF\n",
    "        score_best = mean_score\n",
    "        X_train_best = X_train\n",
    "        X_test_best = X_test"
   ]
  },
  {
   "cell_type": "code",
   "execution_count": 75,
   "metadata": {},
   "outputs": [],
   "source": [
    "X_train4_all = X_train_best\n",
    "X_test4 = X_test_best"
   ]
  },
  {
   "cell_type": "code",
   "execution_count": 76,
   "metadata": {},
   "outputs": [
    {
     "name": "stdout",
     "output_type": "stream",
     "text": [
      "(1, ') Scores: Train ', array([0.8592233 , 0.83468395, 0.85737439, 0.86385737, 0.87844408]))\n",
      "\t\tscore for class Agent: 0.9676018480163968\n",
      "\t\tscore for class AutoRun: 0.9912516456599162\n",
      "\t\tscore for class FraudLoad: 0.9931954827703912\n",
      "\t\tscore for class FraudPack: 0.9974078527515925\n",
      "\t\tscore for class Hupigon: 0.9919004683902168\n",
      "\t\tscore for class Krap: 0.9935185845557044\n",
      "\t\tscore for class Lipler: 0.9990270247551802\n",
      "\t\tscore for class Magania: 0.9970831825358111\n",
      "\t\tscore for class None: 0.9306582500021626\n",
      "\t\tscore for class Poison: 0.9931944422589731\n",
      "\t\tscore for class Swizzor: 0.9974057546991096\n",
      "\t\tscore for class Tdss: 0.9938453613387918\n",
      "\t\tscore for class VB: 0.9766675583389718\n",
      "\t\tscore for class Virut: 0.9808835760705126\n",
      "\t\tscore for class Zbot: 0.9957881596408132\n",
      "     Best class: Lipler     ( 53 elements). Score: 0.999\n",
      "(2, ') Scores: Train ', array([0.8616145 , 0.83855025, 0.8583196 , 0.86138614, 0.87458746]))\n",
      "\t\tscore for class Agent: 0.9670336433074189\n",
      "\t\tscore for class AutoRun: 0.991756786881324\n",
      "\t\tscore for class FraudLoad: 0.9930779973753033\n",
      "\t\tscore for class FraudPack: 0.9973635365899376\n",
      "\t\tscore for class Hupigon: 0.9917600348433353\n",
      "\t\tscore for class Krap: 0.9930763679932468\n",
      "\t\tscore for class Magania: 0.9970324197402831\n",
      "\t\tscore for class None: 0.9281266763788855\n",
      "\t\tscore for class Poison: 0.9930747386821401\n",
      "\t\tscore for class Swizzor: 0.9973597359735973\n",
      "\t\tscore for class Tdss: 0.9937369759584993\n",
      "\t\tscore for class VB: 0.9769215916215744\n",
      "\t\tscore for class Virut: 0.9795596824921372\n",
      "\t\tscore for class Zbot: 0.9957150080741188\n",
      "     Best class: FraudPack  ( 32 elements). Score: 0.997\n",
      "(3, ') Scores: Train ', array([0.86023295, 0.83833333, 0.86      , 0.86166667, 0.87833333]))\n",
      "\t\tscore for class Agent: 0.9663504972698999\n",
      "\t\tscore for class AutoRun: 0.9906705490848585\n",
      "\t\tscore for class FraudLoad: 0.9936688759320628\n",
      "\t\tscore for class Hupigon: 0.9916711037160288\n",
      "\t\tscore for class Krap: 0.9943355463024435\n",
      "\t\tscore for class Magania: 0.9970005546311704\n",
      "\t\tscore for class None: 0.9290287760058593\n",
      "\t\tscore for class Poison: 0.9930016638935107\n",
      "\t\tscore for class Swizzor: 0.9969983305509181\n",
      "\t\tscore for class Tdss: 0.993671101864172\n",
      "\t\tscore for class VB: 0.9763405435385468\n",
      "\t\tscore for class Virut: 0.9796760750261342\n",
      "\t\tscore for class Zbot: 0.9956688851913478\n",
      "     Best class: Magania    ( 41 elements). Score: 0.997\n",
      "(4, ') Scores: Train ', array([0.86317568, 0.84121622, 0.86317568, 0.86486486, 0.87837838]))\n",
      "\t\tscore for class Agent: 0.965884616265541\n",
      "\t\tscore for class AutoRun: 0.9912162162162161\n",
      "\t\tscore for class FraudLoad: 0.9935816353671448\n",
      "\t\tscore for class Hupigon: 0.9915568968185792\n",
      "\t\tscore for class Krap: 0.9942573206825781\n",
      "\t\tscore for class None: 0.9287167145916857\n",
      "\t\tscore for class Poison: 0.9929042563462959\n",
      "\t\tscore for class Swizzor: 0.9972938674715325\n",
      "\t\tscore for class Tdss: 0.9932443691669345\n",
      "\t\tscore for class VB: 0.9763518998535605\n",
      "\t\tscore for class Virut: 0.979393579813453\n",
      "\t\tscore for class Zbot: 0.9956081081081081\n",
      "     Best class: Swizzor    (542 elements). Score: 0.997\n",
      "(5, ') Scores: Train ', array([0.83471074, 0.80578512, 0.83677686, 0.83850932, 0.86542443]))\n",
      "\t\tscore for class Agent: 0.9590634751894654\n",
      "\t\tscore for class AutoRun: 0.9884194856526873\n",
      "\t\tscore for class FraudLoad: 0.9929700628209247\n",
      "\t\tscore for class Hupigon: 0.9896651155915244\n",
      "\t\tscore for class Krap: 0.9929700627550495\n",
      "\t\tscore for class None: 0.914401083639107\n",
      "\t\tscore for class Poison: 0.9913128925866793\n",
      "\t\tscore for class Tdss: 0.9921444650184309\n",
      "\t\tscore for class VB: 0.9710520939338021\n",
      "\t\tscore for class Virut: 0.9751877507630053\n",
      "\t\tscore for class Zbot: 0.9946255325701967\n",
      "     Best class: Zbot       ( 40 elements). Score: 0.995\n",
      "(6, ') Scores: Train ', array([0.83823529, 0.81302521, 0.82983193, 0.84      , 0.86736842]))\n",
      "\t\tscore for class Agent: 0.9545899372407189\n",
      "\t\tscore for class AutoRun: 0.9890659000442282\n",
      "\t\tscore for class FraudLoad: 0.9924316562772081\n",
      "\t\tscore for class Hupigon: 0.9894913458266459\n",
      "\t\tscore for class Krap: 0.9928518242740134\n",
      "\t\tscore for class None: 0.9133851008757933\n",
      "\t\tscore for class Poison: 0.991166729253767\n",
      "\t\tscore for class Tdss: 0.9920123653566029\n",
      "\t\tscore for class VB: 0.9701459049028417\n",
      "\t\tscore for class Virut: 0.9747704144949119\n",
      "     Best class: Krap       ( 39 elements). Score: 0.993\n",
      "(7, ') Scores: Train ', array([0.8482906 , 0.81196581, 0.83333333, 0.84615385, 0.86937901]))\n",
      "\t\tscore for class Agent: 0.9534023316678562\n",
      "\t\tscore for class AutoRun: 0.9888824832079651\n",
      "\t\tscore for class FraudLoad: 0.9931623619437229\n",
      "\t\tscore for class Hupigon: 0.9893143779030193\n",
      "\t\tscore for class None: 0.9170638188839474\n",
      "\t\tscore for class Poison: 0.9910201387349906\n",
      "\t\tscore for class Tdss: 0.991879391662063\n",
      "\t\tscore for class VB: 0.9692224787226227\n",
      "\t\tscore for class Virut: 0.9756318746682773\n",
      "     Best class: FraudLoad  ( 37 elements). Score: 0.993\n",
      "(8, ') Scores: Train ', array([0.85249458, 0.81561822, 0.83913043, 0.84782609, 0.88695652]))\n",
      "\t\tscore for class Agent: 0.9535262864930939\n",
      "\t\tscore for class AutoRun: 0.9887079128548525\n",
      "\t\tscore for class Hupigon: 0.9891454921889705\n",
      "\t\tscore for class None: 0.9131263256976846\n",
      "\t\tscore for class Poison: 0.9904404291360812\n",
      "\t\tscore for class Tdss: 0.9917476185985098\n",
      "\t\tscore for class VB: 0.9682853378505552\n",
      "\t\tscore for class Virut: 0.9730707838062027\n",
      "     Best class: Tdss       ( 32 elements). Score: 0.992\n",
      "(9, ') Scores: Train ', array([0.86123348, 0.81497797, 0.84140969, 0.86123348, 0.8876652 ]))\n",
      "\t\tscore for class Agent: 0.9524315442995608\n",
      "\t\tscore for class AutoRun: 0.9885462555066079\n",
      "\t\tscore for class Hupigon: 0.9889916122912009\n",
      "\t\tscore for class None: 0.9171843527323877\n",
      "\t\tscore for class Poison: 0.9903064122814976\n",
      "\t\tscore for class VB: 0.9696054135981784\n",
      "\t\tscore for class Virut: 0.974891761485104\n",
      "     Best class: Poison     ( 21 elements). Score: 0.990\n",
      "(10, ') Scores: Train ', array([0.86444444, 0.82666667, 0.86222222, 0.86888889, 0.89532294]))\n",
      "\t\tscore for class Agent: 0.9510932937391734\n",
      "\t\tscore for class AutoRun: 0.9884375154664686\n",
      "\t\tscore for class Hupigon: 0.9888868740641243\n",
      "\t\tscore for class None: 0.915966344964118\n",
      "\t\tscore for class VB: 0.9684305425925286\n",
      "\t\tscore for class Virut: 0.9742123236822569\n",
      "     Best class: Hupigon    ( 41 elements). Score: 0.989\n",
      "(11, ') Scores: Train ', array([0.8800905 , 0.83710407, 0.88461538, 0.88662132, 0.91156463]))\n",
      "\t\tscore for class Agent: 0.9519971205265323\n",
      "\t\tscore for class AutoRun: 0.9882240075517386\n",
      "\t\tscore for class None: 0.926641299876594\n",
      "\t\tscore for class VB: 0.9682980375110048\n",
      "\t\tscore for class Virut: 0.9728280542986425\n",
      "     Best class: AutoRun    ( 50 elements). Score: 0.988\n",
      "(12, ') Scores: Train ', array([0.89583333, 0.85648148, 0.88657407, 0.89559165, 0.92343387]))\n",
      "\t\tscore for class Agent: 0.9522825150732128\n",
      "\t\tscore for class None: 0.9235529715762274\n",
      "\t\tscore for class VB: 0.9712715410013573\n",
      "\t\tscore for class Virut: 0.9731244616709732\n",
      "     Best class: Virut      ( 59 elements). Score: 0.973\n",
      "(13, ') Scores: Train ', array([0.91428571, 0.9       , 0.91904762, 0.92142857, 0.93317422]))\n",
      "\t\tscore for class Agent: 0.9499818161154676\n",
      "\t\tscore for class None: 0.9433049210137515\n",
      "\t\tscore for class VB: 0.9695078500337033\n",
      "     Best class: VB         (376 elements). Score: 0.970\n",
      "(14, ') Scores: Train ', array([0.92463768, 0.93913043, 0.94492754, 0.95639535, 0.9505814 ]))\n",
      "\t\tscore for class Agent: 0.9472058140026197\n",
      "\t\tscore for class None: 0.9466193433895297\n",
      "     Best class: Agent      (114 elements). Score: 0.947\n"
     ]
    }
   ],
   "source": [
    "# Initialize array of results\n",
    "results4 = np.full(X_test4.shape[0],-1)\n",
    "classes = np.array(util.origin_malware_classes)\n",
    "n_classes = len(classes)\n",
    "iclasses = np.arange(n_classes)\n",
    "ih = np.arange(X_test4.shape[0])\n",
    "for i in range(n_classes-1):\n",
    "    # Fit classifier on current classes\n",
    "    RF_vec4_ = RandomForestClassifier(class_weight=\"balanced\", n_jobs=-1,\n",
    "                                      n_estimators=1000, max_features='sqrt')\n",
    "    y_train_ = y_train[:,iclasses]\n",
    "    ix = np.sum(y_train_,axis=1) > 0\n",
    "    RF_vec4_.fit(X_train4_all[ix,:], y_train_[ix,:])\n",
    "    print(i+1,') Scores: Train ', cross_val_score(RF_vec4_, X_train4_all[ix,:], y_train_[ix,:], cv = 5))\n",
    "    # Find smallest class with largest score  \n",
    "    scores = []\n",
    "    for j in iclasses:\n",
    "        score = cross_val_score(RF_vec4_, X_train4_all[ix, :],\n",
    "                            y_train[ix,j], cv = 5)\n",
    "        print \"\\t\\tscore for class \" + util.origin_malware_classes[j] + \": \" + str(score.mean())\n",
    "        scores.append(score.mean())\n",
    "    scores = np.array(scores)\n",
    "    imax = [np.argmax(scores)]\n",
    "    if len(imax) > 1:\n",
    "        y_train_ = y_train[:,iclasses[imax]]\n",
    "        imax = imax[np.argmin(np.sum(y_train_,axis=0))]\n",
    "    else: imax = imax[0]\n",
    "    print('     Best class: {:10s} ({:3d} elements). Score: {:.3f}'.format(classes[imax],\n",
    "        int(np.sum(y_train[:,iclasses[imax]],axis=0)), scores[imax]))\n",
    "    # Make predictions for best class\n",
    "    preds4_ = RF_vec4_.predict(X_test4[ih,:])\n",
    "    results4_ = np.argmax(preds4_, axis=1)\n",
    "    if i < n_classes-2:\n",
    "        results4[ih[results4_ == imax]] = iclasses[imax]\n",
    "        # Take out best class\n",
    "        ih = ih[results4_ != imax]\n",
    "        classes = np.delete(classes, imax)\n",
    "        iclasses = np.delete(iclasses, imax)\n",
    "    else:\n",
    "        results4[ih] = iclasses[results4_]"
   ]
  },
  {
   "cell_type": "code",
   "execution_count": 77,
   "metadata": {},
   "outputs": [
    {
     "data": {
      "image/png": "[encoded data removed]",
      "text/plain": [
       "<matplotlib.figure.Figure at 0x1a1bea2510>"
      ]
     },
     "metadata": {},
     "output_type": "display_data"
    }
   ],
   "source": [
    "import matplotlib.pyplot as plt\n",
    "%matplotlib inline\n",
    "plt.hist(results4,bins=15, normed = True)\n",
    "plt.show()"
   ]
  },
  {
   "cell_type": "code",
   "execution_count": 78,
   "metadata": {},
   "outputs": [
    {
     "name": "stdout",
     "output_type": "stream",
     "text": [
      "Reordered tdidf_seq_rf.csv and wrote to all_seleted_seq_rf_results_final.csv\n"
     ]
    }
   ],
   "source": [
    "util.write_predictions(results4, ids, \"tdidf_seq_rf.csv\")\n",
    "reorder_submission(\"tdidf_seq_rf.csv\", \"all_seleted_seq_rf_results_final.csv\")"
   ]
  },
  {
   "cell_type": "code",
   "execution_count": null,
   "metadata": {},
   "outputs": [],
   "source": []
  },
  {
   "cell_type": "code",
   "execution_count": 79,
   "metadata": {},
   "outputs": [],
   "source": [
    "X_train4_all = X_train_best\n",
    "X_test4 = X_test_best"
   ]
  },
  {
   "cell_type": "code",
   "execution_count": 80,
   "metadata": {},
   "outputs": [
    {
     "ename": "TypeError",
     "evalue": "object of type 'numpy.int64' has no len()",
     "output_type": "error",
     "traceback": [
      "\u001b[0;31m---------------------------------------------------------------------------\u001b[0m",
      "\u001b[0;31mTypeError\u001b[0m                                 Traceback (most recent call last)",
      "\u001b[0;32m<ipython-input-80-24edac1944db>\u001b[0m in \u001b[0;36m<module>\u001b[0;34m()\u001b[0m\n\u001b[1;32m     12\u001b[0m     \u001b[0my_train_\u001b[0m \u001b[0;34m=\u001b[0m \u001b[0my_train\u001b[0m\u001b[0;34m[\u001b[0m\u001b[0;34m:\u001b[0m\u001b[0;34m,\u001b[0m\u001b[0miclasses\u001b[0m\u001b[0;34m]\u001b[0m\u001b[0;34m\u001b[0m\u001b[0m\n\u001b[1;32m     13\u001b[0m     \u001b[0mimax\u001b[0m \u001b[0;34m=\u001b[0m \u001b[0mnp\u001b[0m\u001b[0;34m.\u001b[0m\u001b[0margmax\u001b[0m\u001b[0;34m(\u001b[0m\u001b[0mprop\u001b[0m\u001b[0;34m)\u001b[0m\u001b[0;34m\u001b[0m\u001b[0m\n\u001b[0;32m---> 14\u001b[0;31m     \u001b[0;32mif\u001b[0m \u001b[0mlen\u001b[0m\u001b[0;34m(\u001b[0m\u001b[0mimax\u001b[0m\u001b[0;34m)\u001b[0m \u001b[0;34m>\u001b[0m \u001b[0;36m1\u001b[0m\u001b[0;34m:\u001b[0m\u001b[0;34m\u001b[0m\u001b[0m\n\u001b[0m\u001b[1;32m     15\u001b[0m         \u001b[0mimax\u001b[0m \u001b[0;34m=\u001b[0m \u001b[0mimax\u001b[0m\u001b[0;34m[\u001b[0m\u001b[0;36m0\u001b[0m\u001b[0;34m]\u001b[0m\u001b[0;34m\u001b[0m\u001b[0m\n\u001b[1;32m     16\u001b[0m     \u001b[0mprop\u001b[0m\u001b[0;34m[\u001b[0m\u001b[0mimax\u001b[0m\u001b[0;34m]\u001b[0m \u001b[0;34m=\u001b[0m \u001b[0;34m-\u001b[0m\u001b[0;36m1\u001b[0m\u001b[0;34m\u001b[0m\u001b[0m\n",
      "\u001b[0;31mTypeError\u001b[0m: object of type 'numpy.int64' has no len()"
     ]
    }
   ],
   "source": [
    "# Initialize array of results\n",
    "prop = [3.69, 1.62, 1.20, 1.03, 1.33, 1.26, 1.72, 1.33, 52.14, 0.68, 17.56, 1.04, 12.18, 1.91, 1.30]\n",
    "results4 = np.full(X_test4.shape[0],-1)\n",
    "classes = np.array(util.origin_malware_classes)\n",
    "n_classes = len(classes)\n",
    "iclasses = np.arange(n_classes)\n",
    "ih = np.arange(X_test4.shape[0])\n",
    "for i in range(n_classes-1):\n",
    "    # Fit classifier on current classes\n",
    "    RF_vec4_ = RandomForestClassifier(class_weight=\"balanced\", n_jobs=-1,\n",
    "                                      n_estimators=1000, max_features='sqrt')\n",
    "    y_train_ = y_train[:,iclasses]\n",
    "    imax = np.argmax(prop)\n",
    "    if len(imax) > 1:\n",
    "        imax = imax[0]\n",
    "    prop[imax] = -1\n",
    "    \n",
    "    ix = np.sum(y_train_,axis=1) > 0\n",
    "    \n",
    "    RF_vec4_.fit(X_train4_all[ix,:], y_train[ix,imax])\n",
    "    print(i+1,') Scores: Train ', cross_val_score(RF_vec4_, X_train4_all[ix,:], y_train_[ix,imax], cv = 5))\n",
    "    # Find smallest class with largest score  \n",
    "    \n",
    "    print('     Best class: {:10s} ({:3d} elements)'.format(classes[imax],\n",
    "        int(np.sum(y_train[:,iclasses[imax]],axis=0))))\n",
    "    # Make predictions for best class\n",
    "    preds4_ = RF_vec4_.predict(X_test4[ih,:])\n",
    "    results4_ = np.argmax(preds4_, axis=1)\n",
    "    if i < n_classes-2:\n",
    "        results4[ih[results4_ == imax]] = iclasses[imax]\n",
    "        # Take out best class\n",
    "        ih = ih[results4_ != imax]\n",
    "        classes = np.delete(classes, imax)\n",
    "        iclasses = np.delete(iclasses, imax)\n",
    "    else:\n",
    "        results4[ih] = iclasses[results4_]"
   ]
  },
  {
   "cell_type": "code",
   "execution_count": null,
   "metadata": {},
   "outputs": [],
   "source": [
    "import matplotlib.pyplot as plt\n",
    "%matplotlib inline\n",
    "plt.hist(results4,bins=15, normed = True)\n",
    "plt.show()"
   ]
  },
  {
   "cell_type": "code",
   "execution_count": null,
   "metadata": {},
   "outputs": [],
   "source": [
    "util.write_predictions(results4, ids, \"tdidf_seq_rf.csv\")\n",
    "reorder_submission(\"tdidf_seq_rf.csv\", \"all_seleted_seq_rf_results_final2.csv\")"
   ]
  },
  {
   "cell_type": "code",
   "execution_count": null,
   "metadata": {},
   "outputs": [],
   "source": []
  },
  {
   "cell_type": "code",
   "execution_count": null,
   "metadata": {},
   "outputs": [],
   "source": []
  },
  {
   "cell_type": "code",
   "execution_count": null,
   "metadata": {},
   "outputs": [],
   "source": []
  },
  {
   "cell_type": "code",
   "execution_count": 34,
   "metadata": {},
   "outputs": [],
   "source": [
    "sparse.save_npz(\"tfidf_train_major_features.npz\", X_train_major_best)\n",
    "sparse.save_npz(\"tfidf_test_major_features.npz\", X_test_major_best)"
   ]
  },
  {
   "cell_type": "code",
   "execution_count": 35,
   "metadata": {},
   "outputs": [],
   "source": [
    "# X_train_major_best = sparse.load_npz(\"tfidf_train_major_features.npz\")\n",
    "# X_test_major_best = sparse.load_npz(\"tfidf_test_major_features.npz\")"
   ]
  },
  {
   "cell_type": "code",
   "execution_count": 36,
   "metadata": {},
   "outputs": [
    {
     "name": "stdout",
     "output_type": "stream",
     "text": [
      "Features: 131\tAccuracy: 0.89987 (+/- 0.03900)\n"
     ]
    }
   ],
   "source": [
    "from sklearn.ensemble import RandomForestClassifier\n",
    "RF_major = RandomForestClassifier(n_estimators = 100, n_jobs = -1, max_features = None)\n",
    "RF_major.fit(X_train_major_best, y_train_major)\n",
    "scores = cross_val_score(RF_major, X_train_major_best, y_train_major, cv=5)\n",
    "print \"Features: \" + str(RF_major.n_features_) + (\"\\tAccuracy: %0.5f (+/- %0.5f)\" % (scores.mean(), scores.std() * 2))"
   ]
  },
  {
   "cell_type": "code",
   "execution_count": 37,
   "metadata": {},
   "outputs": [
    {
     "name": "stdout",
     "output_type": "stream",
     "text": [
      "[1 0 0 ..., 3 0 0]\n"
     ]
    }
   ],
   "source": [
    "preds_RF_major = RF_major.predict(X_test_major_best)\n",
    "results_RF_major = np.argmax(preds_RF_major, axis=1)\n",
    "print results_RF_major"
   ]
  },
  {
   "cell_type": "code",
   "execution_count": 38,
   "metadata": {},
   "outputs": [
    {
     "name": "stdout",
     "output_type": "stream",
     "text": [
      "_________________________________________________________________\n",
      "Layer (type)                 Output Shape              Param #   \n",
      "=================================================================\n",
      "dense_1 (Dense)              (None, 100)               13200     \n",
      "_________________________________________________________________\n",
      "dense_2 (Dense)              (None, 4)                 404       \n",
      "=================================================================\n",
      "Total params: 13,604\n",
      "Trainable params: 13,604\n",
      "Non-trainable params: 0\n",
      "_________________________________________________________________\n",
      "Train on 2468 samples, validate on 618 samples\n",
      "Epoch 1/200\n",
      "2468/2468 [==============================] - 0s 144us/step - loss: 1.2445 - acc: 0.4562 - val_loss: 1.0526 - val_acc: 0.5680\n",
      "Epoch 2/200\n",
      "2468/2468 [==============================] - 0s 96us/step - loss: 1.0712 - acc: 0.5446 - val_loss: 0.9624 - val_acc: 0.6230\n",
      "Epoch 3/200\n",
      "2468/2468 [==============================] - 0s 96us/step - loss: 0.9858 - acc: 0.5794 - val_loss: 0.8887 - val_acc: 0.6731\n",
      "Epoch 4/200\n",
      "2468/2468 [==============================] - 0s 96us/step - loss: 0.9083 - acc: 0.6248 - val_loss: 0.8166 - val_acc: 0.7848\n",
      "Epoch 5/200\n",
      "2468/2468 [==============================] - 0s 96us/step - loss: 0.8349 - acc: 0.7536 - val_loss: 0.7490 - val_acc: 0.7929\n",
      "Epoch 6/200\n",
      "2468/2468 [==============================] - 0s 97us/step - loss: 0.7701 - acc: 0.7577 - val_loss: 0.6928 - val_acc: 0.7799\n",
      "Epoch 7/200\n",
      "2468/2468 [==============================] - 0s 97us/step - loss: 0.7154 - acc: 0.7666 - val_loss: 0.6569 - val_acc: 0.7929\n",
      "Epoch 8/200\n",
      "2468/2468 [==============================] - 0s 96us/step - loss: 0.6714 - acc: 0.7715 - val_loss: 0.6104 - val_acc: 0.7913\n",
      "Epoch 9/200\n",
      "2468/2468 [==============================] - 0s 98us/step - loss: 0.6372 - acc: 0.7731 - val_loss: 0.5834 - val_acc: 0.7799\n",
      "Epoch 10/200\n",
      "2468/2468 [==============================] - 0s 96us/step - loss: 0.6125 - acc: 0.7731 - val_loss: 0.5586 - val_acc: 0.8074\n",
      "Epoch 11/200\n",
      "2468/2468 [==============================] - 0s 96us/step - loss: 0.5919 - acc: 0.7840 - val_loss: 0.5468 - val_acc: 0.8091\n",
      "Epoch 12/200\n",
      "2468/2468 [==============================] - 0s 96us/step - loss: 0.5696 - acc: 0.7812 - val_loss: 0.5283 - val_acc: 0.8123\n",
      "Epoch 13/200\n",
      "2468/2468 [==============================] - 0s 96us/step - loss: 0.5544 - acc: 0.7836 - val_loss: 0.5133 - val_acc: 0.8139\n",
      "Epoch 14/200\n",
      "2468/2468 [==============================] - 0s 97us/step - loss: 0.5397 - acc: 0.7873 - val_loss: 0.5018 - val_acc: 0.8172\n",
      "Epoch 15/200\n",
      "2468/2468 [==============================] - 0s 96us/step - loss: 0.5289 - acc: 0.7913 - val_loss: 0.4947 - val_acc: 0.8155\n",
      "Epoch 16/200\n",
      "2468/2468 [==============================] - 0s 98us/step - loss: 0.5164 - acc: 0.7962 - val_loss: 0.4955 - val_acc: 0.8382\n",
      "Epoch 17/200\n",
      "2468/2468 [==============================] - 0s 99us/step - loss: 0.5097 - acc: 0.7950 - val_loss: 0.4816 - val_acc: 0.8236\n",
      "Epoch 18/200\n",
      "2468/2468 [==============================] - 0s 96us/step - loss: 0.4964 - acc: 0.8019 - val_loss: 0.4682 - val_acc: 0.8220\n",
      "Epoch 19/200\n",
      "2468/2468 [==============================] - 0s 96us/step - loss: 0.4876 - acc: 0.8051 - val_loss: 0.4581 - val_acc: 0.8188\n",
      "Epoch 20/200\n",
      "2468/2468 [==============================] - 0s 94us/step - loss: 0.4801 - acc: 0.8217 - val_loss: 0.4538 - val_acc: 0.8447\n",
      "Epoch 21/200\n",
      "2468/2468 [==============================] - 0s 100us/step - loss: 0.4715 - acc: 0.8282 - val_loss: 0.4586 - val_acc: 0.8495\n",
      "Epoch 22/200\n",
      "2468/2468 [==============================] - 0s 103us/step - loss: 0.4674 - acc: 0.8278 - val_loss: 0.4457 - val_acc: 0.8350\n",
      "Epoch 23/200\n",
      "2468/2468 [==============================] - 0s 107us/step - loss: 0.4606 - acc: 0.8266 - val_loss: 0.4386 - val_acc: 0.8382\n",
      "Epoch 24/200\n",
      "2468/2468 [==============================] - 0s 101us/step - loss: 0.4532 - acc: 0.8290 - val_loss: 0.4297 - val_acc: 0.8463\n",
      "Epoch 25/200\n",
      "2468/2468 [==============================] - 0s 108us/step - loss: 0.4495 - acc: 0.8359 - val_loss: 0.4297 - val_acc: 0.8430\n",
      "Epoch 26/200\n",
      "2468/2468 [==============================] - 0s 101us/step - loss: 0.4418 - acc: 0.8323 - val_loss: 0.4224 - val_acc: 0.8463\n",
      "Epoch 27/200\n",
      "2468/2468 [==============================] - 0s 98us/step - loss: 0.4374 - acc: 0.8351 - val_loss: 0.4169 - val_acc: 0.8447\n",
      "Epoch 28/200\n",
      "2468/2468 [==============================] - 0s 102us/step - loss: 0.4321 - acc: 0.8331 - val_loss: 0.4175 - val_acc: 0.8447\n",
      "Epoch 29/200\n",
      "2468/2468 [==============================] - 0s 107us/step - loss: 0.4279 - acc: 0.8400 - val_loss: 0.4154 - val_acc: 0.8430\n",
      "Epoch 30/200\n",
      "2468/2468 [==============================] - 0s 109us/step - loss: 0.4234 - acc: 0.8379 - val_loss: 0.4048 - val_acc: 0.8463\n",
      "Epoch 31/200\n",
      "2468/2468 [==============================] - 0s 108us/step - loss: 0.4193 - acc: 0.8404 - val_loss: 0.4172 - val_acc: 0.8447\n",
      "Epoch 32/200\n",
      "2468/2468 [==============================] - 0s 106us/step - loss: 0.4149 - acc: 0.8367 - val_loss: 0.4043 - val_acc: 0.8398\n",
      "Epoch 33/200\n",
      "2468/2468 [==============================] - 0s 115us/step - loss: 0.4120 - acc: 0.8412 - val_loss: 0.3995 - val_acc: 0.8463\n",
      "Epoch 34/200\n",
      "2468/2468 [==============================] - 0s 107us/step - loss: 0.4080 - acc: 0.8375 - val_loss: 0.3979 - val_acc: 0.8479\n",
      "Epoch 35/200\n",
      "2468/2468 [==============================] - 0s 98us/step - loss: 0.4053 - acc: 0.8452 - val_loss: 0.3899 - val_acc: 0.8447\n",
      "Epoch 36/200\n",
      "2468/2468 [==============================] - 0s 101us/step - loss: 0.4014 - acc: 0.8424 - val_loss: 0.3930 - val_acc: 0.8576\n",
      "Epoch 37/200\n",
      "2468/2468 [==============================] - 0s 110us/step - loss: 0.3973 - acc: 0.8505 - val_loss: 0.3854 - val_acc: 0.8592\n",
      "Epoch 38/200\n",
      "2468/2468 [==============================] - 0s 102us/step - loss: 0.3934 - acc: 0.8493 - val_loss: 0.3850 - val_acc: 0.8576\n",
      "Epoch 39/200\n",
      "2468/2468 [==============================] - 0s 105us/step - loss: 0.3906 - acc: 0.8533 - val_loss: 0.3816 - val_acc: 0.8576\n",
      "Epoch 40/200\n",
      "2468/2468 [==============================] - 0s 99us/step - loss: 0.3878 - acc: 0.8574 - val_loss: 0.3852 - val_acc: 0.8544\n",
      "Epoch 41/200\n",
      "2468/2468 [==============================] - 0s 99us/step - loss: 0.3848 - acc: 0.8566 - val_loss: 0.3954 - val_acc: 0.8511\n",
      "Epoch 42/200\n",
      "2468/2468 [==============================] - 0s 97us/step - loss: 0.3839 - acc: 0.8541 - val_loss: 0.3764 - val_acc: 0.8560\n",
      "Epoch 43/200\n",
      "2468/2468 [==============================] - 0s 99us/step - loss: 0.3794 - acc: 0.8541 - val_loss: 0.3745 - val_acc: 0.8592\n",
      "Epoch 44/200\n",
      "2468/2468 [==============================] - 0s 97us/step - loss: 0.3774 - acc: 0.8586 - val_loss: 0.3686 - val_acc: 0.8625\n",
      "Epoch 45/200\n",
      "2468/2468 [==============================] - 0s 97us/step - loss: 0.3754 - acc: 0.8570 - val_loss: 0.3717 - val_acc: 0.8560\n",
      "Epoch 46/200\n",
      "2468/2468 [==============================] - 0s 114us/step - loss: 0.3732 - acc: 0.8566 - val_loss: 0.3721 - val_acc: 0.8560\n",
      "Epoch 47/200\n",
      "2468/2468 [==============================] - 0s 96us/step - loss: 0.3700 - acc: 0.8553 - val_loss: 0.3636 - val_acc: 0.8608\n",
      "Epoch 48/200\n",
      "2468/2468 [==============================] - 0s 96us/step - loss: 0.3683 - acc: 0.8610 - val_loss: 0.3630 - val_acc: 0.8625\n",
      "Epoch 49/200\n",
      "2468/2468 [==============================] - 0s 96us/step - loss: 0.3654 - acc: 0.8594 - val_loss: 0.3621 - val_acc: 0.8608\n",
      "Epoch 50/200\n",
      "2468/2468 [==============================] - 0s 98us/step - loss: 0.3634 - acc: 0.8566 - val_loss: 0.3689 - val_acc: 0.8528\n",
      "Epoch 51/200\n",
      "2468/2468 [==============================] - 0s 97us/step - loss: 0.3633 - acc: 0.8562 - val_loss: 0.3587 - val_acc: 0.8608\n",
      "Epoch 52/200\n",
      "2468/2468 [==============================] - 0s 96us/step - loss: 0.3590 - acc: 0.8622 - val_loss: 0.3547 - val_acc: 0.8608\n",
      "Epoch 53/200\n",
      "2468/2468 [==============================] - 0s 95us/step - loss: 0.3590 - acc: 0.8651 - val_loss: 0.3556 - val_acc: 0.8625\n",
      "Epoch 54/200\n",
      "2468/2468 [==============================] - 0s 96us/step - loss: 0.3565 - acc: 0.8590 - val_loss: 0.3576 - val_acc: 0.8576\n",
      "Epoch 55/200\n",
      "2468/2468 [==============================] - 0s 97us/step - loss: 0.3552 - acc: 0.8590 - val_loss: 0.3521 - val_acc: 0.8576\n",
      "Epoch 56/200\n"
     ]
    },
    {
     "name": "stdout",
     "output_type": "stream",
     "text": [
      "2468/2468 [==============================] - 0s 95us/step - loss: 0.3517 - acc: 0.8626 - val_loss: 0.3480 - val_acc: 0.8722\n",
      "Epoch 57/200\n",
      "2468/2468 [==============================] - 0s 96us/step - loss: 0.3537 - acc: 0.8622 - val_loss: 0.3480 - val_acc: 0.8754\n",
      "Epoch 58/200\n",
      "2468/2468 [==============================] - 0s 96us/step - loss: 0.3500 - acc: 0.8667 - val_loss: 0.3482 - val_acc: 0.8657\n",
      "Epoch 59/200\n",
      "2468/2468 [==============================] - 0s 96us/step - loss: 0.3475 - acc: 0.8639 - val_loss: 0.3475 - val_acc: 0.8576\n",
      "Epoch 60/200\n",
      "2468/2468 [==============================] - 0s 97us/step - loss: 0.3456 - acc: 0.8626 - val_loss: 0.3420 - val_acc: 0.8786\n",
      "Epoch 61/200\n",
      "2468/2468 [==============================] - 0s 97us/step - loss: 0.3472 - acc: 0.8699 - val_loss: 0.3426 - val_acc: 0.8770\n",
      "Epoch 62/200\n",
      "2468/2468 [==============================] - 0s 94us/step - loss: 0.3439 - acc: 0.8635 - val_loss: 0.3422 - val_acc: 0.8706\n",
      "Epoch 63/200\n",
      "2468/2468 [==============================] - 0s 96us/step - loss: 0.3423 - acc: 0.8671 - val_loss: 0.3474 - val_acc: 0.8608\n",
      "Epoch 64/200\n",
      "2468/2468 [==============================] - 0s 97us/step - loss: 0.3408 - acc: 0.8695 - val_loss: 0.3503 - val_acc: 0.8608\n",
      "Epoch 65/200\n",
      "2468/2468 [==============================] - 0s 95us/step - loss: 0.3418 - acc: 0.8663 - val_loss: 0.3407 - val_acc: 0.8625\n",
      "Epoch 66/200\n",
      "2468/2468 [==============================] - 0s 97us/step - loss: 0.3388 - acc: 0.8720 - val_loss: 0.3386 - val_acc: 0.8738\n",
      "Epoch 67/200\n",
      "2468/2468 [==============================] - 0s 96us/step - loss: 0.3385 - acc: 0.8695 - val_loss: 0.3409 - val_acc: 0.8608\n",
      "Epoch 68/200\n",
      "2468/2468 [==============================] - 0s 98us/step - loss: 0.3372 - acc: 0.8695 - val_loss: 0.3369 - val_acc: 0.8754\n",
      "Epoch 69/200\n",
      "2468/2468 [==============================] - 0s 97us/step - loss: 0.3350 - acc: 0.8683 - val_loss: 0.3410 - val_acc: 0.8592\n",
      "Epoch 70/200\n",
      "2468/2468 [==============================] - 0s 96us/step - loss: 0.3347 - acc: 0.8720 - val_loss: 0.3328 - val_acc: 0.8738\n",
      "Epoch 71/200\n",
      "2468/2468 [==============================] - 0s 96us/step - loss: 0.3327 - acc: 0.8699 - val_loss: 0.3361 - val_acc: 0.8738\n",
      "Epoch 72/200\n",
      "2468/2468 [==============================] - 0s 98us/step - loss: 0.3327 - acc: 0.8699 - val_loss: 0.3346 - val_acc: 0.8786\n",
      "Epoch 73/200\n",
      "2468/2468 [==============================] - 0s 96us/step - loss: 0.3308 - acc: 0.8720 - val_loss: 0.3295 - val_acc: 0.8722\n",
      "Epoch 74/200\n",
      "2468/2468 [==============================] - 0s 97us/step - loss: 0.3294 - acc: 0.8716 - val_loss: 0.3289 - val_acc: 0.8738\n",
      "Epoch 75/200\n",
      "2468/2468 [==============================] - 0s 96us/step - loss: 0.3295 - acc: 0.8716 - val_loss: 0.3288 - val_acc: 0.8722\n",
      "Epoch 76/200\n",
      "2468/2468 [==============================] - 0s 97us/step - loss: 0.3281 - acc: 0.8728 - val_loss: 0.3275 - val_acc: 0.8738\n",
      "Epoch 77/200\n",
      "2468/2468 [==============================] - 0s 97us/step - loss: 0.3287 - acc: 0.8679 - val_loss: 0.3251 - val_acc: 0.8722\n",
      "Epoch 78/200\n",
      "2468/2468 [==============================] - 0s 98us/step - loss: 0.3266 - acc: 0.8772 - val_loss: 0.3234 - val_acc: 0.8738\n",
      "Epoch 79/200\n",
      "2468/2468 [==============================] - 0s 94us/step - loss: 0.3261 - acc: 0.8724 - val_loss: 0.3258 - val_acc: 0.8754\n",
      "Epoch 80/200\n",
      "2468/2468 [==============================] - 0s 98us/step - loss: 0.3239 - acc: 0.8712 - val_loss: 0.3224 - val_acc: 0.8754\n",
      "Epoch 81/200\n",
      "2468/2468 [==============================] - 0s 97us/step - loss: 0.3220 - acc: 0.8744 - val_loss: 0.3223 - val_acc: 0.8786\n",
      "Epoch 82/200\n",
      "2468/2468 [==============================] - 0s 99us/step - loss: 0.3230 - acc: 0.8732 - val_loss: 0.3231 - val_acc: 0.8738\n",
      "Epoch 83/200\n",
      "2468/2468 [==============================] - 0s 95us/step - loss: 0.3212 - acc: 0.8744 - val_loss: 0.3225 - val_acc: 0.8770\n",
      "Epoch 84/200\n",
      "2468/2468 [==============================] - 0s 97us/step - loss: 0.3202 - acc: 0.8703 - val_loss: 0.3210 - val_acc: 0.8738\n",
      "Epoch 85/200\n",
      "2468/2468 [==============================] - 0s 96us/step - loss: 0.3191 - acc: 0.8760 - val_loss: 0.3190 - val_acc: 0.8770\n",
      "Epoch 86/200\n",
      "2468/2468 [==============================] - 0s 97us/step - loss: 0.3176 - acc: 0.8764 - val_loss: 0.3218 - val_acc: 0.8754\n",
      "Epoch 87/200\n",
      "2468/2468 [==============================] - 0s 98us/step - loss: 0.3194 - acc: 0.8756 - val_loss: 0.3198 - val_acc: 0.8786\n",
      "Epoch 88/200\n",
      "2468/2468 [==============================] - 0s 97us/step - loss: 0.3179 - acc: 0.8756 - val_loss: 0.3204 - val_acc: 0.8770\n",
      "Epoch 89/200\n",
      "2468/2468 [==============================] - 0s 96us/step - loss: 0.3149 - acc: 0.8776 - val_loss: 0.3192 - val_acc: 0.8770\n",
      "Epoch 90/200\n",
      "2468/2468 [==============================] - 0s 97us/step - loss: 0.3151 - acc: 0.8772 - val_loss: 0.3143 - val_acc: 0.8770\n",
      "Epoch 91/200\n",
      "2468/2468 [==============================] - 0s 95us/step - loss: 0.3140 - acc: 0.8776 - val_loss: 0.3169 - val_acc: 0.8803\n",
      "Epoch 92/200\n",
      "2468/2468 [==============================] - 0s 97us/step - loss: 0.3130 - acc: 0.8801 - val_loss: 0.3214 - val_acc: 0.8722\n",
      "Epoch 93/200\n",
      "2468/2468 [==============================] - 0s 96us/step - loss: 0.3143 - acc: 0.8760 - val_loss: 0.3114 - val_acc: 0.8851\n",
      "Epoch 94/200\n",
      "2468/2468 [==============================] - 0s 96us/step - loss: 0.3127 - acc: 0.8784 - val_loss: 0.3133 - val_acc: 0.8803\n",
      "Epoch 95/200\n",
      "2468/2468 [==============================] - 0s 97us/step - loss: 0.3119 - acc: 0.8772 - val_loss: 0.3096 - val_acc: 0.8851\n",
      "Epoch 96/200\n",
      "2468/2468 [==============================] - 0s 97us/step - loss: 0.3103 - acc: 0.8772 - val_loss: 0.3091 - val_acc: 0.8851\n",
      "Epoch 97/200\n",
      "2468/2468 [==============================] - 0s 97us/step - loss: 0.3099 - acc: 0.8760 - val_loss: 0.3109 - val_acc: 0.8867\n",
      "Epoch 98/200\n",
      "2468/2468 [==============================] - 0s 98us/step - loss: 0.3101 - acc: 0.8768 - val_loss: 0.3073 - val_acc: 0.8835\n",
      "Epoch 99/200\n",
      "2468/2468 [==============================] - 0s 96us/step - loss: 0.3087 - acc: 0.8780 - val_loss: 0.3109 - val_acc: 0.8803\n",
      "Epoch 100/200\n",
      "2468/2468 [==============================] - 0s 95us/step - loss: 0.3077 - acc: 0.8768 - val_loss: 0.3108 - val_acc: 0.8819\n",
      "Epoch 101/200\n",
      "2468/2468 [==============================] - 0s 97us/step - loss: 0.3066 - acc: 0.8780 - val_loss: 0.3067 - val_acc: 0.8835\n",
      "Epoch 102/200\n",
      "2468/2468 [==============================] - 0s 96us/step - loss: 0.3070 - acc: 0.8797 - val_loss: 0.3062 - val_acc: 0.8867\n",
      "Epoch 103/200\n",
      "2468/2468 [==============================] - 0s 97us/step - loss: 0.3057 - acc: 0.8793 - val_loss: 0.3101 - val_acc: 0.8819\n",
      "Epoch 104/200\n",
      "2468/2468 [==============================] - 0s 95us/step - loss: 0.3049 - acc: 0.8797 - val_loss: 0.3110 - val_acc: 0.8770\n",
      "Epoch 105/200\n",
      "2468/2468 [==============================] - 0s 97us/step - loss: 0.3039 - acc: 0.8821 - val_loss: 0.3074 - val_acc: 0.8851\n",
      "Epoch 106/200\n",
      "2468/2468 [==============================] - 0s 97us/step - loss: 0.3048 - acc: 0.8801 - val_loss: 0.3035 - val_acc: 0.8867\n",
      "Epoch 107/200\n",
      "2468/2468 [==============================] - 0s 98us/step - loss: 0.3013 - acc: 0.8809 - val_loss: 0.3124 - val_acc: 0.8754\n",
      "Epoch 108/200\n",
      "2468/2468 [==============================] - 0s 97us/step - loss: 0.3046 - acc: 0.8780 - val_loss: 0.3065 - val_acc: 0.8770\n",
      "Epoch 109/200\n",
      "2468/2468 [==============================] - 0s 97us/step - loss: 0.3027 - acc: 0.8793 - val_loss: 0.3099 - val_acc: 0.8754\n",
      "Epoch 110/200\n",
      "2468/2468 [==============================] - 0s 96us/step - loss: 0.3012 - acc: 0.8805 - val_loss: 0.3069 - val_acc: 0.8786\n",
      "Epoch 111/200\n",
      "2468/2468 [==============================] - 0s 96us/step - loss: 0.3020 - acc: 0.8809 - val_loss: 0.3017 - val_acc: 0.8835\n",
      "Epoch 112/200\n",
      "2468/2468 [==============================] - 0s 96us/step - loss: 0.3001 - acc: 0.8768 - val_loss: 0.3151 - val_acc: 0.8722\n",
      "Epoch 113/200\n",
      "2468/2468 [==============================] - 0s 96us/step - loss: 0.3000 - acc: 0.8821 - val_loss: 0.3086 - val_acc: 0.8786\n",
      "Epoch 114/200\n",
      "2468/2468 [==============================] - 0s 98us/step - loss: 0.2988 - acc: 0.8817 - val_loss: 0.2993 - val_acc: 0.8867\n",
      "Epoch 115/200\n",
      "2468/2468 [==============================] - 0s 98us/step - loss: 0.3015 - acc: 0.8813 - val_loss: 0.3023 - val_acc: 0.8883\n"
     ]
    },
    {
     "name": "stdout",
     "output_type": "stream",
     "text": [
      "Epoch 116/200\n",
      "2468/2468 [==============================] - 0s 104us/step - loss: 0.2981 - acc: 0.8805 - val_loss: 0.3061 - val_acc: 0.8819\n",
      "Epoch 117/200\n",
      "2468/2468 [==============================] - 0s 111us/step - loss: 0.2958 - acc: 0.8853 - val_loss: 0.3001 - val_acc: 0.8916\n",
      "Epoch 118/200\n",
      "2468/2468 [==============================] - 0s 106us/step - loss: 0.2966 - acc: 0.8821 - val_loss: 0.2989 - val_acc: 0.8916\n",
      "Epoch 119/200\n",
      "2468/2468 [==============================] - 0s 101us/step - loss: 0.2964 - acc: 0.8797 - val_loss: 0.3001 - val_acc: 0.8803\n",
      "Epoch 120/200\n",
      "2468/2468 [==============================] - 0s 107us/step - loss: 0.2952 - acc: 0.8817 - val_loss: 0.3033 - val_acc: 0.8851\n",
      "Epoch 121/200\n",
      "2468/2468 [==============================] - 0s 97us/step - loss: 0.2939 - acc: 0.8825 - val_loss: 0.3006 - val_acc: 0.8916\n",
      "Epoch 122/200\n",
      "2468/2468 [==============================] - 0s 96us/step - loss: 0.2936 - acc: 0.8829 - val_loss: 0.2958 - val_acc: 0.8803\n",
      "Epoch 123/200\n",
      "2468/2468 [==============================] - 0s 100us/step - loss: 0.2930 - acc: 0.8788 - val_loss: 0.2952 - val_acc: 0.8851\n",
      "Epoch 124/200\n",
      "2468/2468 [==============================] - 0s 98us/step - loss: 0.2923 - acc: 0.8797 - val_loss: 0.3001 - val_acc: 0.8883\n",
      "Epoch 125/200\n",
      "2468/2468 [==============================] - 0s 97us/step - loss: 0.2934 - acc: 0.8825 - val_loss: 0.2952 - val_acc: 0.8835\n",
      "Epoch 126/200\n",
      "2468/2468 [==============================] - 0s 100us/step - loss: 0.2924 - acc: 0.8809 - val_loss: 0.2947 - val_acc: 0.8835\n",
      "Epoch 127/200\n",
      "2468/2468 [==============================] - 0s 101us/step - loss: 0.2923 - acc: 0.8837 - val_loss: 0.3041 - val_acc: 0.8803\n",
      "Epoch 128/200\n",
      "2468/2468 [==============================] - 0s 98us/step - loss: 0.2913 - acc: 0.8805 - val_loss: 0.2940 - val_acc: 0.8835\n",
      "Epoch 129/200\n",
      "2468/2468 [==============================] - 0s 96us/step - loss: 0.2911 - acc: 0.8817 - val_loss: 0.2964 - val_acc: 0.8883\n",
      "Epoch 130/200\n",
      "2468/2468 [==============================] - 0s 101us/step - loss: 0.2894 - acc: 0.8837 - val_loss: 0.2960 - val_acc: 0.8883\n",
      "Epoch 131/200\n",
      "2468/2468 [==============================] - 0s 95us/step - loss: 0.2895 - acc: 0.8849 - val_loss: 0.2968 - val_acc: 0.8883\n",
      "Epoch 132/200\n",
      "2468/2468 [==============================] - 0s 96us/step - loss: 0.2903 - acc: 0.8837 - val_loss: 0.2972 - val_acc: 0.8883\n",
      "Epoch 133/200\n",
      "2468/2468 [==============================] - 0s 98us/step - loss: 0.2883 - acc: 0.8817 - val_loss: 0.2950 - val_acc: 0.8883\n",
      "Epoch 134/200\n",
      "2468/2468 [==============================] - 0s 96us/step - loss: 0.2875 - acc: 0.8833 - val_loss: 0.2930 - val_acc: 0.8883\n",
      "Epoch 135/200\n",
      "2468/2468 [==============================] - 0s 96us/step - loss: 0.2868 - acc: 0.8845 - val_loss: 0.2922 - val_acc: 0.8835\n",
      "Epoch 136/200\n",
      "2468/2468 [==============================] - 0s 97us/step - loss: 0.2853 - acc: 0.8829 - val_loss: 0.2931 - val_acc: 0.8851\n",
      "Epoch 137/200\n",
      "2468/2468 [==============================] - 0s 101us/step - loss: 0.2865 - acc: 0.8841 - val_loss: 0.2960 - val_acc: 0.8867\n",
      "Epoch 138/200\n",
      "2468/2468 [==============================] - 0s 98us/step - loss: 0.2850 - acc: 0.8845 - val_loss: 0.2961 - val_acc: 0.8900\n",
      "Epoch 139/200\n",
      "2468/2468 [==============================] - 0s 98us/step - loss: 0.2856 - acc: 0.8825 - val_loss: 0.2908 - val_acc: 0.8803\n",
      "Epoch 140/200\n",
      "2468/2468 [==============================] - 0s 95us/step - loss: 0.2858 - acc: 0.8857 - val_loss: 0.2901 - val_acc: 0.8819\n",
      "Epoch 141/200\n",
      "2468/2468 [==============================] - 0s 98us/step - loss: 0.2848 - acc: 0.8853 - val_loss: 0.2942 - val_acc: 0.8883\n",
      "Epoch 142/200\n",
      "2468/2468 [==============================] - 0s 98us/step - loss: 0.2830 - acc: 0.8882 - val_loss: 0.2899 - val_acc: 0.8803\n",
      "Epoch 143/200\n",
      "2468/2468 [==============================] - 0s 98us/step - loss: 0.2843 - acc: 0.8845 - val_loss: 0.2935 - val_acc: 0.8851\n",
      "Epoch 144/200\n",
      "2468/2468 [==============================] - 0s 100us/step - loss: 0.2849 - acc: 0.8857 - val_loss: 0.2913 - val_acc: 0.8835\n",
      "Epoch 145/200\n",
      "2468/2468 [==============================] - 0s 97us/step - loss: 0.2824 - acc: 0.8825 - val_loss: 0.2903 - val_acc: 0.8819\n",
      "Epoch 146/200\n",
      "2468/2468 [==============================] - 0s 96us/step - loss: 0.2818 - acc: 0.8865 - val_loss: 0.2887 - val_acc: 0.8803\n",
      "Epoch 147/200\n",
      "2468/2468 [==============================] - 0s 96us/step - loss: 0.2814 - acc: 0.8865 - val_loss: 0.2883 - val_acc: 0.8819\n",
      "Epoch 148/200\n",
      "2468/2468 [==============================] - 0s 97us/step - loss: 0.2828 - acc: 0.8849 - val_loss: 0.2921 - val_acc: 0.8867\n",
      "Epoch 149/200\n",
      "2468/2468 [==============================] - 0s 97us/step - loss: 0.2813 - acc: 0.8849 - val_loss: 0.2890 - val_acc: 0.8851\n",
      "Epoch 150/200\n",
      "2468/2468 [==============================] - 0s 96us/step - loss: 0.2807 - acc: 0.8865 - val_loss: 0.2998 - val_acc: 0.8916\n",
      "Epoch 151/200\n",
      "2468/2468 [==============================] - 0s 97us/step - loss: 0.2830 - acc: 0.8886 - val_loss: 0.2910 - val_acc: 0.8948\n",
      "Epoch 152/200\n",
      "2468/2468 [==============================] - 0s 96us/step - loss: 0.2812 - acc: 0.8841 - val_loss: 0.2877 - val_acc: 0.8835\n",
      "Epoch 153/200\n",
      "2468/2468 [==============================] - 0s 99us/step - loss: 0.2791 - acc: 0.8833 - val_loss: 0.2875 - val_acc: 0.8835\n",
      "Epoch 154/200\n",
      "2468/2468 [==============================] - 0s 97us/step - loss: 0.2801 - acc: 0.8870 - val_loss: 0.2904 - val_acc: 0.8851\n",
      "Epoch 155/200\n",
      "2468/2468 [==============================] - 0s 96us/step - loss: 0.2784 - acc: 0.8853 - val_loss: 0.2920 - val_acc: 0.8835\n",
      "Epoch 156/200\n",
      "2468/2468 [==============================] - 0s 96us/step - loss: 0.2806 - acc: 0.8878 - val_loss: 0.2883 - val_acc: 0.8835\n",
      "Epoch 157/200\n",
      "2468/2468 [==============================] - 0s 97us/step - loss: 0.2790 - acc: 0.8870 - val_loss: 0.2876 - val_acc: 0.8819\n",
      "Epoch 158/200\n",
      "2468/2468 [==============================] - 0s 95us/step - loss: 0.2761 - acc: 0.8857 - val_loss: 0.2896 - val_acc: 0.8932\n",
      "Epoch 159/200\n",
      "2468/2468 [==============================] - 0s 95us/step - loss: 0.2774 - acc: 0.8865 - val_loss: 0.2889 - val_acc: 0.8916\n",
      "Epoch 160/200\n",
      "2468/2468 [==============================] - 0s 100us/step - loss: 0.2766 - acc: 0.8861 - val_loss: 0.2840 - val_acc: 0.8803\n",
      "Epoch 161/200\n",
      "2468/2468 [==============================] - 0s 96us/step - loss: 0.2767 - acc: 0.8890 - val_loss: 0.2852 - val_acc: 0.8835\n",
      "Epoch 162/200\n",
      "2468/2468 [==============================] - 0s 94us/step - loss: 0.2754 - acc: 0.8902 - val_loss: 0.2832 - val_acc: 0.8851\n",
      "Epoch 163/200\n",
      "2468/2468 [==============================] - 0s 96us/step - loss: 0.2758 - acc: 0.8861 - val_loss: 0.2856 - val_acc: 0.8835\n",
      "Epoch 164/200\n",
      "2468/2468 [==============================] - 0s 98us/step - loss: 0.2742 - acc: 0.8886 - val_loss: 0.2834 - val_acc: 0.8803\n",
      "Epoch 165/200\n",
      "2468/2468 [==============================] - 0s 95us/step - loss: 0.2743 - acc: 0.8861 - val_loss: 0.2908 - val_acc: 0.8948\n",
      "Epoch 166/200\n",
      "2468/2468 [==============================] - 0s 101us/step - loss: 0.2740 - acc: 0.8910 - val_loss: 0.2854 - val_acc: 0.8867\n",
      "Epoch 167/200\n",
      "2468/2468 [==============================] - 0s 100us/step - loss: 0.2752 - acc: 0.8902 - val_loss: 0.2869 - val_acc: 0.8883\n",
      "Epoch 168/200\n",
      "2468/2468 [==============================] - 0s 95us/step - loss: 0.2742 - acc: 0.8890 - val_loss: 0.2875 - val_acc: 0.8932\n",
      "Epoch 169/200\n",
      "2468/2468 [==============================] - 0s 97us/step - loss: 0.2738 - acc: 0.8890 - val_loss: 0.2868 - val_acc: 0.8964\n",
      "Epoch 170/200\n",
      "2468/2468 [==============================] - 0s 96us/step - loss: 0.2730 - acc: 0.8914 - val_loss: 0.2815 - val_acc: 0.8835\n",
      "Epoch 171/200\n",
      "2468/2468 [==============================] - 0s 98us/step - loss: 0.2738 - acc: 0.8853 - val_loss: 0.2857 - val_acc: 0.8883\n",
      "Epoch 172/200\n",
      "2468/2468 [==============================] - 0s 101us/step - loss: 0.2720 - acc: 0.8914 - val_loss: 0.2824 - val_acc: 0.8819\n",
      "Epoch 173/200\n",
      "2468/2468 [==============================] - 0s 103us/step - loss: 0.2712 - acc: 0.8894 - val_loss: 0.2860 - val_acc: 0.8851\n",
      "Epoch 174/200\n",
      "2468/2468 [==============================] - 0s 101us/step - loss: 0.2720 - acc: 0.8882 - val_loss: 0.2823 - val_acc: 0.8964\n",
      "Epoch 175/200\n",
      "2468/2468 [==============================] - 0s 98us/step - loss: 0.2710 - acc: 0.8910 - val_loss: 0.2813 - val_acc: 0.8883\n",
      "Epoch 176/200\n",
      "2468/2468 [==============================] - 0s 97us/step - loss: 0.2702 - acc: 0.8894 - val_loss: 0.2849 - val_acc: 0.8900\n",
      "Epoch 177/200\n",
      "2468/2468 [==============================] - 0s 97us/step - loss: 0.2713 - acc: 0.8926 - val_loss: 0.2810 - val_acc: 0.8932\n",
      "Epoch 178/200\n",
      "2468/2468 [==============================] - 0s 96us/step - loss: 0.2698 - acc: 0.8910 - val_loss: 0.2839 - val_acc: 0.8900\n",
      "Epoch 179/200\n",
      "2468/2468 [==============================] - 0s 96us/step - loss: 0.2691 - acc: 0.8947 - val_loss: 0.2822 - val_acc: 0.8916\n",
      "Epoch 180/200\n",
      "2468/2468 [==============================] - 0s 96us/step - loss: 0.2696 - acc: 0.8906 - val_loss: 0.2856 - val_acc: 0.8835\n",
      "Epoch 181/200\n",
      "2468/2468 [==============================] - 0s 96us/step - loss: 0.2690 - acc: 0.8922 - val_loss: 0.2810 - val_acc: 0.8964\n",
      "Epoch 182/200\n",
      "2468/2468 [==============================] - 0s 96us/step - loss: 0.2694 - acc: 0.8906 - val_loss: 0.2805 - val_acc: 0.8981\n",
      "Epoch 183/200\n",
      "2468/2468 [==============================] - 0s 96us/step - loss: 0.2679 - acc: 0.8902 - val_loss: 0.2807 - val_acc: 0.8964\n",
      "Epoch 184/200\n",
      "2468/2468 [==============================] - 0s 98us/step - loss: 0.2681 - acc: 0.8942 - val_loss: 0.2880 - val_acc: 0.8916\n",
      "Epoch 185/200\n",
      "2468/2468 [==============================] - 0s 99us/step - loss: 0.2680 - acc: 0.8926 - val_loss: 0.2822 - val_acc: 0.8900\n",
      "Epoch 186/200\n",
      "2468/2468 [==============================] - 0s 97us/step - loss: 0.2690 - acc: 0.8902 - val_loss: 0.2804 - val_acc: 0.8900\n",
      "Epoch 187/200\n",
      "2468/2468 [==============================] - 0s 105us/step - loss: 0.2670 - acc: 0.8926 - val_loss: 0.2812 - val_acc: 0.8916\n",
      "Epoch 188/200\n",
      "2468/2468 [==============================] - 0s 100us/step - loss: 0.2666 - acc: 0.8906 - val_loss: 0.2887 - val_acc: 0.8981\n",
      "Epoch 189/200\n",
      "2468/2468 [==============================] - 0s 97us/step - loss: 0.2660 - acc: 0.8955 - val_loss: 0.2802 - val_acc: 0.8964\n",
      "Epoch 190/200\n",
      "2468/2468 [==============================] - 0s 96us/step - loss: 0.2658 - acc: 0.8955 - val_loss: 0.2814 - val_acc: 0.8997\n",
      "Epoch 191/200\n",
      "2468/2468 [==============================] - 0s 98us/step - loss: 0.2655 - acc: 0.8930 - val_loss: 0.2811 - val_acc: 0.8948\n",
      "Epoch 192/200\n",
      "2468/2468 [==============================] - 0s 100us/step - loss: 0.2649 - acc: 0.8971 - val_loss: 0.2806 - val_acc: 0.8932\n",
      "Epoch 193/200\n",
      "2468/2468 [==============================] - 0s 97us/step - loss: 0.2674 - acc: 0.8922 - val_loss: 0.2800 - val_acc: 0.8916\n",
      "Epoch 194/200\n",
      "2468/2468 [==============================] - 0s 96us/step - loss: 0.2654 - acc: 0.8938 - val_loss: 0.2799 - val_acc: 0.8997\n",
      "Epoch 195/200\n",
      "2468/2468 [==============================] - 0s 96us/step - loss: 0.2636 - acc: 0.8934 - val_loss: 0.2799 - val_acc: 0.8900\n",
      "Epoch 196/200\n",
      "2468/2468 [==============================] - 0s 97us/step - loss: 0.2651 - acc: 0.8914 - val_loss: 0.2818 - val_acc: 0.8932\n",
      "Epoch 197/200\n",
      "2468/2468 [==============================] - 0s 95us/step - loss: 0.2650 - acc: 0.8959 - val_loss: 0.2771 - val_acc: 0.8964\n",
      "Epoch 198/200\n",
      "2468/2468 [==============================] - 0s 96us/step - loss: 0.2654 - acc: 0.8947 - val_loss: 0.2779 - val_acc: 0.8964\n",
      "Epoch 199/200\n",
      "2468/2468 [==============================] - 0s 95us/step - loss: 0.2654 - acc: 0.8930 - val_loss: 0.2798 - val_acc: 0.8916\n",
      "Epoch 200/200\n",
      "2468/2468 [==============================] - 0s 104us/step - loss: 0.2624 - acc: 0.8979 - val_loss: 0.2771 - val_acc: 0.8948\n"
     ]
    }
   ],
   "source": [
    "model_DL_major = train_model_DL(X_train_major_best,y_train_major,[100], 4)"
   ]
  },
  {
   "cell_type": "code",
   "execution_count": 39,
   "metadata": {},
   "outputs": [
    {
     "name": "stdout",
     "output_type": "stream",
     "text": [
      "('DONE. Accuracy: preds_DL_major = model_DL_m', 0.89630589760207391)\n"
     ]
    }
   ],
   "source": [
    "Y_train_DLpred = model_DL_major.predict(X_train_major_best)\n",
    "results_train = np.argmax(Y_train_DLpred, axis=1)\n",
    "acc_DL = accuracy_score(np.argmax(y_train_major, axis=1), results_train)\n",
    "print('DONE. Accuracy: preds_DL_major = model_DL_m', acc_DL)"
   ]
  },
  {
   "cell_type": "code",
   "execution_count": 40,
   "metadata": {},
   "outputs": [
    {
     "name": "stdout",
     "output_type": "stream",
     "text": [
      "[1 0 0 ..., 3 0 3]\n"
     ]
    }
   ],
   "source": [
    "preds_DL_major = model_DL_major.predict(X_test_major_best)\n",
    "results_DL_major = np.argmax(preds_DL_major, axis=1)\n",
    "print results_DL_major"
   ]
  },
  {
   "cell_type": "code",
   "execution_count": 41,
   "metadata": {},
   "outputs": [],
   "source": [
    "#### second step ####"
   ]
  },
  {
   "cell_type": "code",
   "execution_count": 42,
   "metadata": {},
   "outputs": [
    {
     "name": "stdout",
     "output_type": "stream",
     "text": [
      "(3086, 12)\n"
     ]
    }
   ],
   "source": [
    "print y_train_minor.shape"
   ]
  },
  {
   "cell_type": "code",
   "execution_count": 43,
   "metadata": {},
   "outputs": [],
   "source": [
    "y_train_minor_bkup = y_train_minor"
   ]
  },
  {
   "cell_type": "code",
   "execution_count": 44,
   "metadata": {},
   "outputs": [],
   "source": [
    "# remove 0 rows (None, Swizzor, VB)\n",
    "ix = np.sum(y_train_minor, axis=1) > 0\n",
    "\n",
    "X_train_minor = X_train.tocsr()[ix, :]\n",
    "y_train_minor = y_train_minor[ix, :]\n",
    "X_test_minor = X_test"
   ]
  },
  {
   "cell_type": "code",
   "execution_count": 45,
   "metadata": {},
   "outputs": [
    {
     "name": "stdout",
     "output_type": "stream",
     "text": [
      "(559, 159892)\n",
      "(559, 12)\n",
      "(3724, 159892)\n"
     ]
    }
   ],
   "source": [
    "print X_train_minor.shape\n",
    "print y_train_minor.shape\n",
    "print X_test_minor.shape"
   ]
  },
  {
   "cell_type": "code",
   "execution_count": 46,
   "metadata": {},
   "outputs": [
    {
     "name": "stdout",
     "output_type": "stream",
     "text": [
      "Features: 159892\tAccuracy: 0.66366 (+/- 0.02799)\n"
     ]
    }
   ],
   "source": [
    "RF = RandomForestClassifier(n_estimators = 100, n_jobs = -1, max_features = None)\n",
    "RF.fit(X_train_minor, y_train_minor)\n",
    "scores = cross_val_score(RF, X_train_minor, y_train_minor, cv=5)\n",
    "print \"Features: \" + str(RF.n_features_) + (\"\\tAccuracy: %0.5f (+/- %0.5f)\" % (scores.mean(), scores.std() * 2))\n",
    "RF_best = RF\n",
    "score_best = scores.mean()\n",
    "X_train_minor_best = X_train_minor\n",
    "X_test_minor_best = X_test"
   ]
  },
  {
   "cell_type": "code",
   "execution_count": 47,
   "metadata": {},
   "outputs": [
    {
     "name": "stdout",
     "output_type": "stream",
     "text": [
      "Features: 2706\tAccuracy: 0.67799 (+/- 0.02997)\n",
      "Features: 739\tAccuracy: 0.68156 (+/- 0.03345)\n",
      "Features: 369\tAccuracy: 0.67262 (+/- 0.01882)\n",
      "Features: 238\tAccuracy: 0.67798 (+/- 0.02363)\n",
      "Features: 184\tAccuracy: 0.67978 (+/- 0.01386)\n",
      "Features: 146\tAccuracy: 0.67439 (+/- 0.03029)\n",
      "Features: 124\tAccuracy: 0.66009 (+/- 0.02369)\n",
      "Features: 112\tAccuracy: 0.67083 (+/- 0.01388)\n",
      "Features: 98\tAccuracy: 0.66902 (+/- 0.03144)\n"
     ]
    }
   ],
   "source": [
    "while X_train_minor.shape[1] > 100:\n",
    "    model = SelectFromModel(RF, prefit=True, threshold = \"0.5*mean\")\n",
    "    X_train_minor = model.transform(X_train_minor)\n",
    "    ## trick: break if we didn't remove any feature\n",
    "    if X_train_minor.shape[1] == X_test_minor.shape[1]:\n",
    "        break\n",
    "    X_test_minor = model.transform(X_test_minor)\n",
    "    \n",
    "    RF = RandomForestClassifier(n_estimators = 100, n_jobs = -1, max_features = None)\n",
    "    RF.fit(X_train_minor, y_train_minor)\n",
    "    scores = cross_val_score(RF, X_train_minor, y_train_minor, cv=5)\n",
    "    mean_score = scores.mean()\n",
    "    print \"Features: \" + str(RF.n_features_) + (\"\\tAccuracy: %0.5f (+/- %0.5f)\" % (mean_score, scores.std() * 2))\n",
    "    \n",
    "    if score_best < mean_score:\n",
    "        del X_train_minor_best\n",
    "        del X_test_minor_best\n",
    "        RF_best = RF\n",
    "        score_best = mean_score\n",
    "        X_train_minor_best = X_train_minor\n",
    "        X_test_minor_best = X_test_minor"
   ]
  },
  {
   "cell_type": "code",
   "execution_count": 48,
   "metadata": {},
   "outputs": [],
   "source": [
    "sparse.save_npz(\"tfidf_train_minor_features.npz\", X_train_minor_best)\n",
    "sparse.save_npz(\"tfidf_test_minor_features.npz\", X_test_minor_best)"
   ]
  },
  {
   "cell_type": "code",
   "execution_count": 49,
   "metadata": {},
   "outputs": [
    {
     "name": "stdout",
     "output_type": "stream",
     "text": [
      "Features: 739\tAccuracy: 0.67797 (+/- 0.02194)\n"
     ]
    }
   ],
   "source": [
    "RF_minor = RandomForestClassifier(n_estimators = 1000, n_jobs = -1, max_features = None)\n",
    "RF_minor.fit(X_train_minor_best, y_train_minor)\n",
    "scores = cross_val_score(RF_minor, X_train_minor_best, y_train_minor, cv=4)\n",
    "print \"Features: \" + str(RF_minor.n_features_) + (\"\\tAccuracy: %0.5f (+/- %0.5f)\" % (scores.mean(), scores.std() * 2))"
   ]
  },
  {
   "cell_type": "code",
   "execution_count": 50,
   "metadata": {},
   "outputs": [
    {
     "ename": "NameError",
     "evalue": "name 'results_RF_minor' is not defined",
     "output_type": "error",
     "traceback": [
      "\u001b[0;31m---------------------------------------------------------------------------\u001b[0m",
      "\u001b[0;31mNameError\u001b[0m                                 Traceback (most recent call last)",
      "\u001b[0;32m<ipython-input-50-e5c8001aaecc>\u001b[0m in \u001b[0;36m<module>\u001b[0;34m()\u001b[0m\n\u001b[0;32m----> 1\u001b[0;31m \u001b[0mresults_RF_minor\u001b[0m\u001b[0;34m.\u001b[0m\u001b[0mshape\u001b[0m\u001b[0;34m\u001b[0m\u001b[0m\n\u001b[0m",
      "\u001b[0;31mNameError\u001b[0m: name 'results_RF_minor' is not defined"
     ]
    }
   ],
   "source": [
    "results_RF_minor.shape"
   ]
  },
  {
   "cell_type": "code",
   "execution_count": null,
   "metadata": {},
   "outputs": [],
   "source": [
    "preds_RF_minor = RF_minor.predict(X_test_minor_best)\n",
    "results_RF_minor = np.argmax(preds_RF_minor, axis=1)\n",
    "print results_RF_minor"
   ]
  },
  {
   "cell_type": "code",
   "execution_count": null,
   "metadata": {},
   "outputs": [],
   "source": [
    "# X_train_minor_best = sparse.load_npz(\"tfidf_train_minor_features.npz\")\n",
    "# X_test_minor_best = sparse.load_npz(\"tfidf_test_minor_features.npz\")"
   ]
  },
  {
   "cell_type": "code",
   "execution_count": null,
   "metadata": {},
   "outputs": [],
   "source": [
    "print X_train_minor_best.shape\n",
    "print X_test_minor_best.shape"
   ]
  },
  {
   "cell_type": "code",
   "execution_count": null,
   "metadata": {},
   "outputs": [],
   "source": [
    "results_RF = []\n",
    "for i in range(0, len(results_RF_major)):\n",
    "    if results_RF_major[i] == 3:\n",
    "        results_RF.append(results_RF_minor[i] + 3)\n",
    "    else:\n",
    "        results_RF.append(results_RF_major[i])\n",
    "\n",
    "# resume the index\n",
    "for i in range(0, len(results_RF)):\n",
    "    results_RF[i] = util.origin_malware_classes.index(util.malware_classes[results_RF[i]])\n",
    "print len(results_RF)"
   ]
  },
  {
   "cell_type": "code",
   "execution_count": null,
   "metadata": {},
   "outputs": [],
   "source": [
    "util.write_predictions(results_RF, ids, \"tdidf_2steps_rf.csv\")\n",
    "reorder_submission(\"tdidf_2steps_rf.csv\", \"all_seleted_2steps_rf_results_final.csv\")"
   ]
  },
  {
   "cell_type": "code",
   "execution_count": null,
   "metadata": {},
   "outputs": [],
   "source": [
    "import matplotlib.pyplot as plt\n",
    "%matplotlib inline\n",
    "plt.hist(results_RF, bins = range(0, 15), normed=True)\n",
    "plt.show()"
   ]
  },
  {
   "cell_type": "code",
   "execution_count": null,
   "metadata": {},
   "outputs": [],
   "source": [
    "model_DL_minor = train_model_DL(X_train_minor_best,y_train_minor,[128], 12)"
   ]
  },
  {
   "cell_type": "code",
   "execution_count": null,
   "metadata": {},
   "outputs": [],
   "source": [
    "Y_train_DLpred = model_DL_minor.predict(X_train_minor_best)\n",
    "results_train = np.argmax(Y_train_DLpred, axis=1)\n",
    "acc_DL = accuracy_score(np.argmax(y_train_minor, axis=1), results_train)\n",
    "print('DONE. Accuracy: ', acc_DL)"
   ]
  },
  {
   "cell_type": "code",
   "execution_count": null,
   "metadata": {},
   "outputs": [],
   "source": [
    "preds_DL_minor = model_DL_minor.predict(X_test_minor_best)\n",
    "results_DL_minor = np.argmax(preds_DL_minor, axis=1)\n",
    "print results_DL_minor"
   ]
  },
  {
   "cell_type": "code",
   "execution_count": null,
   "metadata": {},
   "outputs": [],
   "source": [
    "results_DL = []\n",
    "for i in range(0, len(results_RF_major)):\n",
    "    if results_RF_major[i] == 3:\n",
    "        results_DL.append(results_DL_minor[i] + 3)\n",
    "    else:\n",
    "        results_DL.append(results_RF_major[i])\n",
    "\n",
    "# resume the index\n",
    "for i in range(0, len(results_DL)):\n",
    "    results_DL[i] = util.origin_malware_classes.index(util.malware_classes[results_DL[i]])\n",
    "print len(results_DL)"
   ]
  },
  {
   "cell_type": "code",
   "execution_count": null,
   "metadata": {},
   "outputs": [],
   "source": [
    "util.write_predictions(results_DL, ids, \"tdidf_2steps_dl.csv\")\n",
    "reorder_submission(\"tdidf_2steps_dl.csv\", \"all_seleted_2steps_dl_results_final.csv\")"
   ]
  },
  {
   "cell_type": "code",
   "execution_count": null,
   "metadata": {},
   "outputs": [],
   "source": [
    "plt.hist(results_DL, bins = range(0, 15), normed=True)\n",
    "plt.show()"
   ]
  },
  {
   "cell_type": "code",
   "execution_count": null,
   "metadata": {},
   "outputs": [],
   "source": [
    "model_DL_major.save('model_DL_major.h5')\n",
    "model_DL_minor.save('model_DL_minor.h5')"
   ]
  },
  {
   "cell_type": "code",
   "execution_count": null,
   "metadata": {},
   "outputs": [],
   "source": []
  },
  {
   "cell_type": "code",
   "execution_count": null,
   "metadata": {},
   "outputs": [],
   "source": []
  }
 ],
 "metadata": {
  "kernelspec": {
   "display_name": "Python 2",
   "language": "python",
   "name": "python2"
  },
  "language_info": {
   "codemirror_mode": {
    "name": "ipython",
    "version": 2
   },
   "file_extension": ".py",
   "mimetype": "text/x-python",
   "name": "python",
   "nbconvert_exporter": "python",
   "pygments_lexer": "ipython2",
   "version": "2.7.14"
  }
 },
 "nbformat": 4,
 "nbformat_minor": 2
}
