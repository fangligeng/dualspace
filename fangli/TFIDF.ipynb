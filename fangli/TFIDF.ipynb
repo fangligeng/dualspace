{
 "cells": [
  {
   "cell_type": "code",
   "execution_count": 1,
   "metadata": {},
   "outputs": [
    {
     "name": "stderr",
     "output_type": "stream",
     "text": [
      "/Users/fanxu/anaconda2/envs/my-rdkit-env/lib/python2.7/site-packages/sklearn/cross_validation.py:41: DeprecationWarning: This module was deprecated in version 0.18 in favor of the model_selection module into which all the refactored classes and functions are moved. Also note that the interface of the new CV iterators are different from that of this module. This module will be removed in 0.20.\n",
      "  \"This module will be removed in 0.20.\", DeprecationWarning)\n"
     ]
    }
   ],
   "source": [
    "import os\n",
    "import numpy as np\n",
    "from scipy import sparse\n",
    "from collections import Counter\n",
    "\n",
    "try:\n",
    "    import xml.etree.cElementTree as ET\n",
    "except ImportError:\n",
    "    import xml.etree.ElementTree as ET\n",
    "\n",
    "\n",
    "from sklearn.cross_validation import cross_val_score\n",
    "from sklearn.feature_extraction.text import TfidfVectorizer\n",
    "\n",
    "import util"
   ]
  },
  {
   "cell_type": "code",
   "execution_count": 11,
   "metadata": {},
   "outputs": [],
   "source": [
    "import csv \n",
    "import sys \n",
    "\n",
    "def reorder_submission(file_to_reorder, newfile_name = \"experiment_results.csv\"):\n",
    "    # READ IN KEYS IN CORRECT ORDER AS LIST\n",
    "    with open('keys.csv','r') as f:\n",
    "        keyreader = csv.reader(f)\n",
    "        keys = [key[0] for key in keyreader]\n",
    "\n",
    "    # READ IN ALL PREDICTIONS, REGARDLESS OF ORDER\n",
    "    with open(file_to_reorder) as f:\n",
    "        oldfile_reader = csv.reader(f)\n",
    "        D = {}\n",
    "        for i,row in enumerate(oldfile_reader):\n",
    "            if i == 0:\n",
    "                continue\n",
    "            _id, pred = row \n",
    "            D[_id] = pred\n",
    "\n",
    "    # WRITE PREDICTIONS IN NEW ORDER\n",
    "    with open(newfile_name,'w') as f:\n",
    "        writer = csv.writer(f)\n",
    "        writer.writerow(('Id','Prediction'))\n",
    "        for key in keys:\n",
    "            writer.writerow((key,D[key]))\n",
    "\n",
    "    print(\"\".join([\"Reordered \", file_to_reorder,\" and wrote to \", newfile_name]))"
   ]
  },
  {
   "cell_type": "code",
   "execution_count": 68,
   "metadata": {
    "collapsed": true
   },
   "outputs": [],
   "source": [
    "import sys\n",
    "import codecs\n",
    "\n",
    "def encode(direc):\n",
    "    for datafile in os.listdir(direc):\n",
    "        f = codecs.open(direc+'/'+datafile, 'r')\n",
    "        contents = f.read()\n",
    "        newcontents = contents.replace('&#','').replace(':\\\\', '').replace('\\\\', '').replace('.', '').replace('_', '').replace('-', '').replace(';', '')\n",
    "        f.close()\n",
    "        f = codecs.open(direc+'/'+datafile, 'w')\n",
    "        f.write(newcontents)\n",
    "        f.close()"
   ]
  },
  {
   "cell_type": "code",
   "execution_count": 69,
   "metadata": {
    "collapsed": true
   },
   "outputs": [],
   "source": [
    "encode('../train')"
   ]
  },
  {
   "cell_type": "code",
   "execution_count": 70,
   "metadata": {
    "collapsed": true
   },
   "outputs": [],
   "source": [
    "encode('../test')"
   ]
  },
  {
   "cell_type": "code",
   "execution_count": 2,
   "metadata": {},
   "outputs": [],
   "source": [
    "direc = \"../train\"\n",
    "classes = []\n",
    "ids = [] \n",
    "train_files = []\n",
    "for datafile in os.listdir(direc):\n",
    "    train_files.append(direc+'/'+datafile)\n",
    "    # extract id and true class (if available) from filename\n",
    "    id_str,clazz = datafile.split('.')[:2]\n",
    "    ids.append(id_str)\n",
    "    # add target class if this is training data\n",
    "    classes.append(util.malware_classes.index(clazz))"
   ]
  },
  {
   "cell_type": "code",
   "execution_count": 3,
   "metadata": {},
   "outputs": [
    {
     "data": {
      "text/plain": [
       "(3086, 15)"
      ]
     },
     "execution_count": 3,
     "metadata": {},
     "output_type": "execute_result"
    }
   ],
   "source": [
    "y_train = np.zeros((len(classes),len(util.malware_classes)))\n",
    "y_train[np.arange(len(classes)), classes] = 1\n",
    "y_train.shape"
   ]
  },
  {
   "cell_type": "code",
   "execution_count": 4,
   "metadata": {},
   "outputs": [],
   "source": [
    "stop_words = []\n",
    "for i in range (0,10000):\n",
    "    stop_words.append(str(i))"
   ]
  },
  {
   "cell_type": "code",
   "execution_count": 5,
   "metadata": {},
   "outputs": [],
   "source": [
    "TF = TfidfVectorizer('filename', analyzer = 'word', stop_words = stop_words, min_df = 0.001)"
   ]
  },
  {
   "cell_type": "code",
   "execution_count": 6,
   "metadata": {},
   "outputs": [],
   "source": [
    "X_train = TF.fit_transform(train_files)"
   ]
  },
  {
   "cell_type": "code",
   "execution_count": 112,
   "metadata": {},
   "outputs": [
    {
     "data": {
      "text/plain": [
       "(3086, 71194)"
      ]
     },
     "execution_count": 112,
     "metadata": {},
     "output_type": "execute_result"
    }
   ],
   "source": [
    "X_train.shape"
   ]
  },
  {
   "cell_type": "code",
   "execution_count": 9,
   "metadata": {},
   "outputs": [],
   "source": [
    "test_direc = \"../test\"\n",
    "test_files = []\n",
    "test_ids = []\n",
    "for datafile in os.listdir(test_direc):\n",
    "    test_files.append(test_direc+'/'+datafile)\n",
    "    id_str,clazz = datafile.split('.')[:2]\n",
    "    test_ids.append(id_str)"
   ]
  },
  {
   "cell_type": "code",
   "execution_count": 48,
   "metadata": {},
   "outputs": [
    {
     "data": {
      "text/plain": [
       "(3724, 71194)"
      ]
     },
     "execution_count": 48,
     "metadata": {},
     "output_type": "execute_result"
    }
   ],
   "source": [
    "X_test = TF.transform(test_files)\n",
    "X_test.shape"
   ]
  },
  {
   "cell_type": "code",
   "execution_count": 115,
   "metadata": {},
   "outputs": [
    {
     "name": "stdout",
     "output_type": "stream",
     "text": [
      "71194\n",
      "Accuracy: 0.85612 (+/- 0.02495)\n"
     ]
    }
   ],
   "source": [
    "from sklearn.ensemble import RandomForestClassifier\n",
    "RF = RandomForestClassifier(n_estimators = 100, n_jobs = -1, oob_score=True)\n",
    "RF.fit(X_train, y_train)\n",
    "print RF.n_features_\n",
    "scores = cross_val_score(RF, X_train, y_train, cv=5)\n",
    "print(\"Accuracy: %0.5f (+/- %0.5f)\" % (scores.mean(), scores.std() * 2))"
   ]
  },
  {
   "cell_type": "code",
   "execution_count": 116,
   "metadata": {},
   "outputs": [
    {
     "data": {
      "text/plain": [
       "(3086, 3799)"
      ]
     },
     "execution_count": 116,
     "metadata": {},
     "output_type": "execute_result"
    }
   ],
   "source": [
    "from sklearn.feature_selection import SelectFromModel\n",
    "model = SelectFromModel(RF, prefit=True)\n",
    "X_train_new = model.transform(X_train)\n",
    "X_test_new = model.transform(X_train)\n",
    "X_train_new.shape"
   ]
  },
  {
   "cell_type": "code",
   "execution_count": 117,
   "metadata": {},
   "outputs": [
    {
     "name": "stdout",
     "output_type": "stream",
     "text": [
      "Accuracy: 0.86260 (+/- 0.01786)\n"
     ]
    }
   ],
   "source": [
    "RF = RandomForestClassifier(n_estimators = 100, n_jobs = -1, oob_score=True)\n",
    "RF.fit(X_train_new, y_train)\n",
    "scores = cross_val_score(RF, X_train_new, y_train, cv=5)\n",
    "print(\"Accuracy: %0.5f (+/- %0.5f)\" % (scores.mean(), scores.std() * 2))"
   ]
  },
  {
   "cell_type": "code",
   "execution_count": 118,
   "metadata": {},
   "outputs": [
    {
     "name": "stdout",
     "output_type": "stream",
     "text": [
      "n_features: 660\tAccuracy: 0.85483 (+/- 0.01775)\n",
      "n_features: 135\tAccuracy: 0.85418 (+/- 0.02741)\n",
      "n_features: 44\tAccuracy: 0.85321 (+/- 0.02259)\n",
      "n_features: 21\tAccuracy: 0.84673 (+/- 0.02339)\n",
      "n_features: 10\tAccuracy: 0.84251 (+/- 0.03379)\n",
      "n_features: 5\tAccuracy: 0.83149 (+/- 0.02882)\n",
      "n_features: 3\tAccuracy: 0.82728 (+/- 0.03005)\n",
      "n_features: 2\tAccuracy: 0.79261 (+/- 0.02222)\n",
      "n_features: 1\tAccuracy: 0.68147 (+/- 0.01256)\n"
     ]
    }
   ],
   "source": [
    "while X_train_new.shape[1] > 1:\n",
    "    model = SelectFromModel(RF, prefit=True)\n",
    "    X_train_new = model.transform(X_train_new)\n",
    "    X_test_new = model.transform(X_test_new)\n",
    "    \n",
    "    RF = RandomForestClassifier(n_estimators = 100, n_jobs = -1, oob_score=True)\n",
    "    RF.fit(X_train_new, y_train)\n",
    "    scores = cross_val_score(RF, X_train_new, y_train, cv=5)\n",
    "    print \"n_features: \" + str(X_train_new.shape[1]) + (\"\\tAccuracy: %0.5f (+/- %0.5f)\" % (scores.mean(), scores.std() * 2))"
   ]
  },
  {
   "cell_type": "code",
   "execution_count": 124,
   "metadata": {},
   "outputs": [
    {
     "name": "stdout",
     "output_type": "stream",
     "text": [
      "0.9141283214517174\n"
     ]
    }
   ],
   "source": [
    "#from sklearn.linear_model import SGDClassifier\n",
    "#SGD = SGDClassifier(loss = 'modified_huber', n_jobs = -1)\n",
    "#SGD.fit(X_train, classes)\n",
    "#print SGD.score(X_train, classes)"
   ]
  },
  {
   "cell_type": "code",
   "execution_count": 75,
   "metadata": {},
   "outputs": [
    {
     "name": "stdout",
     "output_type": "stream",
     "text": [
      "making predictions...\n"
     ]
    }
   ],
   "source": [
    "print \"making predictions...\"\n",
    "preds = RF.predict(X_test_new)\n",
    "results = np.argmax(preds, axis=1)\n",
    "#results = SGD.predict(X_test)"
   ]
  },
  {
   "cell_type": "code",
   "execution_count": 77,
   "metadata": {},
   "outputs": [
    {
     "name": "stdout",
     "output_type": "stream",
     "text": [
      "[10  0  8 ...,  5  6  8]\n"
     ]
    }
   ],
   "source": [
    "print results"
   ]
  },
  {
   "cell_type": "code",
   "execution_count": 78,
   "metadata": {},
   "outputs": [
    {
     "name": "stdout",
     "output_type": "stream",
     "text": [
      "writing predictions...\n"
     ]
    }
   ],
   "source": [
    "print \"writing predictions...\"\n",
    "outputfile = \"tfidf_predictions.csv\"\n",
    "util.write_predictions(results, test_ids, outputfile)"
   ]
  },
  {
   "cell_type": "code",
   "execution_count": 79,
   "metadata": {},
   "outputs": [
    {
     "name": "stdout",
     "output_type": "stream",
     "text": [
      "Reordered tfidf_predictions.csv and wrote to tfidf_rf_sfm_results1.csv\n"
     ]
    }
   ],
   "source": [
    "reorder_submission(outputfile, \"tfidf_rf_sfm_results1.csv\")"
   ]
  },
  {
   "cell_type": "code",
   "execution_count": 7,
   "metadata": {
    "collapsed": true
   },
   "outputs": [],
   "source": [
    "sparse.save_npz(\"tfidf_train.npz\", X_train)"
   ]
  },
  {
   "cell_type": "code",
   "execution_count": 8,
   "metadata": {
    "collapsed": true
   },
   "outputs": [],
   "source": [
    "# X = sparse.load_npz(\"tfidf_train.npz\")\n",
    "# X.shape"
   ]
  },
  {
   "cell_type": "code",
   "execution_count": 109,
   "metadata": {},
   "outputs": [
    {
     "name": "stdout",
     "output_type": "stream",
     "text": [
      "2367\n",
      "0.99967595593\n"
     ]
    }
   ],
   "source": [
    "from sklearn.feature_selection import RFECV\n",
    "model = RFECV(RF, cv = 5, step = 0.1, scoring='accuracy')\n",
    "model.fit(X_train_new, classes)\n",
    "print model.n_features_\n",
    "print model.score(X_train_new, classes)\n",
    "\n",
    "#X_train_new = model.transform(X_train)\n",
    "#X_test_new = model.transform(X_test)\n",
    "#print X_train_new.shape\n",
    "#print X_test_new.shape"
   ]
  }
 ],
 "metadata": {
  "kernelspec": {
   "display_name": "Python 2",
   "language": "python",
   "name": "python2"
  },
  "language_info": {
   "codemirror_mode": {
    "name": "ipython",
    "version": 2
   },
   "file_extension": ".py",
   "mimetype": "text/x-python",
   "name": "python",
   "nbconvert_exporter": "python",
   "pygments_lexer": "ipython2",
   "version": "2.7.14"
  }
 },
 "nbformat": 4,
 "nbformat_minor": 2
}
