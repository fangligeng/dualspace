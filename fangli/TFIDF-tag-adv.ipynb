{
 "cells": [
  {
   "cell_type": "code",
   "execution_count": 3,
   "metadata": {},
   "outputs": [
    {
     "name": "stderr",
     "output_type": "stream",
     "text": [
      "/Users/fanxu/anaconda2/envs/my-rdkit-env/lib/python2.7/site-packages/sklearn/cross_validation.py:41: DeprecationWarning: This module was deprecated in version 0.18 in favor of the model_selection module into which all the refactored classes and functions are moved. Also note that the interface of the new CV iterators are different from that of this module. This module will be removed in 0.20.\n",
      "  \"This module will be removed in 0.20.\", DeprecationWarning)\n"
     ]
    }
   ],
   "source": [
    "import os\n",
    "import numpy as np\n",
    "from scipy import sparse\n",
    "from collections import Counter\n",
    "\n",
    "try:\n",
    "    import xml.etree.cElementTree as ET\n",
    "except ImportError:\n",
    "    import xml.etree.ElementTree as ET\n",
    "\n",
    "from sklearn.cross_validation import cross_val_score\n",
    "from sklearn.feature_extraction.text import TfidfVectorizer\n",
    "\n",
    "import util"
   ]
  },
  {
   "cell_type": "code",
   "execution_count": 30,
   "metadata": {},
   "outputs": [],
   "source": [
    "from keras.layers import Dense # For dense layers\n",
    "from keras.models import Sequential # For sequential layering\n",
    "from keras.callbacks import EarlyStopping # For stopping execution\n",
    "from sklearn.metrics import mean_squared_error\n",
    "\n",
    "def train_model_DL(X_train,Y_train,n_nodes):\n",
    "    \"\"\" n_nodes is 1-D numpy array with number of nodes on each layer\n",
    "        e.g. [10,20,30] is a model with 3 (hidden) layers,\n",
    "        with 10/20/30 nodes on the first/second/third layers\n",
    "        Returns trained DL model \"\"\"\n",
    "    input_shape = (X_train.shape[1],) # Shape of input data\n",
    "    # Initialize model\n",
    "    model_DL = Sequential()\n",
    "    for i in range(len(n_nodes)):\n",
    "        if i == 0:\n",
    "            # First layer\n",
    "            model_DL.add(Dense(n_nodes[i],activation='relu',input_shape=input_shape))\n",
    "        else:\n",
    "            # Subsequent layers\n",
    "            model_DL.add(Dense(n_nodes[i],activation='relu'))\n",
    "    # Output layer\n",
    "    model_DL.add(Dense(15, activation='softmax'))\n",
    "    # Compile model\n",
    "    model_DL.compile(optimizer='adam',loss='mean_squared_error')\n",
    "    # Print model summary\n",
    "    model_DL.summary()\n",
    "    # Early stopping monitor w/ patience=3 (stop after 3 runs without improvements)\n",
    "    early_stopping_monitor = EarlyStopping(patience=30)\n",
    "    # Fit model using 20% of data for validation\n",
    "    model_DL.fit(X_train, Y_train, validation_split=0.2, epochs=200, callbacks=[early_stopping_monitor])\n",
    "    Y_train_DLpred = model_DL.predict(X_train)\n",
    "    mse_DL = mean_squared_error(Y_train, Y_train_DLpred)\n",
    "    print('DONE. Mean Squared Error: ', mse_DL)\n",
    "    return model_DL"
   ]
  },
  {
   "cell_type": "code",
   "execution_count": 3,
   "metadata": {},
   "outputs": [],
   "source": [
    "def get_tags(direc, useFirstThreadOnly = True):\n",
    "    tags_set = [] # list of feature dicts\n",
    "    classes = []\n",
    "    ids = [] \n",
    "    for datafile in os.listdir(direc):\n",
    "        # extract id and true class (if available) from filename\n",
    "        id_str,clazz = datafile.split('.')[:2]\n",
    "        ids.append(id_str)\n",
    "        # add target class if this is training data\n",
    "        try:\n",
    "            classes.append(util.malware_classes.index(clazz))\n",
    "        except ValueError:\n",
    "            # we should only fail to find the label in our list of malware classes\n",
    "            # if this is test data, which always has an \"X\" label\n",
    "            assert clazz == \"X\"\n",
    "            classes.append(-1)\n",
    "\n",
    "        in_all_section = False\n",
    "        # parse file as an xml document\n",
    "        tree = ET.parse(os.path.join(direc,datafile))\n",
    "        # accumulate features\n",
    "        tags = \"\"\n",
    "        for el in tree.iter():\n",
    "            # ignore everything outside the \"all_section\" element\n",
    "            if el.tag == \"all_section\" and not in_all_section:\n",
    "                in_all_section = True\n",
    "            elif el.tag == \"all_section\" and in_all_section:\n",
    "                in_all_section = False\n",
    "                if useFirstThreadOnly is True:\n",
    "                    break\n",
    "            elif in_all_section:\n",
    "                tags += \" \"\n",
    "                tags += el.tag\n",
    "                \n",
    "        tags_set.append(tags.replace('_', ''))\n",
    "    \n",
    "    return tags_set, np.array(classes), ids"
   ]
  },
  {
   "cell_type": "code",
   "execution_count": 10,
   "metadata": {},
   "outputs": [
    {
     "name": "stdout",
     "output_type": "stream",
     "text": [
      "processes\n",
      "process\n",
      "\tusername: Administrator\n",
      "\tindex: 1\n",
      "\tsha1: eb93b1ae32e3acdc2bfb8f57696454123dbeafac\n",
      "\tterminationtime: 00:04.187\n",
      "\tfilename_hash: hash_error\n",
      "\tpid: 2432\n",
      "\tstartreason: AnalysisTarget\n",
      "\tfilename: c:\\9f21291e2734c13be0859d1948968909.EX\n",
      "\tfilesize: 77312\n",
      "\tstarttime: 00:01.328\n",
      "\tterminationreason: NormalTermination\n",
      "\texecutionstatus: OK\n",
      "\tapplicationtype: Win32Application\n",
      "\tparentindex: 0\n",
      "\tmd5: 9f21291e2734c13be0859d1948968909\n",
      "thread\n",
      "\ttid: 2436\n",
      "all_section\n",
      "load_image\n",
      "\tsuccessful: 1\n",
      "\tend_address: $1015000\n",
      "\tfilename_hash: hash_error\n",
      "\tfilename: c:\\9f21291e2734c13be0859d1948968909.EX\n",
      "\taddress: $1000000\n",
      "\tsize: 86016\n",
      "load_dll\n",
      "\tsuccessful: 1\n",
      "\tend_address: $7C9C9000\n",
      "\tfilename_hash: e753d19a2e3b98b2b3b8f02f276092096d10f22d\n",
      "\tfilename: C:\\WINDOWS\\system32\\ntdll.dll\n",
      "\taddress: $7C910000\n",
      "\tsize: 757760\n",
      "load_dll\n",
      "\tsuccessful: 1\n",
      "\tend_address: $7C908000\n",
      "\tfilename_hash: c88d57cc99f75cd928b47b6e444231f26670138f\n",
      "\tfilename: C:\\WINDOWS\\system32\\kernel32.dll\n",
      "\taddress: $7C800000\n",
      "\tsize: 1081344\n",
      "load_dll\n",
      "\tsuccessful: 1\n",
      "\tend_address: $77E4A000\n",
      "\tfilename_hash: ea2e9bac1789b53d7efcd675a63f4a2b44898439\n",
      "\tfilename: C:\\WINDOWS\\system32\\ADVAPI32.dll\n",
      "\taddress: $77DA0000\n",
      "\tsize: 696320\n",
      "load_dll\n",
      "\tsuccessful: 1\n",
      "\tend_address: $77EE2000\n",
      "\tfilename_hash: f3bb6474ec18ee9cccc02ef44510a78b42058a41\n",
      "\tfilename: C:\\WINDOWS\\system32\\RPCRT4.dll\n",
      "\taddress: $77E50000\n",
      "\tsize: 598016\n",
      "load_dll\n",
      "\tsuccessful: 1\n",
      "\tend_address: $77FD1000\n",
      "\tfilename_hash: 31166d1e35a911a082149f5efac2dac228109615\n",
      "\tfilename: C:\\WINDOWS\\system32\\Secur32.dll\n",
      "\taddress: $77FC0000\n",
      "\tsize: 69632\n",
      "load_dll\n",
      "\tsuccessful: 1\n",
      "\tend_address: $7E3F1000\n",
      "\tfilename_hash: 08fe9ff1fe9b8fd237adedb10d65fb0447b91fe5\n",
      "\tfilename: C:\\WINDOWS\\system32\\USER32.dll\n",
      "\taddress: $7E360000\n",
      "\tsize: 593920\n",
      "load_dll\n",
      "\tsuccessful: 1\n",
      "\tend_address: $77F39000\n",
      "\tfilename_hash: 0f37018f672c7635691f7317ade3c5a63904ec96\n",
      "\tfilename: C:\\WINDOWS\\system32\\GDI32.dll\n",
      "\taddress: $77EF0000\n",
      "\tsize: 299008\n",
      "load_dll\n",
      "\tsuccessful: 1\n",
      "\tend_address: $77FB6000\n",
      "\tfilename_hash: a9245beec2e139b31cd3b65e0f0e4804c030e639\n",
      "\tfilename: C:\\WINDOWS\\system32\\SHLWAPI.dll\n",
      "\taddress: $77F40000\n",
      "\tsize: 483328\n",
      "load_dll\n",
      "\tsuccessful: 1\n",
      "\tend_address: $77C38000\n",
      "\tfilename_hash: 70d5f97088cc9348bb9d10098af0738a696b96de\n",
      "\tfilename: C:\\WINDOWS\\system32\\msvcrt.dll\n",
      "\taddress: $77BE0000\n",
      "\tsize: 360448\n",
      "load_dll\n",
      "\tsuccessful: 1\n",
      "\tend_address: $7634D000\n",
      "\tfilename_hash: f9be7678080084bc3cb48d0cb64bba9ba98800f1\n",
      "\tfilename: C:\\WINDOWS\\system32\\IMM32.DLL\n",
      "\taddress: $76330000\n",
      "\tsize: 118784\n",
      "load_dll\n",
      "\tsuccessful: 1\n",
      "\tend_address: $7717B000\n",
      "\tfilename_hash: 3168a173d177f470928b468db777640861dcb32e\n",
      "\tfilename: C:\\WINDOWS\\system32\\oleaut32.dll\n",
      "\taddress: $770F0000\n",
      "\tsize: 569344\n",
      "load_dll\n",
      "\tsuccessful: 1\n",
      "\tend_address: $775ED000\n",
      "\tfilename_hash: c7753525d5276ab92a01a8a3c39cfb5269da7f98\n",
      "\tfilename: C:\\WINDOWS\\system32\\ole32.dll\n",
      "\taddress: $774B0000\n",
      "\tsize: 1298432\n",
      "load_dll\n",
      "\tsuccessful: 1\n",
      "\tend_address: $5E49D000\n",
      "\tfilename_hash: 8ae378a352c4a13516bf1fe5a8615d8893d2ff2d\n",
      "\tfilename: C:\\WINDOWS\\system32\\pstorec.dll\n",
      "\taddress: $5E490000\n",
      "\tsize: 53248\n",
      "load_dll\n",
      "\tsuccessful: 1\n",
      "\tend_address: $76AE1000\n",
      "\tfilename_hash: 59cb82f432d529da3e81b030b2365c22a95fd35a\n",
      "\tfilename: C:\\WINDOWS\\system32\\ATL.DLL\n",
      "\taddress: $76AD0000\n",
      "\tsize: 69632\n",
      "create_mutex\n",
      "\tname: l2r0\n",
      "\towned: 0\n",
      "create_mutex\n",
      "\tname: OutlookExpress_InstanceMutex_101897\n",
      "\towned: 0\n",
      "find_window\n",
      "\tclassname: OutlookExpressHiddenWindow\n",
      "load_dll\n",
      "\tsuccessful: 0\n",
      "\tfilename_hash: hash_error\n",
      "\tfilename: MSOE.DLL\n",
      "get_file_attributes\n",
      "\tdesiredaccess: FILE_ANY_ACCESS\n",
      "\tfiletype: file\n",
      "\tsrcfile_hash: hash_error\n",
      "\tflags: SECURITY_ANONYMOUS\n",
      "\tsrcfile: MSOE.DLL\n",
      "check_for_debugger\n",
      "\tapifunction: IsDebuggerPresent\n",
      "load_dll\n",
      "\tsuccessful: 1\n",
      "\tend_address: $5B128000\n",
      "\tfilename_hash: 16c4d24a172bfbc67f488d6b4086b9e10f8eaf4b\n",
      "\tfilename: C:\\WINDOWS\\system32\\uxtheme.dll\n",
      "\taddress: $5B0F0000\n",
      "\tsize: 229376\n",
      "get_system_directory\n",
      "open_key\n",
      "\tkey: HKEY_LOCAL_MACHINE\\SOFTWARE\\Microsoft\\CTF\\Compatibility\\9f21291e2734c13be0859d1948968909.EX\n",
      "open_key\n",
      "\tkey: HKEY_LOCAL_MACHINE\\SOFTWARE\\Microsoft\\CTF\\SystemShared\n",
      "query_value\n",
      "\tvalue: CUAS\n",
      "\tkey: HKEY_LOCAL_MACHINE\\SOFTWARE\\Microsoft\\CTF\\SystemShared\n",
      "create_mutex\n",
      "\tname: CTF.LBES.MutexDefaultS-1-5-21-583907252-1708537768-842925246-500\n",
      "\towned: 0\n",
      "create_mutex\n",
      "\tname: CTF.Compart.MutexDefaultS-1-5-21-583907252-1708537768-842925246-500\n",
      "\towned: 0\n",
      "create_mutex\n",
      "\tname: CTF.Asm.MutexDefaultS-1-5-21-583907252-1708537768-842925246-500\n",
      "\towned: 0\n",
      "create_mutex\n",
      "\tname: CTF.Layouts.MutexDefaultS-1-5-21-583907252-1708537768-842925246-500\n",
      "\towned: 0\n",
      "create_mutex\n",
      "\tname: CTF.TMD.MutexDefaultS-1-5-21-583907252-1708537768-842925246-500\n",
      "\towned: 0\n",
      "open_key\n",
      "\tkey: HKEY_CURRENT_USER\\Keyboard Layout\\Toggle\n",
      "query_value\n",
      "\tvalue: Language Hotkey\n",
      "\tkey: HKEY_CURRENT_USER\\Keyboard Layout\\Toggle\n",
      "query_value\n",
      "\tvalue: Layout Hotkey\n",
      "\tkey: HKEY_CURRENT_USER\\Keyboard Layout\\Toggle\n",
      "get_system_directory\n",
      "open_key\n",
      "\tkey: HKEY_LOCAL_MACHINE\\SOFTWARE\\Microsoft\\CTF\n",
      "query_value\n",
      "\tvalue: EnableAnchorContext\n",
      "\tkey: HKEY_LOCAL_MACHINE\\SOFTWARE\\Microsoft\\CTF\n",
      "create_mutex\n",
      "\tname: CTF.TimListCache.FMPDefaultS-1-5-21-583907252-1708537768-842925246-500MUTEX.DefaultS-1-5-21-583907252\n",
      "\towned: 0\n",
      "set_windows_hook\n",
      "\thookid: WH_KEYBOARD\n",
      "\thook_module: $746A0000\n",
      "\thook_address: $746B07C3\n",
      "\tthreadid: 2436\n",
      "set_windows_hook\n",
      "\thookid: WH_MOUSE\n",
      "\thook_module: $746A0000\n",
      "\thook_address: $746B04CD\n",
      "\tthreadid: 2436\n",
      "open_key\n",
      "\tkey: HKEY_LOCAL_MACHINE\\Software\\Microsoft\\Windows NT\\CurrentVersion\\IMM\n",
      "query_value\n",
      "\tvalue: Ime File\n",
      "\tkey: HKEY_LOCAL_MACHINE\\SOFTWARE\\Microsoft\\Windows NT\\CurrentVersion\\IMM\n",
      "load_dll\n",
      "\tsuccessful: 1\n",
      "\tend_address: $77BD8000\n",
      "\tfilename_hash: adf263b658136ccb3cde72d0e6dd634c5a5e5143\n",
      "\tfilename: C:\\WINDOWS\\system32\\version.dll\n",
      "\taddress: $77BD0000\n",
      "\tsize: 32768\n",
      "get_system_directory\n",
      "load_dll\n",
      "\tsuccessful: 1\n",
      "\tend_address: $AA0001\n",
      "\tfilename_hash: 434c43fc87679a37aa054c0c18e190ccb39a4439\n",
      "\tfilename: C:\\WINDOWS\\system32\\msctfime.ime\n",
      "\taddress: $AA0001\n",
      "\tsize: 0\n",
      "get_system_directory\n",
      "load_dll\n",
      "\tsuccessful: 1\n",
      "\tend_address: $775ED000\n",
      "\tfilename_hash: c7753525d5276ab92a01a8a3c39cfb5269da7f98\n",
      "\tfilename: C:\\WINDOWS\\system32\\ole32.dll\n",
      "\taddress: $774B0000\n",
      "\tsize: 1298432\n",
      "load_dll\n",
      "\tsuccessful: 1\n",
      "\tend_address: $7527E000\n",
      "\tfilename_hash: 434c43fc87679a37aa054c0c18e190ccb39a4439\n",
      "\tfilename: C:\\WINDOWS\\system32\\msctfime.ime\n",
      "\taddress: $75250000\n",
      "\tsize: 188416\n",
      "get_system_directory\n",
      "create_window\n",
      "\tstyle: WS_DISABLED WS_OVERLAPPED WS_POPUP WS_TILED\n",
      "\thwnd: $0002012C\n",
      "\ttop: 0\n",
      "\theight: 0\n",
      "\tclassname: IME\n",
      "\twidth: 0\n",
      "\texstyle: WS_EX_LEFT WS_EX_LTRREADING WS_EX_RIGHTSCROLLBAR\n",
      "\twindowname: Default IME\n",
      "\tleft: 0\n",
      "open_key\n",
      "\tkey: HKEY_CURRENT_USER\\SOFTWARE\\Microsoft\\CTF\n",
      "query_value\n",
      "\tvalue: Disable Thread Input Manager\n",
      "\tkey: HKEY_CURRENT_USER\\Software\\Microsoft\\CTF\n",
      "open_key\n",
      "\tkey: HKEY_LOCAL_MACHINE\\Software\\Microsoft\\CTF\\SystemShared\n",
      "query_value\n",
      "\tvalue: CUAS\n",
      "\tkey: HKEY_LOCAL_MACHINE\\SOFTWARE\\Microsoft\\CTF\\SystemShared\n",
      "get_system_directory\n",
      "load_dll\n",
      "\tsuccessful: 1\n",
      "\tend_address: $7527E000\n",
      "\tfilename_hash: 434c43fc87679a37aa054c0c18e190ccb39a4439\n",
      "\tfilename: C:\\WINDOWS\\system32\\msctfime.ime\n",
      "\taddress: $75250000\n",
      "\tsize: 188416\n",
      "create_window\n",
      "\tstyle: WS_BORDER WS_CAPTION WS_DLGFRAME WS_OVERLAPPED WS_POPUP WS_POPUPWINDOW WS_SYSMENU WS_TILED\n",
      "\thwnd: $0002012A\n",
      "\ttop: 478\n",
      "\theight: 126\n",
      "\tclassname: #32770\n",
      "\twidth: 674\n",
      "\texstyle: WS_EX_CONTROLPARENT WS_EX_DLGMODALFRAME WS_EX_LEFT WS_EX_LTRREADING WS_EX_RIGHTSCROLLBAR WS_EX_WINDOWEDGE\n",
      "\twindowname: Outlook Express\n",
      "\tleft: 306\n",
      "enum_window\n",
      "kill_process\n",
      "\tapifunction: NtTerminateProcess\n",
      "\ttargetpid: 2432\n",
      "get_system_directory\n",
      "load_dll\n",
      "\tsuccessful: 1\n",
      "\tend_address: $746EC000\n",
      "\tfilename_hash: 3c5a241879c49efae60e7d20c81195c0008fc317\n",
      "\tfilename: C:\\WINDOWS\\system32\\MSCTF.dll\n",
      "\taddress: $746A0000\n",
      "\tsize: 311296\n",
      "enum_window\n"
     ]
    }
   ],
   "source": [
    "tree = ET.parse(\"exp/eb93b1ae3c2e3acdc2bfb8f57696454123dbeafac.Virut.xml\")\n",
    "for el in tree.iter():\n",
    "    print el.tag\n",
    "    for k, v in el.attrib.iteritems():\n",
    "        print \"\\t\"+ k + \": \" + v"
   ]
  },
  {
   "cell_type": "code",
   "execution_count": 4,
   "metadata": {},
   "outputs": [],
   "source": [
    "train_tags, train_classes, _ = get_tags('../train_origin')"
   ]
  },
  {
   "cell_type": "code",
   "execution_count": 5,
   "metadata": {},
   "outputs": [],
   "source": [
    "test_tags, _, ids = get_tags('../test_origin')"
   ]
  },
  {
   "cell_type": "code",
   "execution_count": 6,
   "metadata": {},
   "outputs": [
    {
     "data": {
      "text/plain": [
       "(3086, 15)"
      ]
     },
     "execution_count": 6,
     "metadata": {},
     "output_type": "execute_result"
    }
   ],
   "source": [
    "y_train = np.zeros((len(train_classes),len(util.malware_classes)))\n",
    "y_train[np.arange(len(train_classes)), train_classes] = 1\n",
    "y_train.shape"
   ]
  },
  {
   "cell_type": "code",
   "execution_count": 7,
   "metadata": {},
   "outputs": [],
   "source": [
    "TF = TfidfVectorizer(analyzer = 'word', max_df = 0.9)"
   ]
  },
  {
   "cell_type": "code",
   "execution_count": 8,
   "metadata": {},
   "outputs": [],
   "source": [
    "X_train = TF.fit_transform(train_tags)"
   ]
  },
  {
   "cell_type": "code",
   "execution_count": 9,
   "metadata": {},
   "outputs": [
    {
     "data": {
      "text/plain": [
       "(3086, 88)"
      ]
     },
     "execution_count": 9,
     "metadata": {},
     "output_type": "execute_result"
    }
   ],
   "source": [
    "X_train.shape"
   ]
  },
  {
   "cell_type": "code",
   "execution_count": 10,
   "metadata": {},
   "outputs": [
    {
     "name": "stdout",
     "output_type": "stream",
     "text": [
      "5\n"
     ]
    },
    {
     "data": {
      "text/plain": [
       "{u'getsystemdirectory', u'loaddll', u'loadimage', u'openkey', u'queryvalue'}"
      ]
     },
     "execution_count": 10,
     "metadata": {},
     "output_type": "execute_result"
    }
   ],
   "source": [
    "print len(TF.stop_words_)\n",
    "TF.stop_words_"
   ]
  },
  {
   "cell_type": "code",
   "execution_count": 11,
   "metadata": {},
   "outputs": [],
   "source": [
    "sparse.save_npz(\"tfidf_train_tag.npz\", X_train)"
   ]
  },
  {
   "cell_type": "code",
   "execution_count": 12,
   "metadata": {},
   "outputs": [],
   "source": [
    "# X = sparse.load_npz(\"tfidf_train.npz\")\n",
    "# X.shape"
   ]
  },
  {
   "cell_type": "code",
   "execution_count": 13,
   "metadata": {},
   "outputs": [
    {
     "data": {
      "text/plain": [
       "5"
      ]
     },
     "execution_count": 13,
     "metadata": {},
     "output_type": "execute_result"
    }
   ],
   "source": [
    "len(TF.stop_words_)"
   ]
  },
  {
   "cell_type": "code",
   "execution_count": 14,
   "metadata": {},
   "outputs": [
    {
     "data": {
      "text/plain": [
       "(3724, 88)"
      ]
     },
     "execution_count": 14,
     "metadata": {},
     "output_type": "execute_result"
    }
   ],
   "source": [
    "X_test = TF.transform(test_tags)\n",
    "X_test.shape"
   ]
  },
  {
   "cell_type": "code",
   "execution_count": 15,
   "metadata": {},
   "outputs": [
    {
     "name": "stdout",
     "output_type": "stream",
     "text": [
      "88\n",
      "[1.30700209e-03 1.16753866e-03 1.94854565e-02 1.68050440e-02\n",
      " 5.09195092e-06 1.99139665e-02 2.14366417e-03 1.22265887e-03\n",
      " 6.58201527e-04 6.80766948e-03 1.72711622e-02 1.84561863e-02\n",
      " 8.47243403e-05 6.30777594e-03 5.90563055e-05 1.93416713e-02\n",
      " 1.23057405e-02 2.42862286e-02 1.39229339e-05 1.94541226e-03\n",
      " 2.21544723e-03 1.70128308e-02 4.87466695e-02 2.85639280e-02\n",
      " 9.67714433e-03 3.99651343e-03 1.05462630e-04 3.23464126e-03\n",
      " 3.15756050e-02 4.30424445e-04 1.32635920e-03 1.38638144e-05\n",
      " 7.89779131e-05 4.99544656e-03 3.67282157e-03 4.74345974e-03\n",
      " 3.22886383e-05 5.52612812e-04 1.00919534e-04 4.93466790e-05\n",
      " 9.12519895e-03 4.93960048e-02 2.80510900e-05 3.20180447e-02\n",
      " 4.30915299e-02 4.24321273e-03 2.94854100e-02 0.00000000e+00\n",
      " 2.42046741e-03 5.27373789e-03 0.00000000e+00 2.40685344e-02\n",
      " 2.43194003e-02 2.82306311e-03 2.12776501e-02 2.91238112e-05\n",
      " 0.00000000e+00 1.56297319e-03 3.46906926e-02 4.59191384e-03\n",
      " 8.63818576e-03 3.38247331e-03 2.06597104e-03 1.56488755e-03\n",
      " 3.54840942e-02 5.95434594e-03 2.32213854e-02 1.35312579e-03\n",
      " 1.49066335e-03 1.73957527e-03 1.75892167e-03 1.23562024e-02\n",
      " 6.39939013e-03 1.53531408e-05 1.78253464e-03 8.34596619e-03\n",
      " 2.10497361e-02 3.70826874e-02 2.95080618e-02 2.21493821e-03\n",
      " 2.56835780e-02 7.76951148e-04 6.02993091e-02 1.60905017e-04\n",
      " 3.02791151e-02 1.51657739e-03 5.63267897e-02 3.90329045e-04]\n",
      "0.9727802981205443\n"
     ]
    }
   ],
   "source": [
    "from sklearn.ensemble import RandomForestClassifier\n",
    "RF = RandomForestClassifier(n_estimators = 100, n_jobs = -1)\n",
    "RF.fit(X_train, y_train)\n",
    "print RF.n_features_\n",
    "print RF.feature_importances_\n",
    "print RF.score(X_train, y_train)"
   ]
  },
  {
   "cell_type": "code",
   "execution_count": 16,
   "metadata": {},
   "outputs": [
    {
     "name": "stderr",
     "output_type": "stream",
     "text": [
      "/Users/fanxu/anaconda2/envs/my-rdkit-env/lib/python2.7/site-packages/sklearn/linear_model/stochastic_gradient.py:128: FutureWarning: max_iter and tol parameters have been added in <class 'sklearn.linear_model.stochastic_gradient.SGDClassifier'> in 0.19. If both are left unset, they default to max_iter=5 and tol=None. If tol is not None, max_iter defaults to max_iter=1000. From 0.21, default max_iter will be 1000, and default tol will be 1e-3.\n",
      "  \"and default tol will be 1e-3.\" % type(self), FutureWarning)\n"
     ]
    },
    {
     "name": "stdout",
     "output_type": "stream",
     "text": [
      "0.8425145819831497\n"
     ]
    }
   ],
   "source": [
    "from sklearn.linear_model import SGDClassifier\n",
    "SGD = SGDClassifier(n_jobs = -1)\n",
    "SGD.fit(X_train, train_classes)\n",
    "print SGD.score(X_train, train_classes)"
   ]
  },
  {
   "cell_type": "code",
   "execution_count": 31,
   "metadata": {},
   "outputs": [
    {
     "name": "stdout",
     "output_type": "stream",
     "text": [
      "_________________________________________________________________\n",
      "Layer (type)                 Output Shape              Param #   \n",
      "=================================================================\n",
      "dense_13 (Dense)             (None, 200)               17800     \n",
      "_________________________________________________________________\n",
      "dense_14 (Dense)             (None, 200)               40200     \n",
      "_________________________________________________________________\n",
      "dense_15 (Dense)             (None, 15)                3015      \n",
      "=================================================================\n",
      "Total params: 61,015\n",
      "Trainable params: 61,015\n",
      "Non-trainable params: 0\n",
      "_________________________________________________________________\n",
      "Train on 2468 samples, validate on 618 samples\n",
      "Epoch 1/200\n",
      "2468/2468 [==============================] - 0s 187us/step - loss: 0.0341 - val_loss: 0.0191\n",
      "Epoch 2/200\n",
      "2468/2468 [==============================] - 0s 88us/step - loss: 0.0190 - val_loss: 0.0168\n",
      "Epoch 3/200\n",
      "2468/2468 [==============================] - 0s 105us/step - loss: 0.0169 - val_loss: 0.0156\n",
      "Epoch 4/200\n",
      "2468/2468 [==============================] - 0s 97us/step - loss: 0.0159 - val_loss: 0.0151\n",
      "Epoch 5/200\n",
      "2468/2468 [==============================] - 0s 111us/step - loss: 0.0150 - val_loss: 0.0149\n",
      "Epoch 6/200\n",
      "2468/2468 [==============================] - 0s 98us/step - loss: 0.0143 - val_loss: 0.0139\n",
      "Epoch 7/200\n",
      "2468/2468 [==============================] - 0s 92us/step - loss: 0.0135 - val_loss: 0.0133\n",
      "Epoch 8/200\n",
      "2468/2468 [==============================] - 0s 107us/step - loss: 0.0130 - val_loss: 0.0133\n",
      "Epoch 9/200\n",
      "2468/2468 [==============================] - 0s 101us/step - loss: 0.0123 - val_loss: 0.0132\n",
      "Epoch 10/200\n",
      "2468/2468 [==============================] - 0s 85us/step - loss: 0.0117 - val_loss: 0.0130\n",
      "Epoch 11/200\n",
      "2468/2468 [==============================] - 0s 94us/step - loss: 0.0115 - val_loss: 0.0121\n",
      "Epoch 12/200\n",
      "2468/2468 [==============================] - 0s 112us/step - loss: 0.0109 - val_loss: 0.0116\n",
      "Epoch 13/200\n",
      "2468/2468 [==============================] - 0s 100us/step - loss: 0.0104 - val_loss: 0.0114\n",
      "Epoch 14/200\n",
      "2468/2468 [==============================] - 0s 89us/step - loss: 0.0099 - val_loss: 0.0111\n",
      "Epoch 15/200\n",
      "2468/2468 [==============================] - 0s 107us/step - loss: 0.0097 - val_loss: 0.0110\n",
      "Epoch 16/200\n",
      "2468/2468 [==============================] - 0s 88us/step - loss: 0.0094 - val_loss: 0.0114\n",
      "Epoch 17/200\n",
      "2468/2468 [==============================] - 0s 106us/step - loss: 0.0092 - val_loss: 0.0110\n",
      "Epoch 18/200\n",
      "2468/2468 [==============================] - 0s 98us/step - loss: 0.0090 - val_loss: 0.0106\n",
      "Epoch 19/200\n",
      "2468/2468 [==============================] - 0s 89us/step - loss: 0.0087 - val_loss: 0.0111\n",
      "Epoch 20/200\n",
      "2468/2468 [==============================] - 0s 105us/step - loss: 0.0085 - val_loss: 0.0110\n",
      "Epoch 21/200\n",
      "2468/2468 [==============================] - 0s 91us/step - loss: 0.0086 - val_loss: 0.0113\n",
      "Epoch 22/200\n",
      "2468/2468 [==============================] - 0s 103us/step - loss: 0.0081 - val_loss: 0.0109\n",
      "Epoch 23/200\n",
      "2468/2468 [==============================] - 0s 113us/step - loss: 0.0081 - val_loss: 0.0112\n",
      "Epoch 24/200\n",
      "2468/2468 [==============================] - 0s 126us/step - loss: 0.0080 - val_loss: 0.0110\n",
      "Epoch 25/200\n",
      "2468/2468 [==============================] - 0s 101us/step - loss: 0.0078 - val_loss: 0.0115\n",
      "Epoch 26/200\n",
      "2468/2468 [==============================] - 0s 101us/step - loss: 0.0079 - val_loss: 0.0112\n",
      "Epoch 27/200\n",
      "2468/2468 [==============================] - 0s 110us/step - loss: 0.0076 - val_loss: 0.0109\n",
      "Epoch 28/200\n",
      "2468/2468 [==============================] - 0s 90us/step - loss: 0.0083 - val_loss: 0.0110\n",
      "Epoch 29/200\n",
      "2468/2468 [==============================] - 0s 94us/step - loss: 0.0075 - val_loss: 0.0109\n",
      "Epoch 30/200\n",
      "2468/2468 [==============================] - 0s 105us/step - loss: 0.0075 - val_loss: 0.0109\n",
      "Epoch 31/200\n",
      "2468/2468 [==============================] - 0s 95us/step - loss: 0.0073 - val_loss: 0.0107\n",
      "Epoch 32/200\n",
      "2468/2468 [==============================] - 0s 108us/step - loss: 0.0072 - val_loss: 0.0107\n",
      "Epoch 33/200\n",
      "2468/2468 [==============================] - 0s 110us/step - loss: 0.0071 - val_loss: 0.0111\n",
      "Epoch 34/200\n",
      "2468/2468 [==============================] - 0s 111us/step - loss: 0.0074 - val_loss: 0.0107\n",
      "Epoch 35/200\n",
      "2468/2468 [==============================] - 0s 90us/step - loss: 0.0068 - val_loss: 0.0107\n",
      "Epoch 36/200\n",
      "2468/2468 [==============================] - 0s 90us/step - loss: 0.0070 - val_loss: 0.0107\n",
      "Epoch 37/200\n",
      "2468/2468 [==============================] - 0s 104us/step - loss: 0.0069 - val_loss: 0.0107\n",
      "Epoch 38/200\n",
      "2468/2468 [==============================] - 0s 97us/step - loss: 0.0067 - val_loss: 0.0108\n",
      "Epoch 39/200\n",
      "2468/2468 [==============================] - 0s 93us/step - loss: 0.0067 - val_loss: 0.0108\n",
      "Epoch 40/200\n",
      "2468/2468 [==============================] - 0s 104us/step - loss: 0.0068 - val_loss: 0.0113\n",
      "Epoch 41/200\n",
      "2468/2468 [==============================] - 0s 88us/step - loss: 0.0066 - val_loss: 0.0108\n",
      "Epoch 42/200\n",
      "2468/2468 [==============================] - 0s 103us/step - loss: 0.0064 - val_loss: 0.0109\n",
      "Epoch 43/200\n",
      "2468/2468 [==============================] - 0s 96us/step - loss: 0.0066 - val_loss: 0.0112\n",
      "Epoch 44/200\n",
      "2468/2468 [==============================] - 0s 100us/step - loss: 0.0066 - val_loss: 0.0107\n",
      "Epoch 45/200\n",
      "2468/2468 [==============================] - 0s 112us/step - loss: 0.0065 - val_loss: 0.0108\n",
      "Epoch 46/200\n",
      "2468/2468 [==============================] - 0s 106us/step - loss: 0.0065 - val_loss: 0.0106\n",
      "Epoch 47/200\n",
      "2468/2468 [==============================] - 0s 74us/step - loss: 0.0063 - val_loss: 0.0114\n",
      "Epoch 48/200\n",
      "2468/2468 [==============================] - 0s 88us/step - loss: 0.0063 - val_loss: 0.0110\n",
      "('DONE. Mean Squared Error: ', 0.006935325536165456)\n"
     ]
    }
   ],
   "source": [
    "model_DL = train_model_DL(X_train,y_train,[200, 200])"
   ]
  },
  {
   "cell_type": "code",
   "execution_count": null,
   "metadata": {
    "collapsed": true
   },
   "outputs": [],
   "source": []
  },
  {
   "cell_type": "code",
   "execution_count": 34,
   "metadata": {},
   "outputs": [
    {
     "name": "stdout",
     "output_type": "stream",
     "text": [
      "making predictions...\n"
     ]
    }
   ],
   "source": [
    "print \"making predictions...\"\n",
    "preds1 = RF.predict(X_test)\n",
    "results1 = np.argmax(preds1, axis=1)\n",
    "\n",
    "results2 = SGD.predict(X_test)\n",
    "\n",
    "preds3 = model_DL.predict(X_test)\n",
    "results3 = np.argmax(preds3, axis=1)"
   ]
  },
  {
   "cell_type": "code",
   "execution_count": 35,
   "metadata": {},
   "outputs": [
    {
     "name": "stdout",
     "output_type": "stream",
     "text": [
      "writing predictions...\n"
     ]
    }
   ],
   "source": [
    "print \"writing predictions...\"\n",
    "outputfile1 = \"tfidf_tags_predictions1.csv\"\n",
    "outputfile2 = \"tfidf_tags_predictions2.csv\"\n",
    "outputfile3 = \"tfidf_tags_predictions3.csv\"\n",
    "util.write_predictions(results1, ids, outputfile1)\n",
    "util.write_predictions(results2, ids, outputfile2)\n",
    "util.write_predictions(results3, ids, outputfile3)"
   ]
  },
  {
   "cell_type": "code",
   "execution_count": 36,
   "metadata": {},
   "outputs": [],
   "source": [
    "import csv \n",
    "import sys \n",
    "\n",
    "def reorder_submission(file_to_reorder, newfile_name = \"experiment_results.csv\"):\n",
    "    # READ IN KEYS IN CORRECT ORDER AS LIST\n",
    "    with open('keys.csv','r') as f:\n",
    "        keyreader = csv.reader(f)\n",
    "        keys = [key[0] for key in keyreader]\n",
    "\n",
    "    # READ IN ALL PREDICTIONS, REGARDLESS OF ORDER\n",
    "    with open(file_to_reorder) as f:\n",
    "        oldfile_reader = csv.reader(f)\n",
    "        D = {}\n",
    "        for i,row in enumerate(oldfile_reader):\n",
    "            if i == 0:\n",
    "                continue\n",
    "            _id, pred = row \n",
    "            D[_id] = pred\n",
    "\n",
    "    # WRITE PREDICTIONS IN NEW ORDER\n",
    "    with open(newfile_name,'w') as f:\n",
    "        writer = csv.writer(f)\n",
    "        writer.writerow(('Id','Prediction'))\n",
    "        for key in keys:\n",
    "            writer.writerow((key,D[key]))\n",
    "\n",
    "    print(\"\".join([\"Reordered \", file_to_reorder,\" and wrote to \", newfile_name]))"
   ]
  },
  {
   "cell_type": "code",
   "execution_count": 37,
   "metadata": {},
   "outputs": [
    {
     "name": "stdout",
     "output_type": "stream",
     "text": [
      "Reordered tfidf_tags_predictions1.csv and wrote to tfidf_tags_rf_results.csv\n",
      "Reordered tfidf_tags_predictions2.csv and wrote to tfidf_tags_sgd_results.csv\n",
      "Reordered tfidf_tags_predictions3.csv and wrote to tfidf_tags_nn_results.csv\n"
     ]
    }
   ],
   "source": [
    "reorder_submission(outputfile1, \"tfidf_tags_rf_results.csv\")\n",
    "reorder_submission(outputfile2, \"tfidf_tags_sgd_results.csv\")\n",
    "reorder_submission(outputfile3, \"tfidf_tags_nn_results.csv\")"
   ]
  },
  {
   "cell_type": "code",
   "execution_count": null,
   "metadata": {
    "collapsed": true
   },
   "outputs": [],
   "source": []
  }
 ],
 "metadata": {
  "kernelspec": {
   "display_name": "Python 2",
   "language": "python",
   "name": "python2"
  },
  "language_info": {
   "codemirror_mode": {
    "name": "ipython",
    "version": 2
   },
   "file_extension": ".py",
   "mimetype": "text/x-python",
   "name": "python",
   "nbconvert_exporter": "python",
   "pygments_lexer": "ipython2",
   "version": "2.7.14"
  }
 },
 "nbformat": 4,
 "nbformat_minor": 2
}
